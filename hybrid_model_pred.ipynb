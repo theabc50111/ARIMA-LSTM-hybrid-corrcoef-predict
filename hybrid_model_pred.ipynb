{
 "cells": [
  {
   "cell_type": "code",
   "execution_count": 50,
   "id": "41660f84-97c9-4162-a708-f601b3b7a3a5",
   "metadata": {},
   "outputs": [
    {
     "name": "stdout",
     "output_type": "stream",
     "text": [
      "time: 787 µs (started: 2022-04-28 15:11:51 +00:00)\n"
     ]
    }
   ],
   "source": [
    "import numpy as np\n",
    "import matplotlib.pyplot as plt\n",
    "import pandas as pd\n",
    "import math\n",
    "import os\n",
    "import random\n",
    "from  pmdarima.arima import ARIMA, auto_arima\n",
    "from statsmodels.graphics.tsaplots import plot_acf, plot_pacf\n",
    "from keras.models import Sequential, load_model\n",
    "from keras.layers import Dense, LSTM, Activation\n",
    "from keras import backend as K\n",
    "from keras.utils.generic_utils import get_custom_objects\n",
    "from keras.callbacks import ModelCheckpoint\n",
    "from keras.regularizers import l1_l2\n",
    "import tensorflow.keras as keras\n",
    "import warnings\n",
    "warnings.simplefilter(\"ignore\")"
   ]
  },
  {
   "cell_type": "markdown",
   "id": "d1a012b1-6376-486e-b5dd-93c76929fc3c",
   "metadata": {
    "tags": []
   },
   "source": [
    "# Prepare data"
   ]
  },
  {
   "cell_type": "code",
   "execution_count": 51,
   "id": "6c9122d2-c042-40b8-b778-2209e017948b",
   "metadata": {},
   "outputs": [
    {
     "name": "stdout",
     "output_type": "stream",
     "text": [
      "time: 96.4 ms (started: 2022-04-28 15:11:52 +00:00)\n"
     ]
    }
   ],
   "source": [
    "df = pd.read_csv(\"./stock08_price.csv\")\n",
    "portfolio = ['CNP', 'WBA']"
   ]
  },
  {
   "cell_type": "code",
   "execution_count": 52,
   "id": "6f8da9c8-a1ac-45a3-9f88-5b8a53bc3304",
   "metadata": {},
   "outputs": [
    {
     "name": "stdout",
     "output_type": "stream",
     "text": [
      "time: 95.6 ms (started: 2022-04-28 15:11:53 +00:00)\n"
     ]
    }
   ],
   "source": [
    "stock_price_df = pd.read_csv(\"./stock08_price.csv\")\n",
    "pd.to_datetime(stock_price_df['Date'], format='%Y-%m-%d')\n",
    "stock_price_df = stock_price_df.set_index(pd.DatetimeIndex(stock_price_df['Date']))\n",
    "\n",
    "tmp_corr = stock_price_df[portfolio[0]].rolling(window=100).corr(stock_price_df[portfolio[1]])\n",
    "tmp_corr = tmp_corr.iloc[99::100][:21]\n",
    "unseen_data_df = pd.DataFrame(tmp_corr).reset_index().drop(['Date'],axis=1).T\n",
    "unseen_data_df.to_csv(\"./stock_correlation_prediction/use_hybrid_model/before_arima/unseen_data.csv\")"
   ]
  },
  {
   "cell_type": "markdown",
   "id": "ddb90226-62bf-4828-93bd-8cde9ee9cc35",
   "metadata": {
    "jp-MarkdownHeadingCollapsed": true,
    "tags": []
   },
   "source": [
    "### original data preprocess"
   ]
  },
  {
   "cell_type": "code",
   "execution_count": 3,
   "id": "91d8e6d8-5c7a-436b-9802-24940d69e016",
   "metadata": {},
   "outputs": [
    {
     "name": "stdout",
     "output_type": "stream",
     "text": [
      "time: 491 µs (started: 2022-04-28 08:55:14 +00:00)\n"
     ]
    }
   ],
   "source": [
    "def rolling_corr(item1,item2) :\n",
    "    #import data\n",
    "    stock_price_df = pd.read_csv(\"./stock08_price.csv\")\n",
    "    pd.to_datetime(stock_price_df['Date'], format='%Y-%m-%d')\n",
    "    stock_price_df = stock_price_df.set_index(pd.DatetimeIndex(stock_price_df['Date']))\n",
    "    \n",
    "    #calculate\n",
    "    df_pair = pd.concat([stock_price_df[item1], stock_price_df[item2]], axis=1)\n",
    "    df_corr = df_pair[item1].rolling(window=100).corr(df_pair[item2])\n",
    "    return df_corr"
   ]
  },
  {
   "cell_type": "code",
   "execution_count": 4,
   "id": "7e2e0278-a176-4008-a01e-fbf0146504fe",
   "metadata": {},
   "outputs": [
    {
     "name": "stdout",
     "output_type": "stream",
     "text": [
      "time: 117 ms (started: 2022-04-28 08:55:14 +00:00)\n"
     ]
    }
   ],
   "source": [
    "index_list = []\n",
    "for _ in range(100):\n",
    "    indices = []\n",
    "    for k in range(_, 2420,100):\n",
    "        indices.append(k)\n",
    "    index_list.append(indices)\n",
    "    \n",
    "data_matrix = []\n",
    "count = 0\n",
    "for i in range(2):\n",
    "    for j in range(1-i):\n",
    "        a = portfolio[i]\n",
    "        b = portfolio[1-j]\n",
    "        file_name = a + '_' + b\n",
    "            \n",
    "        corr_series = rolling_corr(a, b)[99:]\n",
    "        for _ in range(100):\n",
    "            corr_strided = list(corr_series[index_list[_]][:24]).copy()\n",
    "            data_matrix.append(corr_strided)\n",
    "            count+=1\n",
    "            if count % 1000 == 0 :\n",
    "                print(str(count)+' items preprocessed')\n",
    "                \n",
    "data_matrix = np.transpose(data_matrix)\n",
    "data_dictionary = {}\n",
    "for i in range(len(data_matrix)):\n",
    "    data_dictionary[str(i)] = data_matrix[i]\n",
    "data_df = pd.DataFrame(data_dictionary)\n",
    "data_df.to_csv('./stock_correlation_prediction/use_hybrid_model/dataset.csv')"
   ]
  },
  {
   "cell_type": "code",
   "execution_count": 5,
   "id": "ba90c777-98ab-4967-b3ff-bacdaccb2849",
   "metadata": {},
   "outputs": [
    {
     "name": "stdout",
     "output_type": "stream",
     "text": [
      "(100, 24)\n",
      "time: 2.29 ms (started: 2022-04-28 08:55:14 +00:00)\n"
     ]
    }
   ],
   "source": [
    "data_df = pd.read_csv('./stock_correlation_prediction/use_hybrid_model/dataset.csv')\n",
    "data_df = data_df.loc[:, ~data_df.columns.str.contains('^Unnamed')]\n",
    "print(data_df.shape)"
   ]
  },
  {
   "cell_type": "code",
   "execution_count": 6,
   "id": "7bcd7282-83be-4f0a-933b-ed0cb652927d",
   "metadata": {
    "tags": []
   },
   "outputs": [
    {
     "name": "stdout",
     "output_type": "stream",
     "text": [
      "(24, 100)\n",
      "         0         1         2         3         4         5         6   \\\n",
      "0  0.059740  0.083716  0.112548  0.147554  0.175401  0.204664  0.239121   \n",
      "1  0.853850  0.866527  0.875764  0.878951  0.884143  0.890690  0.895338   \n",
      "2  0.243517  0.284944  0.329033  0.371055  0.403507  0.427554  0.451566   \n",
      "3  0.564273  0.558247  0.556887  0.554903  0.563673  0.574147  0.580041   \n",
      "4  0.870768  0.873113  0.873268  0.876029  0.879022  0.881985  0.885425   \n",
      "\n",
      "         7         8         9   ...        90        91        92        93  \\\n",
      "0  0.281801  0.327192  0.351782  ...  0.342741  0.389158  0.433774  0.496796   \n",
      "1  0.899531  0.903189  0.904905  ... -0.241695 -0.266245 -0.272593 -0.226259   \n",
      "2  0.473680  0.486588  0.504278  ...  0.603275  0.621260  0.632354  0.636016   \n",
      "3  0.590937  0.604755  0.609349  ...  0.809650  0.813857  0.818798  0.830005   \n",
      "4  0.888059  0.890532  0.894558  ...  0.560232  0.546140  0.535070  0.532075   \n",
      "\n",
      "         94        95        96        97        98        99  \n",
      "0  0.588434  0.666379  0.747270  0.804252  0.815718  0.831460  \n",
      "1 -0.154596 -0.098774 -0.023423  0.049103  0.135314  0.191202  \n",
      "2  0.633473  0.633842  0.625043  0.610833  0.596302  0.579866  \n",
      "3  0.840094  0.848960  0.854894  0.858468  0.863683  0.866821  \n",
      "4  0.527733  0.533707  0.537125  0.540677  0.545564  0.550388  \n",
      "\n",
      "[5 rows x 100 columns]\n",
      "time: 6.63 ms (started: 2022-04-28 08:55:14 +00:00)\n"
     ]
    }
   ],
   "source": [
    "num_list = []\n",
    "for i in range(24):\n",
    "    num_list.append(str(i))\n",
    "data_df = data_df[num_list].copy()\n",
    "data_df = np.transpose(data_df)\n",
    "print(data_df.shape)\n",
    "print(data_df.head())"
   ]
  },
  {
   "cell_type": "code",
   "execution_count": 7,
   "id": "51ba3aa0-11a7-480c-8f32-43b80cd2535d",
   "metadata": {},
   "outputs": [
    {
     "name": "stdout",
     "output_type": "stream",
     "text": [
      "time: 2.47 ms (started: 2022-04-28 08:55:14 +00:00)\n"
     ]
    }
   ],
   "source": [
    "indices = [20*k for k in range(5)]\n",
    "data_df = pd.DataFrame(data_df[indices])\n",
    "\n",
    "unseen_data = []\n",
    "\n",
    "for i in range(data_df.shape[1]):\n",
    "    tmp = data_df[20*i].copy()\n",
    "    unseen_data.append(tmp[:21])\n",
    "    \n",
    "unseen_data = pd.DataFrame(unseen_data)\n",
    "\n",
    "unseen_data.to_csv('./stock_correlation_prediction/use_hybrid_model/before_arima/unseen_data.csv')"
   ]
  },
  {
   "cell_type": "code",
   "execution_count": null,
   "id": "adf03cb8-e1d0-413a-b998-983cce9a5307",
   "metadata": {},
   "outputs": [],
   "source": []
  },
  {
   "cell_type": "markdown",
   "id": "f7976949-33c7-45c0-b6e9-c8cace53672a",
   "metadata": {
    "tags": []
   },
   "source": [
    "# ARIMA model"
   ]
  },
  {
   "cell_type": "code",
   "execution_count": 53,
   "id": "58fc132c-411d-45e8-a62f-cebfe1ac9006",
   "metadata": {},
   "outputs": [
    {
     "name": "stdout",
     "output_type": "stream",
     "text": [
      "model1\n",
      "model2\n",
      "time: 92.4 ms (started: 2022-04-28 15:12:01 +00:00)\n"
     ]
    }
   ],
   "source": [
    "dataset = pd.read_csv('./stock_correlation_prediction/use_hybrid_model/before_arima/unseen_data.csv')\n",
    "dataset = dataset.loc[:,~dataset.columns.str.contains('Unnamed')]\n",
    "\n",
    "# model_110 = ARIMA(order=(1,1,0), mle_regression=True, suppress_warnings=True)\n",
    "# model_011 = ARIMA(order=(0,1,1), mle_regression=True, suppress_warnings=True)\n",
    "# model_111 = ARIMA(order=(1,1,1), mle_regression=True, suppress_warnings=True)\n",
    "# model_211 = ARIMA(order=(2,1,1), mle_regression=True, suppress_warnings=True)\n",
    "# model_210 = ARIMA(order=(2,1,0), mle_regression=True, suppress_warnings=True)\n",
    "model_110 = ARIMA(order=(1,1,0), out_of_sample_size=0, mle_regression=True, suppress_warnings=True)\n",
    "model_011 = ARIMA(order=(0,1,1), out_of_sample_size=0,  mle_regression=True, suppress_warnings=True)\n",
    "model_111 = ARIMA(order=(1,1,1), out_of_sample_size=0, mle_regression=True, suppress_warnings=True)\n",
    "model_211 = ARIMA(order=(2,1,1), out_of_sample_size=0, mle_regression=True, suppress_warnings=True)\n",
    "model_210 = ARIMA(order=(2,1,0), out_of_sample_size=0, mle_regression=True, suppress_warnings=True)\n",
    "model_330 = ARIMA(order=(3,3,0), out_of_sample_size=0, mle_regression=True, suppress_warnings=True)\n",
    "\n",
    "\n",
    "flag = 0\n",
    "c=0\n",
    "residual = []\n",
    "for s in np.array(dataset):\n",
    "    c+=1\n",
    "    try:\n",
    "        model1 = model_110.fit(s)\n",
    "        model = model1\n",
    "        print(\"model1\")\n",
    "\n",
    "        try:\n",
    "            model2 = model_011.fit(s)\n",
    "\n",
    "            if model.aic() <= model2.aic() :\n",
    "                pass\n",
    "            else :\n",
    "                model = model2\n",
    "                print(\"model2\")\n",
    "\n",
    "            try :\n",
    "                model3 = model_111.fit(s)\n",
    "                if model.aic() <= model3.aic() :\n",
    "                    pass\n",
    "                else :\n",
    "                    model = model3\n",
    "                    print(\"model3\")\n",
    "            except :\n",
    "                try:\n",
    "                    model4 = model_211.fit(s)\n",
    "\n",
    "                    if model.aic() <= model4.aic() :\n",
    "                        pass\n",
    "                    else:\n",
    "                        model = model4\n",
    "                        print(\"model4\")\n",
    "                except:\n",
    "                    try:\n",
    "                        model5 = model_210.fit(s)\n",
    "\n",
    "                        if model.aic() <= model5.aic():\n",
    "                            pass\n",
    "                        else :\n",
    "                            model = model5\n",
    "                            print(\"model5\")\n",
    "                    except :\n",
    "                        pass\n",
    "\n",
    "        except:\n",
    "            try:\n",
    "                model3 = model_111.fit(s)\n",
    "\n",
    "                if model.aic() <= model3.aic() :\n",
    "                    pass\n",
    "                else :\n",
    "                    model = model3\n",
    "                    print(\"model3\")\n",
    "            except :\n",
    "                try:\n",
    "                    model4 = model_211.fit(s)\n",
    "\n",
    "                    if model.aic() <= model4.aic() :\n",
    "                        pass\n",
    "                    else:\n",
    "                        model = model4\n",
    "                        print(\"model4\")\n",
    "                except:\n",
    "                    try:\n",
    "                        model5 = model_210.fit(s)\n",
    "\n",
    "                        if model.aic() <= model5.aic():\n",
    "                            pass\n",
    "                        else :\n",
    "                            model = model5\n",
    "                            print(\"model5\")\n",
    "                    except :\n",
    "                        pass\n",
    "\n",
    "    except:\n",
    "        try:\n",
    "            model2 = model_011.fit(s[i])\n",
    "            model = model2\n",
    "            print(\"model2\")\n",
    "\n",
    "            try :\n",
    "                model3 = model_111.fit(s[i])\n",
    "\n",
    "                if model.aic() <= model3.aic():\n",
    "                    pass\n",
    "                else:\n",
    "                    model = model3\n",
    "                    print(\"model3\")\n",
    "            except :\n",
    "                try:\n",
    "                    model4 = model_211.fit(s[i])\n",
    "\n",
    "                    if model.aic() <= model4.aic() :\n",
    "                        pass\n",
    "                    else:\n",
    "                        model = model4\n",
    "                        print(\"model4\")\n",
    "                except:\n",
    "                    try:\n",
    "                        model5 = model_210.fit(s[i])\n",
    "\n",
    "                        if model.aic() <= model5.aic():\n",
    "                            pass\n",
    "                        else :\n",
    "                            model = model5\n",
    "                            print(\"model5\")\n",
    "                    except :\n",
    "                        pass\n",
    "\n",
    "        except :\n",
    "            try:\n",
    "                model3 = model_111.fit(s[i])\n",
    "                model = model3\n",
    "                print(\"model3\")\n",
    "            except :\n",
    "                try:\n",
    "                    model4 = model_211.fit(s[i])\n",
    "\n",
    "                    if model.aic() <= model4.aic() :\n",
    "                        pass\n",
    "                    else:\n",
    "                        model = model4\n",
    "                        print(\"model4\")\n",
    "                except:\n",
    "                    try:\n",
    "                        model5 = model_210.fit(s[i])\n",
    "\n",
    "                        if model.aic() <= model5.aic():\n",
    "                            pass\n",
    "                        else :\n",
    "                            model = model5\n",
    "                            print(\"model5\")\n",
    "                    except :\n",
    "                        flag = 1\n",
    "                        print(str(c) + \" FATAL ERROR\")\n",
    "                        break\n",
    "\n",
    "                        \n",
    "    arima_pred = list(model.predict_in_sample())\n",
    "    arima_pred = [np.mean(arima_pred[1:])] + arima_pred[1:]\n",
    "\n",
    "    res = pd.Series(np.array(s) - np.array(arima_pred))\n",
    "    residual.append(np.array(res)[:20])\n",
    "\n",
    "\n",
    "    if flag == 1:\n",
    "        break\n",
    "residual = pd.DataFrame(residual)\n",
    "residual.to_csv('./stock_correlation_prediction/use_hybrid_model/unseen_residual_after_arima.csv')"
   ]
  },
  {
   "cell_type": "code",
   "execution_count": 49,
   "id": "5e2c8dd6-5d41-4973-958b-86ae2cedff4f",
   "metadata": {},
   "outputs": [
    {
     "data": {
      "image/png": "[encoded data removed]",
      "text/plain": [
       "<Figure size 432x288 with 1 Axes>"
      ]
     },
     "metadata": {
      "needs_background": "light"
     },
     "output_type": "display_data"
    },
    {
     "name": "stdout",
     "output_type": "stream",
     "text": [
      "time: 101 ms (started: 2022-04-28 14:43:29 +00:00)\n"
     ]
    }
   ],
   "source": [
    "arima_pred = model_330.fit(np.array(dataset)[0]).predict_in_sample()\n",
    "plt.plot(arima_pred, label=\"arima_pred\")\n",
    "plt.plot(dataset.T, label=\"data\")\n",
    "# plt.plot(res, label=\"res\")\n",
    "plt.legend()\n",
    "plt.show()\n",
    "plt.close()"
   ]
  },
  {
   "cell_type": "markdown",
   "id": "dfb455ad-4103-403d-a65f-ba8a13038295",
   "metadata": {},
   "source": [
    "# LSTM"
   ]
  },
  {
   "cell_type": "code",
   "execution_count": 54,
   "id": "35591071-44de-4a02-8dfa-fb85bb7ae29d",
   "metadata": {},
   "outputs": [
    {
     "name": "stdout",
     "output_type": "stream",
     "text": [
      "time: 427 ms (started: 2022-04-28 15:12:08 +00:00)\n"
     ]
    }
   ],
   "source": [
    "class Double_Tanh(Activation):\n",
    "    def __init__(self, activation, **kwargs):\n",
    "        super(Double_Tanh, self).__init__(activation, **kwargs)\n",
    "        self.__name__ = 'double_tanh'\n",
    "\n",
    "def double_tanh(x):\n",
    "    return (K.tanh(x) * 2)\n",
    "\n",
    "get_custom_objects().update({'double_tanh':Double_Tanh(double_tanh)})\n",
    "\n",
    "unseen_res = residual.values.reshape((-1,20,1))\n",
    "filepath = './stock_correlation_prediction/models/hybrid_LSTM/epoch262.h5'\n",
    "custom_objects = {\"Double_Tanh\": Double_Tanh}\n",
    "with keras.utils.custom_object_scope(custom_objects):\n",
    "    model = load_model(filepath)\n",
    "    lstm_pred = model.predict(unseen_res)"
   ]
  },
  {
   "cell_type": "code",
   "execution_count": 59,
   "id": "dfab0284-e8e3-4972-8875-a7d575a96c35",
   "metadata": {},
   "outputs": [
    {
     "name": "stdout",
     "output_type": "stream",
     "text": [
      "lstm pred:[[0.03877307]], arima_pred: 0.18902656671614293, hybrid_model_pred=0.22779963401169423, ground truth: 0.2300556621642169\n",
      "time: 734 µs (started: 2022-04-28 15:13:48 +00:00)\n"
     ]
    }
   ],
   "source": [
    "print(f\"lstm pred:{lstm_pred}, arima_pred: {arima_pred[-1]}, hybrid_model_pred={arima_pred[-1]+lstm_pred[0][0]}, ground truth: {dataset.iloc[0, -1]}\")"
   ]
  },
  {
   "cell_type": "code",
   "execution_count": null,
   "id": "dde7df71-a897-419e-bcff-3c8fe6a7297b",
   "metadata": {},
   "outputs": [],
   "source": []
  }
 ],
 "metadata": {
  "kernelspec": {
   "display_name": "Python 3 (ipykernel)",
   "language": "python",
   "name": "python3"
  },
  "language_info": {
   "codemirror_mode": {
    "name": "ipython",
    "version": 3
   },
   "file_extension": ".py",
   "mimetype": "text/x-python",
   "name": "python",
   "nbconvert_exporter": "python",
   "pygments_lexer": "ipython3",
   "version": "3.8.10"
  }
 },
 "nbformat": 4,
 "nbformat_minor": 5
}
