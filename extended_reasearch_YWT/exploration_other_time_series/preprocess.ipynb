{
 "cells": [
  {
   "cell_type": "code",
   "execution_count": 1,
   "id": "50940a49-f60b-4b72-8931-545ba7e8b190",
   "metadata": {},
   "outputs": [
    {
     "name": "stdout",
     "output_type": "stream",
     "text": [
      "time: 224 ms (started: 2022-08-15 16:40:01 +00:00)\n"
     ]
    }
   ],
   "source": [
    "import pandas as pd\n",
    "from pathlib import Path"
   ]
  },
  {
   "cell_type": "code",
   "execution_count": 2,
   "id": "cfabc626-6ac4-4cd3-979c-5952703eecac",
   "metadata": {},
   "outputs": [
    {
     "name": "stdout",
     "output_type": "stream",
     "text": [
      "time: 9.37 ms (started: 2022-08-15 16:40:02 +00:00)\n"
     ]
    }
   ],
   "source": [
    "file_name = 'tw50_hold_20082018_adj_close.csv'\n",
    "file_path = './dataset/raw_data/'\n",
    "raw_data = pd.read_csv(Path(file_path)/file_name).set_index('Date')"
   ]
  },
  {
   "cell_type": "markdown",
   "id": "4c3c8ba6-119c-43e5-b339-1cec1c22b61b",
   "metadata": {},
   "source": [
    "# Sort Data"
   ]
  },
  {
   "cell_type": "code",
   "execution_count": 3,
   "id": "7b066e14-92f5-429d-b299-5c3158750fa0",
   "metadata": {},
   "outputs": [
    {
     "name": "stdout",
     "output_type": "stream",
     "text": [
      "<class 'pandas.core.frame.DataFrame'>\n",
      "Index: 2519 entries, 2008-01-03 to 2018-03-13\n",
      "Data columns (total 47 columns):\n",
      " #   Column            Non-Null Count  Dtype  \n",
      "---  ------            --------------  -----  \n",
      " 0   台積電_adj_close     2519 non-null   float64\n",
      " 1   鴻海_adj_close      2518 non-null   float64\n",
      " 2   聯發科_adj_close     2518 non-null   float64\n",
      " 3   台達電_adj_close     2519 non-null   float64\n",
      " 4   聯電_adj_close      2519 non-null   float64\n",
      " 5   中華電_adj_close     2476 non-null   float64\n",
      " 6   台塑_adj_close      2519 non-null   float64\n",
      " 7   中信金_adj_close     2519 non-null   float64\n",
      " 8   富邦金_adj_close     2519 non-null   float64\n",
      " 9   兆豐金_adj_close     2519 non-null   float64\n",
      " 10  南亞_adj_close      2519 non-null   float64\n",
      " 11  國泰金_adj_close     2519 non-null   float64\n",
      " 12  玉山金_adj_close     2519 non-null   float64\n",
      " 13  中鋼_adj_close      2519 non-null   float64\n",
      " 14  統一_adj_close      2518 non-null   float64\n",
      " 15  中租-KY_adj_close   1536 non-null   float64\n",
      " 16  第一金_adj_close     2519 non-null   float64\n",
      " 17  合庫金_adj_close     1544 non-null   float64\n",
      " 18  長榮_adj_close      2519 non-null   float64\n",
      " 19  元大金_adj_close     2519 non-null   float64\n",
      " 20  台化_adj_close      2519 non-null   float64\n",
      " 21  華南金_adj_close     2519 non-null   float64\n",
      " 22  台泥_adj_close      2517 non-null   float64\n",
      " 23  開發金_adj_close     2519 non-null   float64\n",
      " 24  廣達_adj_close      2519 non-null   float64\n",
      " 25  大立光_adj_close     2519 non-null   float64\n",
      " 26  欣興_adj_close      2519 non-null   float64\n",
      " 27  和泰車_adj_close     2519 non-null   float64\n",
      " 28  華碩_adj_close      2493 non-null   float64\n",
      " 29  台新金_adj_close     2508 non-null   float64\n",
      " 30  台灣大_adj_close     2501 non-null   float64\n",
      " 31  瑞昱_adj_close      2519 non-null   float64\n",
      " 32  陽明_adj_close      2510 non-null   float64\n",
      " 33  統一超_adj_close     2518 non-null   float64\n",
      " 34  國巨_adj_close      2484 non-null   float64\n",
      " 35  聯詠_adj_close      2519 non-null   float64\n",
      " 36  萬海_adj_close      2519 non-null   float64\n",
      " 37  矽力*-KY_adj_close  1039 non-null   float64\n",
      " 38  研華_adj_close      2519 non-null   float64\n",
      " 39  友達_adj_close      2519 non-null   float64\n",
      " 40  亞德客-KY_adj_close  1784 non-null   float64\n",
      " 41  遠傳_adj_close      2506 non-null   float64\n",
      " 42  彰銀_adj_close      2519 non-null   float64\n",
      " 43  台塑化_adj_close     2519 non-null   float64\n",
      " 44  豐泰_adj_close      2519 non-null   float64\n",
      " 45  南電_adj_close      2519 non-null   float64\n",
      " 46  南亞科_adj_close     2501 non-null   float64\n",
      "dtypes: float64(47)\n",
      "memory usage: 944.6+ KB\n"
     ]
    },
    {
     "data": {
      "text/plain": [
       "None"
      ]
     },
     "metadata": {},
     "output_type": "display_data"
    },
    {
     "name": "stdout",
     "output_type": "stream",
     "text": [
      "time: 9.78 ms (started: 2022-08-15 16:40:02 +00:00)\n"
     ]
    }
   ],
   "source": [
    "sort_pre_df = raw_data.sort_values('Date')\n",
    "display(sort_pre_df.info())"
   ]
  },
  {
   "cell_type": "markdown",
   "id": "bd5ed99b-35cb-4ba6-8dea-5cbf262d1b6e",
   "metadata": {},
   "source": [
    "# Missing Data"
   ]
  },
  {
   "cell_type": "code",
   "execution_count": 4,
   "id": "5ba16aaa-a246-41d9-a03b-d58667e97378",
   "metadata": {},
   "outputs": [
    {
     "name": "stdout",
     "output_type": "stream",
     "text": [
      "time: 40.9 ms (started: 2022-08-15 16:40:02 +00:00)\n"
     ]
    }
   ],
   "source": [
    "na_mask = sort_pre_df.isna().sum() < len(raw_data)*0.01 # null values ratio==1%\n",
    "na_pre_df = sort_pre_df.iloc[::, na_mask.tolist()]\n",
    "na_pre_df = na_pre_df.fillna(method='ffill')\n",
    "na_pre_df = na_pre_df.fillna(method='bfill')\n",
    "if na_pre_df.isna().sum().sum() == 0:\n",
    "    na_pre_df.to_csv(Path(file_path).parent/(str(Path(file_name).stem) + \"_pre\" + str(Path(file_name).suffix)))\n",
    "else:\n",
    "    print(na_pre_df.iloc[::, (na_pre_df.isna().sum()>0).tolist()])\n",
    "    raise Exception(f'Still has {na_pre_df.isna().sum().sum()} null value')"
   ]
  },
  {
   "cell_type": "code",
   "execution_count": null,
   "id": "d8ed70ae-93c1-47a1-860d-a43284fb6c4b",
   "metadata": {},
   "outputs": [],
   "source": []
  }
 ],
 "metadata": {
  "kernelspec": {
   "display_name": "Python 3 (ipykernel)",
   "language": "python",
   "name": "python3"
  },
  "language_info": {
   "codemirror_mode": {
    "name": "ipython",
    "version": 3
   },
   "file_extension": ".py",
   "mimetype": "text/x-python",
   "name": "python",
   "nbconvert_exporter": "python",
   "pygments_lexer": "ipython3",
   "version": "3.8.10"
  }
 },
 "nbformat": 4,
 "nbformat_minor": 5
}
