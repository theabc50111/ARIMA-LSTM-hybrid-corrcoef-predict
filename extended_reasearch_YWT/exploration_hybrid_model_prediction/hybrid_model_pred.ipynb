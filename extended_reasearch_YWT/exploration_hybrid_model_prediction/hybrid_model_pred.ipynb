{
 "cells": [
  {
   "cell_type": "code",
   "execution_count": 1,
   "id": "41660f84-97c9-4162-a708-f601b3b7a3a5",
   "metadata": {},
   "outputs": [
    {
     "name": "stdout",
     "output_type": "stream",
     "text": [
      "time: 1.91 s (started: 2022-07-03 14:48:32 +00:00)\n"
     ]
    }
   ],
   "source": [
    "import numpy as np\n",
    "import matplotlib.pyplot as plt\n",
    "import seaborn as sns\n",
    "import pandas as pd\n",
    "import math\n",
    "import os\n",
    "import random\n",
    "from tqdm import tqdm\n",
    "from itertools import combinations\n",
    "from sklearn.metrics import mean_squared_error, mean_absolute_error\n",
    "from  pmdarima.arima import ARIMA, auto_arima\n",
    "from statsmodels.graphics.tsaplots import plot_acf, plot_pacf\n",
    "from statsmodels.tsa.seasonal import seasonal_decompose\n",
    "from scipy import stats as st\n",
    "from sklearn.linear_model import LinearRegression\n",
    "from keras.models import Sequential, load_model\n",
    "from keras.layers import Dense, LSTM, Activation\n",
    "from keras import backend as K\n",
    "from keras.utils.generic_utils import get_custom_objects\n",
    "from keras.callbacks import ModelCheckpoint\n",
    "from keras.regularizers import l1_l2\n",
    "import tensorflow.keras as keras\n",
    "import warnings\n",
    "warnings.simplefilter(\"ignore\")\n",
    "\n",
    "%load_ext pycodestyle_magic\n",
    "%pycodestyle_on --ignore E501\n",
    "%pycodestyle_off"
   ]
  },
  {
   "cell_type": "markdown",
   "id": "d1a012b1-6376-486e-b5dd-93c76929fc3c",
   "metadata": {
    "tags": []
   },
   "source": [
    "# Prepare data"
   ]
  },
  {
   "cell_type": "code",
   "execution_count": 2,
   "id": "dec99233-f96e-42c6-acc0-123e2ab6ceb6",
   "metadata": {},
   "outputs": [
    {
     "name": "stdout",
     "output_type": "stream",
     "text": [
      "150 445 295\n",
      "time: 111 ms (started: 2022-07-03 14:48:34 +00:00)\n"
     ]
    }
   ],
   "source": [
    "stock_price_df = pd.read_csv(\"../../stock08_price.csv\")\n",
    "\n",
    "universe = list(stock_price_df.columns.values[1:])\n",
    "universe.remove(\"SP500\")\n",
    "# train data\n",
    "portfolio_train = ['CELG', 'PXD', 'WAT', 'LH', 'AMGN', 'AOS', 'EFX', 'CRM', 'NEM', 'JNPR', 'LB', 'CTAS', 'MAT', 'MDLZ', 'VLO', 'APH', 'ADM', 'MLM', 'BK', 'NOV', 'BDX', 'RRC', 'IVZ', 'ED', 'SBUX', 'GRMN', 'CI', 'ZION', 'COO', 'TIF', 'RHT', 'FDX', 'LLL', 'GLW', 'GPN', 'IPGP', 'GPC', 'HPQ', 'ADI', 'AMG', 'MTB', 'YUM', 'SYK', 'KMX', 'AME', 'AAP', 'DAL', 'A', 'MON', 'BRK', 'BMY', 'KMB', 'JPM', 'CCI', 'AET', 'DLTR', 'MGM', 'FL', 'HD', 'CLX', 'OKE', 'UPS', 'WMB', 'IFF', 'CMS', 'ARNC', 'VIAB', 'MMC', 'REG', 'ES', 'ITW', 'NDAQ', 'AIZ', 'VRTX', 'CTL', 'QCOM', 'MSI', 'NKTR', 'AMAT', 'BWA', 'ESRX', 'TXT', 'EXR', 'VNO', 'BBT', 'WDC', 'UAL', 'PVH', 'NOC', 'PCAR', 'NSC', 'UAA', 'FFIV', 'PHM', 'LUV', 'HUM', 'SPG', 'SJM', 'ABT', 'CMG', 'ALK', 'ULTA', 'TMK', 'TAP', 'SCG', 'CAT', 'TMO', 'AES', 'MRK', 'RMD', 'MKC', 'WU', 'ACN', 'HIG', 'TEL', 'DE', 'ATVI', 'O', 'UNM', 'VMC', 'ETFC', 'CMA', 'NRG', 'RHI', 'RE', 'FMC', 'MU', 'CB', 'LNT', 'GE', 'CBS', 'ALGN', 'SNA', 'LLY', 'LEN', 'MAA', 'OMC', 'F', 'APA', 'CDNS', 'SLG', 'HP', 'XLNX', 'SHW', 'AFL', 'STT', 'PAYX', 'AIG', 'FOX', 'MA']\n",
    "# all data\n",
    "portfolio_all = universe\n",
    "# all data - train data\n",
    "portfolio_other = [p for p in universe if p not in portfolio_train]\n",
    "print(len(portfolio_train), len(portfolio_all), len(portfolio_other))\n",
    "\n",
    "pd.to_datetime(stock_price_df['Date'], format='%Y-%m-%d')\n",
    "stock_price_df = stock_price_df.set_index(pd.DatetimeIndex(stock_price_df['Date']))\n",
    "# display(stock_price_df)"
   ]
  },
  {
   "cell_type": "code",
   "execution_count": 3,
   "id": "5303e902-4c2a-43c2-86a7-cbc68d096625",
   "metadata": {
    "tags": []
   },
   "outputs": [
    {
     "name": "stdout",
     "output_type": "stream",
     "text": [
      "time: 676 µs (started: 2022-07-03 14:48:35 +00:00)\n"
     ]
    }
   ],
   "source": [
    "def gen_unseen_data_corr(portfolio: list, ret_date: bool = False) -> \"pd.DataFrame, pd.Series | pd.DataFrame\":\n",
    "    tmp_corr = stock_price_df[portfolio[0]].rolling(window=100).corr(stock_price_df[portfolio[1]])\n",
    "    tmp_corr = tmp_corr.iloc[99::100]\n",
    "    corr_series = tmp_corr[len(tmp_corr)-21:len(tmp_corr)]\n",
    "    # tmp_corr = tmp_corr[:21]\n",
    "    unseen_data_df = pd.DataFrame(corr_series).reset_index().drop(['Date'], axis=1).T\n",
    "    if ret_date:\n",
    "        return unseen_data_df, corr_series\n",
    "    else:\n",
    "        return unseen_data_df"
   ]
  },
  {
   "cell_type": "markdown",
   "id": "f7976949-33c7-45c0-b6e9-c8cace53672a",
   "metadata": {
    "tags": []
   },
   "source": [
    "# ARIMA model"
   ]
  },
  {
   "cell_type": "code",
   "execution_count": null,
   "id": "9c7ee34a-a8f6-4609-9e69-cfa66bc19100",
   "metadata": {},
   "outputs": [],
   "source": [
    "def arima_model(dataset: \"pd.DataFrame\", portfolio: list, overview: bool = False) -> (\"np.array\", \"pd.DataFrame\", str):\n",
    "    model_110 = ARIMA(order=(1, 1, 0), out_of_sample_size=0, mle_regression=True, suppress_warnings=True)\n",
    "    model_011 = ARIMA(order=(0, 1, 1), out_of_sample_size=0, mle_regression=True, suppress_warnings=True)\n",
    "    model_111 = ARIMA(order=(1, 1, 1), out_of_sample_size=0, mle_regression=True, suppress_warnings=True)\n",
    "    model_211 = ARIMA(order=(2, 1, 1), out_of_sample_size=0, mle_regression=True, suppress_warnings=True)\n",
    "    model_210 = ARIMA(order=(2, 1, 0), out_of_sample_size=0, mle_regression=True, suppress_warnings=True)\n",
    "    model_330 = ARIMA(order=(3, 3, 0), out_of_sample_size=0, mle_regression=True, suppress_warnings=True)\n",
    "\n",
    "    model_dict = {\"model_110\": model_110, \"model_011\": model_011, \"model_111\": model_111, \"model_211\": model_211, \"model_210\": model_210}\n",
    "\n",
    "    tested_models = []\n",
    "    arima_model = None\n",
    "    find_arima_model = False\n",
    "    residual = []\n",
    "    for s in np.array(dataset):\n",
    "        while not find_arima_model:\n",
    "            try:\n",
    "                for model_key in model_dict:\n",
    "                    if model_key not in tested_models:\n",
    "                        test_model = model_dict[model_key].fit(s)\n",
    "                        if arima_model is None:\n",
    "                            arima_model = test_model\n",
    "                            arima_model_name = model_key\n",
    "                        elif arima_model.aic() <= test_model.aic():\n",
    "                            pass\n",
    "                        else:\n",
    "                            arima_model = test_model\n",
    "                            arima_model_name = model_key\n",
    "                    tested_models.append(model_key)\n",
    "\n",
    "            except Exception:\n",
    "                if len(model_dict)-1 != 0:\n",
    "                    del model_dict[model_key]\n",
    "                else:\n",
    "                    print(f\"fatal error, {portfolio} doesn't have appropriate arima model\")\n",
    "                    break\n",
    "            else:\n",
    "                model_dict = {\"model_110\": model_110, \"model_011\": model_011, \"model_111\": model_111, \"model_211\": model_211, \"model_210\": model_210, \"model_330\": model_330}\n",
    "                tested_models.clear()\n",
    "                find_arima_model = True\n",
    "\n",
    "        arima_pred = list(arima_model.predict_in_sample())\n",
    "        arima_pred = [np.mean(arima_pred[1:])] + arima_pred[1:]\n",
    "        arima_pred = np.clip(np.array(arima_pred), -1, 1)\n",
    "\n",
    "        res = pd.Series(np.array(s) - arima_pred)\n",
    "        residual.append(np.array(res)[:20])\n",
    "        find_arima_model = False\n",
    "    residual = pd.DataFrame(residual)\n",
    "\n",
    "    if overview:\n",
    "        plt.plot(arima_pred, label=\"arima_pred\")\n",
    "        plt.plot(dataset.T, label=\"data\")\n",
    "        plt.plot(res, label=\"res\")\n",
    "        plt.legend()\n",
    "        plt.show()\n",
    "        plt.close()\n",
    "\n",
    "    return arima_pred, residual, arima_model_name"
   ]
  },
  {
   "cell_type": "markdown",
   "id": "dfb455ad-4103-403d-a65f-ba8a13038295",
   "metadata": {
    "tags": []
   },
   "source": [
    "# LSTM"
   ]
  },
  {
   "cell_type": "code",
   "execution_count": null,
   "id": "35591071-44de-4a02-8dfa-fb85bb7ae29d",
   "metadata": {
    "tags": []
   },
   "outputs": [],
   "source": [
    "class DoubleTanh(Activation):\n",
    "    def __init__(self, activation, **kwargs):\n",
    "        super(DoubleTanh, self).__init__(activation, **kwargs)\n",
    "        self.__name__ = 'double_tanh'\n",
    "\n",
    "\n",
    "def double_tanh(x):\n",
    "    return (K.tanh(x) * 2)\n",
    "\n",
    "\n",
    "get_custom_objects().update({'double_tanh': DoubleTanh(double_tanh)})\n",
    "\n",
    "filepath = './stock_correlation_prediction/models/hybrid_LSTM/epoch262.h5'\n",
    "custom_objects = {\"Double_Tanh\": DoubleTanh}\n",
    "with keras.utils.custom_object_scope(custom_objects):\n",
    "    lstm_model = load_model(filepath)"
   ]
  },
  {
   "cell_type": "markdown",
   "id": "65707dce-375f-4d15-84fd-e4edf9133cac",
   "metadata": {
    "tags": []
   },
   "source": [
    "# Hybrid model"
   ]
  },
  {
   "cell_type": "code",
   "execution_count": 4,
   "id": "dc480765-0e8f-4012-b4d6-40954dda0a43",
   "metadata": {},
   "outputs": [
    {
     "name": "stdout",
     "output_type": "stream",
     "text": [
      "time: 940 µs (started: 2022-07-03 14:48:41 +00:00)\n"
     ]
    }
   ],
   "source": [
    "def stl_decompn(corr_series: \"pd.Series\", overview: bool = False) -> (float, float, float):\n",
    "    output_resid = 100000\n",
    "    output_trend = None\n",
    "    output_period = None\n",
    "    for p in range(2, 11):\n",
    "        decompose_result_mult = seasonal_decompose(corr_series, period=p)\n",
    "        resid_sum = np.abs(decompose_result_mult.resid).mean()\n",
    "        if output_resid > resid_sum:\n",
    "            output_resid = resid_sum\n",
    "            output_trend = decompose_result_mult.trend.dropna()\n",
    "            output_period = p\n",
    "    \n",
    "    reg = LinearRegression().fit(np.arange(len(output_trend)).reshape(-1, 1), output_trend)\n",
    "\n",
    "    if overview:\n",
    "        decompose_result_mult = seasonal_decompose(corr_series, period=output_period)\n",
    "        trend = decompose_result_mult.trend.dropna().reset_index(drop=True)\n",
    "        plt.figure(figsize=(7, 1))\n",
    "        plt.plot(trend)\n",
    "        plt.plot([0, len(trend)], [reg.intercept_, reg.intercept_+len(trend)*reg.coef_])\n",
    "        plt.title(\"trend & regression line\")\n",
    "        plt.show()\n",
    "        plt.close()\n",
    "        decompose_result_mult.plot()\n",
    "        plt.show()\n",
    "        plt.close()\n",
    "\n",
    "    return output_period, output_resid, output_trend.std(), reg.coef_[0]"
   ]
  },
  {
   "cell_type": "code",
   "execution_count": null,
   "id": "f113b850-5406-481e-bcbd-a6831edb95c7",
   "metadata": {
    "tags": []
   },
   "outputs": [],
   "source": [
    "res_list = []\n",
    "count = 0\n",
    "for portfolio in tqdm(combinations(portfolio_other, 2)):\n",
    "    # unseen_data_corr = gen_unseen_data_corr(portfolio)\n",
    "    unseen_data_corr_df, unseen_data_corr_series = gen_unseen_data_corr(portfolio, ret_date=True)\n",
    "    arima_pred, residual, arima_model_name = arima_model(unseen_data_corr_df, portfolio)\n",
    "    unseen_res = residual.values.reshape((-1, 20, 1))\n",
    "    lstm_pred = lstm_model.predict(unseen_res)\n",
    "    season_period, stl_resid, stl_trend_std, coef_reg_trend = stl_decompn(unseen_data_corr_series)\n",
    "    portfolio_res_dic = {\"portfolio\": f\"{portfolio[0]} & {portfolio[1]}\",\n",
    "                         \"corr_ser_mean\": unseen_data_corr_series.mean(),\n",
    "                         \"corr_ser_std\": unseen_data_corr_series.std(),\n",
    "                         \"corr_season_period\": season_period,\n",
    "                         \"corr_stl_resid\": stl_resid,\n",
    "                         \"corr_stl_trend_std\": stl_trend_std,\n",
    "                         \"corr_trend_coef\": coef_reg_trend,\n",
    "                         \"arima_model\": arima_model_name,\n",
    "                         \"lstm_pred\": lstm_pred[0][0],\n",
    "                         \"arima_pred\": arima_pred[-1],\n",
    "                         \"hybrid_model_pred\": arima_pred[-1]+lstm_pred[0][0],\n",
    "                         \"ground_truth\": unseen_data_corr_df.iloc[0, -1],\n",
    "                         \"arima_err\": unseen_data_corr_df.iloc[0, -1] - arima_pred[-1],\n",
    "                         \"lstm_compen_err\": arima_pred[-1] - lstm_pred[0][0],\n",
    "                         \"error\": (unseen_data_corr_df.iloc[0, -1] - (arima_pred[-1]+lstm_pred[0][0])),\n",
    "                         \"absolute_err\": math.copysign((unseen_data_corr_df.iloc[0, -1] - (arima_pred[-1]+lstm_pred[0][0])), 1), \n",
    "                         \"lstm_compensation_dir\": np.sign(unseen_data_corr_df.iloc[0, -1] - arima_pred[-1])*np.sign(lstm_pred[0][0])}\n",
    "\n",
    "    res_list.append(portfolio_res_dic)\n",
    "    #count = count + 1\n",
    "    #if count > 10:\n",
    "    #    break"
   ]
  },
  {
   "cell_type": "code",
   "execution_count": null,
   "id": "dde7df71-a897-419e-bcff-3c8fe6a7297b",
   "metadata": {
    "tags": []
   },
   "outputs": [],
   "source": [
    "res_df = pd.DataFrame(res_list)\n",
    "res_df.to_csv(\"./stock_correlation_prediction/use_hybrid_model/295stocks_res.csv\", index=False)"
   ]
  },
  {
   "cell_type": "markdown",
   "id": "b6d8daca-b55f-4a00-b162-4968bf696c50",
   "metadata": {},
   "source": [
    "# Display results"
   ]
  },
  {
   "cell_type": "code",
   "execution_count": null,
   "id": "f84895d7-ae0e-4cf9-9ecc-2adf76c38462",
   "metadata": {
    "tags": []
   },
   "outputs": [],
   "source": [
    "res_df = pd.read_csv(\"./stock_correlation_prediction/use_hybrid_model/295stocks_res.csv\")\n",
    "display(res_df)"
   ]
  },
  {
   "cell_type": "code",
   "execution_count": null,
   "id": "73c94193-1825-45f3-92fb-5d252cdae48f",
   "metadata": {},
   "outputs": [],
   "source": [
    "display(f\"mse :{(res_df['error']**2).mean()}\",\n",
    "        f\"std of square_err :{(res_df['error']**2).std()}\",\n",
    "        f\"rmse :{np.sqrt((res_df['error']**2).mean())}\",\n",
    "        f\"mae : {res_df['absolute_err'].mean()}\",\n",
    "        f\"std of abs_err: {res_df['absolute_err'].std()}\")"
   ]
  },
  {
   "cell_type": "code",
   "execution_count": null,
   "id": "b7b7c64a-f3c7-4b5d-93bc-737c4ae4bf67",
   "metadata": {
    "tags": []
   },
   "outputs": [],
   "source": [
    "def stock_analysis(target_df: pd.core.frame.DataFrame):\n",
    "    target_df['std_of_price_p1'] = target_df.apply(lambda row:stock_price_df[row['portfolio'].split(\" & \")[0]].std(), axis=1)\n",
    "\n",
    "\n",
    "def plot_exploration(target_df: pd.core.frame.DataFrame) -> None:\n",
    "    target_df['arima_err'] = target_df['ground_truth'] - target_df['arima_pred']\n",
    "    target_df['lstm_compen_err'] = target_df['arima_err'] - target_df['lstm_pred']\n",
    "    fig, axes = plt.subplots(figsize=(20, 20), nrows=6, ncols=2, sharex=False, sharey=False, dpi=100)\n",
    "    s0 = axes[0, 0]\n",
    "    s0.set_title(\"ABS_err violin\")\n",
    "    sns.violinplot(y=target_df[\"absolute_err\"], ax=s0)\n",
    "    s1 = axes[0, 1]\n",
    "    s1.set_title(\"Err violin\")\n",
    "    sns.violinplot(y=target_df[\"error\"], ax=s1)\n",
    "    s2 = axes[1, 0]\n",
    "    s2.set_title(\"ABS_err hist\")\n",
    "    target_df['absolute_err'].hist(bins=[b/10 for b in range(11)], ax=s2)\n",
    "    s3 = axes[1, 1]\n",
    "    s3.set_title(\"Err hist\")\n",
    "    target_df['error'].hist(bins=[b/10 for b in range(-10, 11)], ax=s3)\n",
    "    s4 = axes[2, 0]\n",
    "    s4.set_title(\"LSTM_compensation_dir count\")\n",
    "    sns.countplot(x=\"lstm_compensation_dir\", data=target_df, ax=s4)\n",
    "    s6 = axes[3, 0]\n",
    "    s6.set_title(\"ARIMA_model prediction Err violin group by LSTM_compensation_dir\")\n",
    "    sns.violinplot(x=target_df[\"lstm_compensation_dir\"], y=target_df[\"arima_err\"], ax=s6)\n",
    "    s7 = axes[3, 1]\n",
    "    s7.set_title(\"LSTM_model compensation Err violin group by LSTM_compensation_dir\")\n",
    "    sns.violinplot(x=target_df[\"lstm_compensation_dir\"], y=target_df[\"lstm_compen_err\"], ax=s7)\n",
    "    s8 = axes[4, 0]\n",
    "    s8.set_title(\"ARIMA_model prediction magnitude group by LSTM_compensation_dir\")\n",
    "    sns.violinplot(x=target_df[\"lstm_compensation_dir\"], y=target_df[\"arima_pred\"], ax=s8)\n",
    "    s9 = axes[4, 1]\n",
    "    s9.set_title(\"LSTM compensation magnitude group by LSTM_compensation_dir\")\n",
    "    sns.violinplot(x=target_df[\"lstm_compensation_dir\"], y=target_df[\"lstm_pred\"], ax=s9)\n",
    "    s10 = axes[5, 0]\n",
    "    s10.set_title(\"Correlation magnitude group by LSTM_compensation_dir\")\n",
    "    sns.violinplot(x=target_df[\"lstm_compensation_dir\"], y=target_df[\"ground_truth\"], ax=s10)\n",
    "    s11 = axes[5, 1]\n",
    "    s11.set_title(\"Hybrid Err violin group by LSTM_compensation_dir\")\n",
    "    sns.violinplot(x=target_df[\"lstm_compensation_dir\"], y=target_df[\"error\"], ax=s11)\n",
    "    plt.tight_layout()\n",
    "    plt.savefig(\"./stock_correlation_prediction/first21_hybrid_prediction_analysis.png\")\n",
    "    plt.show()\n",
    "    plt.close()"
   ]
  },
  {
   "cell_type": "code",
   "execution_count": null,
   "id": "cd1744bf-81d8-41c5-9a84-4494e55231db",
   "metadata": {
    "tags": []
   },
   "outputs": [],
   "source": [
    "display(res_df)\n",
    "cal_attr_of_df(res_df)\n",
    "display(res_df)"
   ]
  },
  {
   "cell_type": "code",
   "execution_count": null,
   "id": "95268f13-814c-43d0-99e6-90c35be51252",
   "metadata": {},
   "outputs": [],
   "source": [
    "unseen_data_corr_df, unseen_data_corr_series = gen_unseen_data_corr(['RCL', 'CXO'], ret_date=True)\n",
    "np.mean(unseen_data_corr_series), np.std(unseen_data_corr_series, ddof=1), st.sem(unseen_data_corr_series), st.sem(unseen_data_corr_series)*21**0.5"
   ]
  },
  {
   "cell_type": "code",
   "execution_count": 6,
   "id": "f4f804c7-89e9-49bd-b23d-1a3dd2941030",
   "metadata": {
    "tags": []
   },
   "outputs": [
    {
     "data": {
      "image/png": "[encoded data removed]",
      "text/plain": [
       "<Figure size 504x72 with 1 Axes>"
      ]
     },
     "metadata": {
      "needs_background": "light"
     },
     "output_type": "display_data"
    },
    {
     "data": {
      "image/png": "[encoded data removed]",
      "text/plain": [
       "<Figure size 432x288 with 4 Axes>"
      ]
     },
     "metadata": {
      "needs_background": "light"
     },
     "output_type": "display_data"
    },
    {
     "data": {
      "text/plain": [
       "(7, 0.10261557799973116, 0.0019387537834567074, 0.045141224395148685)"
      ]
     },
     "execution_count": 6,
     "metadata": {},
     "output_type": "execute_result"
    },
    {
     "name": "stdout",
     "output_type": "stream",
     "text": [
      "time: 489 ms (started: 2022-07-03 14:49:13 +00:00)\n"
     ]
    }
   ],
   "source": [
    "unseen_data_corr_df, unseen_data_corr_series = gen_unseen_data_corr(['CNP', 'RSG'], ret_date=True)\n",
    "\n",
    "stl_decompn(unseen_data_corr_series, overview=True)"
   ]
  },
  {
   "cell_type": "code",
   "execution_count": null,
   "id": "b0699ee9-76fc-4804-8981-71997148f358",
   "metadata": {},
   "outputs": [],
   "source": []
  },
  {
   "cell_type": "code",
   "execution_count": null,
   "id": "3d1c7e89-18db-498a-b3bd-2ad63a185935",
   "metadata": {
    "tags": []
   },
   "outputs": [],
   "source": []
  },
  {
   "cell_type": "code",
   "execution_count": null,
   "id": "9751a5ad-6e92-40a3-915a-109ed10d8c05",
   "metadata": {
    "tags": []
   },
   "outputs": [],
   "source": []
  },
  {
   "cell_type": "code",
   "execution_count": null,
   "id": "0fe59279-0b18-421f-a592-3e18b901abf1",
   "metadata": {},
   "outputs": [],
   "source": []
  }
 ],
 "metadata": {
  "kernelspec": {
   "display_name": "Python 3 (ipykernel)",
   "language": "python",
   "name": "python3"
  },
  "language_info": {
   "codemirror_mode": {
    "name": "ipython",
    "version": 3
   },
   "file_extension": ".py",
   "mimetype": "text/x-python",
   "name": "python",
   "nbconvert_exporter": "python",
   "pygments_lexer": "ipython3",
   "version": "3.8.10"
  }
 },
 "nbformat": 4,
 "nbformat_minor": 5
}
