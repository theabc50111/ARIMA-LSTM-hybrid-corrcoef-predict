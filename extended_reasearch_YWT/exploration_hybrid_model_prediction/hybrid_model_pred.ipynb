{
 "cells": [
  {
   "cell_type": "code",
   "execution_count": 1,
   "id": "41660f84-97c9-4162-a708-f601b3b7a3a5",
   "metadata": {},
   "outputs": [
    {
     "name": "stdout",
     "output_type": "stream",
     "text": [
      "time: 1.82 s (started: 2022-08-17 10:59:57 +00:00)\n"
     ]
    }
   ],
   "source": [
    "import numpy as np\n",
    "import matplotlib.pyplot as plt\n",
    "import seaborn as sns\n",
    "import pandas as pd\n",
    "import math\n",
    "import os\n",
    "import random\n",
    "from tqdm import tqdm\n",
    "from itertools import combinations\n",
    "from sklearn.metrics import mean_squared_error, mean_absolute_error\n",
    "from pmdarima.arima import ARIMA, auto_arima\n",
    "from statsmodels.graphics.tsaplots import plot_acf, plot_pacf\n",
    "from statsmodels.tsa.seasonal import seasonal_decompose\n",
    "from scipy import stats as st\n",
    "from sklearn.linear_model import LinearRegression\n",
    "from keras.models import Sequential, load_model\n",
    "from keras.layers import Dense, LSTM, Activation\n",
    "from keras import backend as K\n",
    "from keras.utils.generic_utils import get_custom_objects\n",
    "from keras.callbacks import ModelCheckpoint\n",
    "from keras.regularizers import l1_l2\n",
    "import tensorflow.keras as keras\n",
    "import warnings\n",
    "warnings.simplefilter(\"ignore\")\n",
    "\n",
    "%load_ext pycodestyle_magic\n",
    "%pycodestyle_on --ignore E501"
   ]
  },
  {
   "cell_type": "markdown",
   "id": "d1a012b1-6376-486e-b5dd-93c76929fc3c",
   "metadata": {
    "tags": []
   },
   "source": [
    "# Prepare data"
   ]
  },
  {
   "cell_type": "code",
   "execution_count": 2,
   "id": "a90c3941-5ffd-4aef-8d42-a55d5f602187",
   "metadata": {
    "tags": []
   },
   "outputs": [
    {
     "name": "stderr",
     "output_type": "stream",
     "text": [
      "6:80: E501 line too long (1073 > 79 characters)\n",
      "13:80: E501 line too long (153 > 79 characters)\n",
      "14:80: E501 line too long (154 > 79 characters)\n",
      "15:80: E501 line too long (148 > 79 characters)\n",
      "16:80: E501 line too long (153 > 79 characters)\n",
      "17:80: E501 line too long (152 > 79 characters)\n",
      "20:80: E501 line too long (83 > 79 characters)\n"
     ]
    },
    {
     "name": "stdout",
     "output_type": "stream",
     "text": [
      "150 445 295\n",
      "time: 109 ms (started: 2022-08-17 10:59:59 +00:00)\n"
     ]
    }
   ],
   "source": [
    "stock_price_df = pd.read_csv(\"../../stock08_price.csv\")\n",
    "\n",
    "universe = list(stock_price_df.columns.values[1:])\n",
    "universe.remove(\"SP500\")\n",
    "# train data\n",
    "portfolio_train = ['CELG', 'PXD', 'WAT', 'LH', 'AMGN', 'AOS', 'EFX', 'CRM', 'NEM', 'JNPR', 'LB', 'CTAS', 'MAT', 'MDLZ', 'VLO', 'APH', 'ADM', 'MLM', 'BK', 'NOV', 'BDX', 'RRC', 'IVZ', 'ED', 'SBUX', 'GRMN', 'CI', 'ZION', 'COO', 'TIF', 'RHT', 'FDX', 'LLL', 'GLW', 'GPN', 'IPGP', 'GPC', 'HPQ', 'ADI', 'AMG', 'MTB', 'YUM', 'SYK', 'KMX', 'AME', 'AAP', 'DAL', 'A', 'MON', 'BRK', 'BMY', 'KMB', 'JPM', 'CCI', 'AET', 'DLTR', 'MGM', 'FL', 'HD', 'CLX', 'OKE', 'UPS', 'WMB', 'IFF', 'CMS', 'ARNC', 'VIAB', 'MMC', 'REG', 'ES', 'ITW', 'NDAQ', 'AIZ', 'VRTX', 'CTL', 'QCOM', 'MSI', 'NKTR', 'AMAT', 'BWA', 'ESRX', 'TXT', 'EXR', 'VNO', 'BBT', 'WDC', 'UAL', 'PVH', 'NOC', 'PCAR', 'NSC', 'UAA', 'FFIV', 'PHM', 'LUV', 'HUM', 'SPG', 'SJM', 'ABT', 'CMG', 'ALK', 'ULTA', 'TMK', 'TAP', 'SCG', 'CAT', 'TMO', 'AES', 'MRK', 'RMD', 'MKC', 'WU', 'ACN', 'HIG', 'TEL', 'DE', 'ATVI', 'O', 'UNM', 'VMC', 'ETFC', 'CMA', 'NRG', 'RHI', 'RE', 'FMC', 'MU', 'CB', 'LNT', 'GE', 'CBS', 'ALGN', 'SNA', 'LLY', 'LEN', 'MAA', 'OMC', 'F', 'APA', 'CDNS', 'SLG', 'HP', 'XLNX', 'SHW', 'AFL', 'STT', 'PAYX', 'AIG', 'FOX', 'MA']\n",
    "# all data\n",
    "portfolio_all = universe\n",
    "# all data - train data\n",
    "portfolio_other = [p for p in universe if p not in portfolio_train]\n",
    "print(len(portfolio_train), len(portfolio_all), len(portfolio_other))\n",
    "# paper evaluation set\n",
    "paper_eva_info = {\"paper_eva_1\": {\"portfolio\": ['PRGO', 'MRO', 'ADP', 'HCP', 'FITB', 'PEG', 'SYMC', 'EOG', 'MDT', 'NI'], \"file_name\": \"paper_eva_1_res\"},\n",
    "                  \"paper_eva_2\": {\"portfolio\": ['STI', 'COP', 'MCD', 'AON', 'JBHT', 'DISH', 'GS', 'LRCX', 'CTXS', 'LEG'], \"file_name\": \"paper_eva_2_res\"},\n",
    "                  \"paper_eva_3\": {\"portfolio\": ['TJX', 'EMN', 'JCI', 'C', 'BIIB', 'HOG', 'PX', 'PH', 'XEC', 'JEC'], \"file_name\": \"paper_eva_3_res\"},\n",
    "                  \"paper_eva_4\": {\"portfolio\": ['ROP', 'AZO', 'URI', 'TROW', 'CMCSA', 'SLB', 'VZ', 'MAC', 'ADS', 'MCK'], \"file_name\": \"paper_eva_4_res\"},\n",
    "                  \"paper_eva_5\": {\"portfolio\": ['RL', 'CVX', 'SRE', 'PFE', 'PCG', 'UTX', 'NTRS', 'INCY', 'COP', 'HRL'], \"file_name\": \"paper_eva_5_res\"}}\n",
    "\n",
    "pd.to_datetime(stock_price_df['Date'], format='%Y-%m-%d')\n",
    "stock_price_df = stock_price_df.set_index(pd.DatetimeIndex(stock_price_df['Date']))\n",
    "# display(stock_price_df)"
   ]
  },
  {
   "cell_type": "code",
   "execution_count": 3,
   "id": "99329101-58ad-4424-8abb-b00f40cfbdce",
   "metadata": {
    "tags": []
   },
   "outputs": [
    {
     "name": "stderr",
     "output_type": "stream",
     "text": [
      "8:80: E501 line too long (83 > 79 characters)\n",
      "12:19: E222 multiple spaces after operator\n"
     ]
    },
    {
     "name": "stdout",
     "output_type": "stream",
     "text": [
      "time: 598 µs (started: 2022-08-17 10:59:59 +00:00)\n"
     ]
    }
   ],
   "source": [
    "# setting of output files\n",
    "save_raw_corr_data = False\n",
    "save_arima_resid_data = False\n",
    "\n",
    "time_period = \"_test2\"\n",
    "# paper_eva_implement = \"paper_eva_2\"\n",
    "# portfolio_implement = paper_eva_info[paper_eva_implement]['portfolio']\n",
    "# output_file_name = paper_eva_info[paper_eva_implement]['file_name'] + time_period\n",
    "# fig_title = paper_eva_implement + time_period\n",
    "paper_eva_implement = \"445_all\"\n",
    "portfolio_implement = portfolio_all\n",
    "output_file_name =  \"445_res\" + time_period\n",
    "fig_title = paper_eva_implement + time_period"
   ]
  },
  {
   "cell_type": "code",
   "execution_count": 4,
   "id": "5303e902-4c2a-43c2-86a7-cbc68d096625",
   "metadata": {
    "tags": []
   },
   "outputs": [
    {
     "ename": "ValueError",
     "evalue": "too many values to unpack (expected 3)",
     "output_type": "error",
     "traceback": [
      "\u001b[0;31m---------------------------------------------------------------------------\u001b[0m",
      "\u001b[0;31mValueError\u001b[0m                                Traceback (most recent call last)",
      "File \u001b[0;32m/usr/local/lib/python3.8/dist-packages/pycodestyle_magic.py:46\u001b[0m, in \u001b[0;36mVarWatcher.auto_run_pycodestyle\u001b[0;34m(self, result)\u001b[0m\n\u001b[1;32m     45\u001b[0m \u001b[38;5;28;01mdef\u001b[39;00m \u001b[38;5;21mauto_run_pycodestyle\u001b[39m(\u001b[38;5;28mself\u001b[39m, result):\n\u001b[0;32m---> 46\u001b[0m     \u001b[43mpycodestyle\u001b[49m\u001b[43m(\u001b[49m\u001b[38;5;241;43m1\u001b[39;49m\u001b[43m,\u001b[49m\u001b[43m \u001b[49m\u001b[43mresult\u001b[49m\u001b[38;5;241;43m.\u001b[39;49m\u001b[43minfo\u001b[49m\u001b[38;5;241;43m.\u001b[39;49m\u001b[43mraw_cell\u001b[49m\u001b[43m,\u001b[49m\u001b[43m \u001b[49m\u001b[43mauto\u001b[49m\u001b[38;5;241;43m=\u001b[39;49m\u001b[38;5;28;43;01mTrue\u001b[39;49;00m\u001b[43m)\u001b[49m\n\u001b[1;32m     47\u001b[0m     \u001b[38;5;28;01mif\u001b[39;00m result\u001b[38;5;241m.\u001b[39merror_before_exec:\n\u001b[1;32m     48\u001b[0m         \u001b[38;5;28mprint\u001b[39m(\u001b[38;5;124m'\u001b[39m\u001b[38;5;124mError before execution: \u001b[39m\u001b[38;5;132;01m%s\u001b[39;00m\u001b[38;5;124m'\u001b[39m \u001b[38;5;241m%\u001b[39m result\u001b[38;5;241m.\u001b[39merror_before_exec)\n",
      "File \u001b[0;32m/usr/local/lib/python3.8/dist-packages/pycodestyle_magic.py:175\u001b[0m, in \u001b[0;36mpycodestyle\u001b[0;34m(line, cell, auto)\u001b[0m\n\u001b[1;32m    170\u001b[0m stdout \u001b[38;5;241m=\u001b[39m sys\u001b[38;5;241m.\u001b[39mstdout\u001b[38;5;241m.\u001b[39mgetvalue()\u001b[38;5;241m.\u001b[39msplitlines()   \n\u001b[1;32m    172\u001b[0m \u001b[38;5;28;01mfor\u001b[39;00m line \u001b[38;5;129;01min\u001b[39;00m stdout:\n\u001b[1;32m    173\u001b[0m     \u001b[38;5;66;03m#logger.info(line)     \u001b[39;00m\n\u001b[1;32m    174\u001b[0m     \u001b[38;5;66;03m# on windows drive path also contains :\u001b[39;00m\n\u001b[0;32m--> 175\u001b[0m     line, col, error \u001b[38;5;241m=\u001b[39m line\u001b[38;5;241m.\u001b[39msplit(\u001b[38;5;124m'\u001b[39m\u001b[38;5;124m:\u001b[39m\u001b[38;5;124m'\u001b[39m)[\u001b[38;5;241m-\u001b[39m\u001b[38;5;241m4\u001b[39m:] \n\u001b[1;32m    176\u001b[0m     \u001b[38;5;66;03m# do not subtract 1 for line for %%pycodestyle, inc pre py3.6 string\u001b[39;00m\n\u001b[1;32m    177\u001b[0m     \u001b[38;5;28;01mif\u001b[39;00m auto:\n",
      "\u001b[0;31mValueError\u001b[0m: too many values to unpack (expected 3)"
     ]
    },
    {
     "name": "stdout",
     "output_type": "stream",
     "text": [
      "time: 730 µs (started: 2022-08-17 10:59:59 +00:00)\n"
     ]
    }
   ],
   "source": [
    "def gen_unseen_data_corr(portfolio: list, time_period:str = \"_test2\", ret_date: bool = False) -> \"pd.DataFrame, pd.Series | pd.DataFrame\":\n",
    "    tmp_corr = stock_price_df[portfolio[0]].rolling(window=100).corr(stock_price_df[portfolio[1]])\n",
    "    tmp_corr = tmp_corr.iloc[99::100]\n",
    "    if time_period == \"_test2\":\n",
    "        corr_series = tmp_corr[3:24] # correspond to test2_dataset of original paper\n",
    "    elif time_period == \"_test1\" :\n",
    "        corr_series = tmp_corr[2:23] # correspond to test1_dataset of original paper\n",
    "    elif time_period == \"_dev\":\n",
    "        corr_series = tmp_corr[1:22] # correspond to dev_dataset of original paper\n",
    "    elif time_period == \"_train\":\n",
    "        corr_series = tmp_corr[:21] # correspond to train_dataset of original papaer \n",
    "    unseen_data_df = pd.DataFrame(corr_series).reset_index().drop(['Date'], axis=1).T\n",
    "    if ret_date:\n",
    "        return unseen_data_df, corr_series\n",
    "    else:\n",
    "        return unseen_data_df"
   ]
  },
  {
   "cell_type": "code",
   "execution_count": 5,
   "id": "e7765e10-2944-4621-b62f-6602a573387f",
   "metadata": {
    "tags": []
   },
   "outputs": [
    {
     "data": {
      "text/html": [
       "<div>\n",
       "<style scoped>\n",
       "    .dataframe tbody tr th:only-of-type {\n",
       "        vertical-align: middle;\n",
       "    }\n",
       "\n",
       "    .dataframe tbody tr th {\n",
       "        vertical-align: top;\n",
       "    }\n",
       "\n",
       "    .dataframe thead th {\n",
       "        text-align: right;\n",
       "    }\n",
       "</style>\n",
       "<table border=\"1\" class=\"dataframe\">\n",
       "  <thead>\n",
       "    <tr style=\"text-align: right;\">\n",
       "      <th></th>\n",
       "      <th>0</th>\n",
       "      <th>1</th>\n",
       "      <th>2</th>\n",
       "      <th>3</th>\n",
       "      <th>4</th>\n",
       "      <th>5</th>\n",
       "      <th>6</th>\n",
       "      <th>7</th>\n",
       "      <th>8</th>\n",
       "      <th>9</th>\n",
       "      <th>...</th>\n",
       "      <th>11</th>\n",
       "      <th>12</th>\n",
       "      <th>13</th>\n",
       "      <th>14</th>\n",
       "      <th>15</th>\n",
       "      <th>16</th>\n",
       "      <th>17</th>\n",
       "      <th>18</th>\n",
       "      <th>19</th>\n",
       "      <th>20</th>\n",
       "    </tr>\n",
       "  </thead>\n",
       "  <tbody>\n",
       "    <tr>\n",
       "      <th>0</th>\n",
       "      <td>0.301064</td>\n",
       "      <td>0.870396</td>\n",
       "      <td>0.895088</td>\n",
       "      <td>0.803884</td>\n",
       "      <td>0.763552</td>\n",
       "      <td>0.437946</td>\n",
       "      <td>0.671847</td>\n",
       "      <td>0.239142</td>\n",
       "      <td>0.703358</td>\n",
       "      <td>0.74433</td>\n",
       "      <td>...</td>\n",
       "      <td>0.396555</td>\n",
       "      <td>0.246283</td>\n",
       "      <td>0.103744</td>\n",
       "      <td>0.01833</td>\n",
       "      <td>0.188772</td>\n",
       "      <td>0.739464</td>\n",
       "      <td>-0.214199</td>\n",
       "      <td>0.285949</td>\n",
       "      <td>-0.352241</td>\n",
       "      <td>0.32908</td>\n",
       "    </tr>\n",
       "  </tbody>\n",
       "</table>\n",
       "<p>1 rows × 21 columns</p>\n",
       "</div>"
      ],
      "text/plain": [
       "         0         1         2         3         4         5         6   \\\n",
       "0  0.301064  0.870396  0.895088  0.803884  0.763552  0.437946  0.671847   \n",
       "\n",
       "         7         8        9   ...        11        12        13       14  \\\n",
       "0  0.239142  0.703358  0.74433  ...  0.396555  0.246283  0.103744  0.01833   \n",
       "\n",
       "         15        16        17        18        19       20  \n",
       "0  0.188772  0.739464 -0.214199  0.285949 -0.352241  0.32908  \n",
       "\n",
       "[1 rows x 21 columns]"
      ]
     },
     "execution_count": 5,
     "metadata": {},
     "output_type": "execute_result"
    }
   ],
   "source": [
    "unseen_data_df = gen_unseen_data_corr(['RL', 'CVX'])\n",
    "unseen_data_df.head()"
   ]
  },
  {
   "cell_type": "markdown",
   "id": "f7976949-33c7-45c0-b6e9-c8cace53672a",
   "metadata": {
    "tags": []
   },
   "source": [
    "# ARIMA model"
   ]
  },
  {
   "cell_type": "code",
   "execution_count": 6,
   "id": "9c7ee34a-a8f6-4609-9e69-cfa66bc19100",
   "metadata": {
    "tags": []
   },
   "outputs": [
    {
     "name": "stderr",
     "output_type": "stream",
     "text": [
      "1:80: E501 line too long (119 > 79 characters)\n",
      "2:80: E501 line too long (105 > 79 characters)\n",
      "3:80: E501 line too long (105 > 79 characters)\n",
      "4:80: E501 line too long (105 > 79 characters)\n",
      "5:80: E501 line too long (105 > 79 characters)\n",
      "6:80: E501 line too long (105 > 79 characters)\n",
      "7:5: E265 block comment should start with '# '\n",
      "7:80: E501 line too long (106 > 79 characters)\n",
      "9:5: E265 block comment should start with '# '\n",
      "9:80: E501 line too long (162 > 79 characters)\n",
      "10:80: E501 line too long (137 > 79 characters)\n",
      "36:80: E501 line too long (91 > 79 characters)\n",
      "39:17: E265 block comment should start with '# '\n",
      "39:80: E501 line too long (174 > 79 characters)\n",
      "40:80: E501 line too long (149 > 79 characters)\n"
     ]
    }
   ],
   "source": [
    "def arima_model(dataset: \"pd.DataFrame\", portfolio: list, overview: bool = False) -> (\"np.array\", \"pd.DataFrame\", str):\n",
    "    model_110 = ARIMA(order=(1, 1, 0), out_of_sample_size=0, mle_regression=True, suppress_warnings=True)\n",
    "    model_011 = ARIMA(order=(0, 1, 1), out_of_sample_size=0, mle_regression=True, suppress_warnings=True)\n",
    "    model_111 = ARIMA(order=(1, 1, 1), out_of_sample_size=0, mle_regression=True, suppress_warnings=True)\n",
    "    model_211 = ARIMA(order=(2, 1, 1), out_of_sample_size=0, mle_regression=True, suppress_warnings=True)\n",
    "    model_210 = ARIMA(order=(2, 1, 0), out_of_sample_size=0, mle_regression=True, suppress_warnings=True)\n",
    "    #model_330 = ARIMA(order=(3, 3, 0), out_of_sample_size=0, mle_regression=True, suppress_warnings=True)\n",
    "\n",
    "    #model_dict = {\"model_110\": model_110, \"model_011\": model_011, \"model_111\": model_111, \"model_211\": model_211, \"model_210\": model_210, \"model_330\": model_330}\n",
    "    model_dict = {\"model_110\": model_110, \"model_011\": model_011, \"model_111\": model_111, \"model_211\": model_211, \"model_210\": model_210}\n",
    "\n",
    "    tested_models = []\n",
    "    arima_model = None\n",
    "    find_arima_model = False\n",
    "    residual = []\n",
    "    for s in np.array(dataset):\n",
    "        while not find_arima_model:\n",
    "            try:\n",
    "                for model_key in model_dict:\n",
    "                    if model_key not in tested_models:\n",
    "                        test_model = model_dict[model_key].fit(s)\n",
    "                        if arima_model is None:\n",
    "                            arima_model = test_model\n",
    "                            arima_model_name = model_key\n",
    "                        elif arima_model.aic() <= test_model.aic():\n",
    "                            pass\n",
    "                        else:\n",
    "                            arima_model = test_model\n",
    "                            arima_model_name = model_key\n",
    "                    tested_models.append(model_key)\n",
    "\n",
    "            except Exception:\n",
    "                if len(model_dict)-1 != 0:\n",
    "                    del model_dict[model_key]\n",
    "                else:\n",
    "                    print(f\"fatal error, {portfolio} doesn't have appropriate arima model\")\n",
    "                    break\n",
    "            else:\n",
    "                #model_dict = {\"model_110\": model_110, \"model_011\": model_011, \"model_111\": model_111, \"model_211\": model_211, \"model_210\": model_210, \"model_330\": model_330}\n",
    "                model_dict = {\"model_110\": model_110, \"model_011\": model_011, \"model_111\": model_111, \"model_211\": model_211, \"model_210\": model_210}\n",
    "                tested_models.clear()\n",
    "                find_arima_model = True\n",
    "\n",
    "        arima_pred = list(arima_model.predict_in_sample())\n",
    "        arima_pred = [np.mean(arima_pred[1:])] + arima_pred[1:]\n",
    "        arima_pred = np.clip(np.array(arima_pred), -1, 1)\n",
    "\n",
    "        res = pd.Series(np.array(s) - arima_pred)\n",
    "        residual.append(np.array(res)[:20])\n",
    "        find_arima_model = False\n",
    "    residual = pd.DataFrame(residual)\n",
    "\n",
    "    if overview:\n",
    "        plt.plot(arima_pred, label=\"arima_pred\")\n",
    "        plt.plot(dataset.T, label=\"data\")\n",
    "        plt.plot(res, label=\"res\")\n",
    "        plt.legend()\n",
    "        plt.show()\n",
    "        plt.close()\n",
    "\n",
    "    return arima_pred, residual, arima_model_name"
   ]
  },
  {
   "cell_type": "markdown",
   "id": "dfb455ad-4103-403d-a65f-ba8a13038295",
   "metadata": {
    "tags": []
   },
   "source": [
    "# LSTM"
   ]
  },
  {
   "cell_type": "code",
   "execution_count": 7,
   "id": "35591071-44de-4a02-8dfa-fb85bb7ae29d",
   "metadata": {
    "tags": []
   },
   "outputs": [
    {
     "name": "stderr",
     "output_type": "stream",
     "text": [
      "2022-08-17 10:59:59.521526: I tensorflow/stream_executor/cuda/cuda_gpu_executor.cc:975] successful NUMA node read from SysFS had negative value (-1), but there must be at least one NUMA node, so returning NUMA node zero\n",
      "2022-08-17 10:59:59.525539: I tensorflow/stream_executor/cuda/cuda_gpu_executor.cc:975] successful NUMA node read from SysFS had negative value (-1), but there must be at least one NUMA node, so returning NUMA node zero\n",
      "2022-08-17 10:59:59.525758: I tensorflow/stream_executor/cuda/cuda_gpu_executor.cc:975] successful NUMA node read from SysFS had negative value (-1), but there must be at least one NUMA node, so returning NUMA node zero\n",
      "2022-08-17 10:59:59.526601: I tensorflow/core/platform/cpu_feature_guard.cc:193] This TensorFlow binary is optimized with oneAPI Deep Neural Network Library (oneDNN) to use the following CPU instructions in performance-critical operations:  AVX2 FMA\n",
      "To enable them in other operations, rebuild TensorFlow with the appropriate compiler flags.\n",
      "2022-08-17 10:59:59.527503: I tensorflow/stream_executor/cuda/cuda_gpu_executor.cc:975] successful NUMA node read from SysFS had negative value (-1), but there must be at least one NUMA node, so returning NUMA node zero\n",
      "2022-08-17 10:59:59.527677: I tensorflow/stream_executor/cuda/cuda_gpu_executor.cc:975] successful NUMA node read from SysFS had negative value (-1), but there must be at least one NUMA node, so returning NUMA node zero\n",
      "2022-08-17 10:59:59.527831: I tensorflow/stream_executor/cuda/cuda_gpu_executor.cc:975] successful NUMA node read from SysFS had negative value (-1), but there must be at least one NUMA node, so returning NUMA node zero\n",
      "2022-08-17 10:59:59.869364: I tensorflow/stream_executor/cuda/cuda_gpu_executor.cc:975] successful NUMA node read from SysFS had negative value (-1), but there must be at least one NUMA node, so returning NUMA node zero\n",
      "2022-08-17 10:59:59.869528: I tensorflow/stream_executor/cuda/cuda_gpu_executor.cc:975] successful NUMA node read from SysFS had negative value (-1), but there must be at least one NUMA node, so returning NUMA node zero\n",
      "2022-08-17 10:59:59.869655: I tensorflow/stream_executor/cuda/cuda_gpu_executor.cc:975] successful NUMA node read from SysFS had negative value (-1), but there must be at least one NUMA node, so returning NUMA node zero\n",
      "2022-08-17 10:59:59.869752: I tensorflow/core/common_runtime/gpu/gpu_device.cc:1532] Created device /job:localhost/replica:0/task:0/device:GPU:0 with 22308 MB memory:  -> device: 0, name: NVIDIA GeForce RTX 3090, pci bus id: 0000:0b:00.0, compute capability: 8.6\n",
      "13:80: E501 line too long (85 > 79 characters)\n",
      "18:80: E501 line too long (81 > 79 characters)\n"
     ]
    },
    {
     "ename": "ValueError",
     "evalue": "too many values to unpack (expected 3)",
     "output_type": "error",
     "traceback": [
      "\u001b[0;31m---------------------------------------------------------------------------\u001b[0m",
      "\u001b[0;31mValueError\u001b[0m                                Traceback (most recent call last)",
      "File \u001b[0;32m/usr/local/lib/python3.8/dist-packages/pycodestyle_magic.py:46\u001b[0m, in \u001b[0;36mVarWatcher.auto_run_pycodestyle\u001b[0;34m(self, result)\u001b[0m\n\u001b[1;32m     45\u001b[0m \u001b[38;5;28;01mdef\u001b[39;00m \u001b[38;5;21mauto_run_pycodestyle\u001b[39m(\u001b[38;5;28mself\u001b[39m, result):\n\u001b[0;32m---> 46\u001b[0m     \u001b[43mpycodestyle\u001b[49m\u001b[43m(\u001b[49m\u001b[38;5;241;43m1\u001b[39;49m\u001b[43m,\u001b[49m\u001b[43m \u001b[49m\u001b[43mresult\u001b[49m\u001b[38;5;241;43m.\u001b[39;49m\u001b[43minfo\u001b[49m\u001b[38;5;241;43m.\u001b[39;49m\u001b[43mraw_cell\u001b[49m\u001b[43m,\u001b[49m\u001b[43m \u001b[49m\u001b[43mauto\u001b[49m\u001b[38;5;241;43m=\u001b[39;49m\u001b[38;5;28;43;01mTrue\u001b[39;49;00m\u001b[43m)\u001b[49m\n\u001b[1;32m     47\u001b[0m     \u001b[38;5;28;01mif\u001b[39;00m result\u001b[38;5;241m.\u001b[39merror_before_exec:\n\u001b[1;32m     48\u001b[0m         \u001b[38;5;28mprint\u001b[39m(\u001b[38;5;124m'\u001b[39m\u001b[38;5;124mError before execution: \u001b[39m\u001b[38;5;132;01m%s\u001b[39;00m\u001b[38;5;124m'\u001b[39m \u001b[38;5;241m%\u001b[39m result\u001b[38;5;241m.\u001b[39merror_before_exec)\n",
      "File \u001b[0;32m/usr/local/lib/python3.8/dist-packages/pycodestyle_magic.py:175\u001b[0m, in \u001b[0;36mpycodestyle\u001b[0;34m(line, cell, auto)\u001b[0m\n\u001b[1;32m    170\u001b[0m stdout \u001b[38;5;241m=\u001b[39m sys\u001b[38;5;241m.\u001b[39mstdout\u001b[38;5;241m.\u001b[39mgetvalue()\u001b[38;5;241m.\u001b[39msplitlines()   \n\u001b[1;32m    172\u001b[0m \u001b[38;5;28;01mfor\u001b[39;00m line \u001b[38;5;129;01min\u001b[39;00m stdout:\n\u001b[1;32m    173\u001b[0m     \u001b[38;5;66;03m#logger.info(line)     \u001b[39;00m\n\u001b[1;32m    174\u001b[0m     \u001b[38;5;66;03m# on windows drive path also contains :\u001b[39;00m\n\u001b[0;32m--> 175\u001b[0m     line, col, error \u001b[38;5;241m=\u001b[39m line\u001b[38;5;241m.\u001b[39msplit(\u001b[38;5;124m'\u001b[39m\u001b[38;5;124m:\u001b[39m\u001b[38;5;124m'\u001b[39m)[\u001b[38;5;241m-\u001b[39m\u001b[38;5;241m4\u001b[39m:] \n\u001b[1;32m    176\u001b[0m     \u001b[38;5;66;03m# do not subtract 1 for line for %%pycodestyle, inc pre py3.6 string\u001b[39;00m\n\u001b[1;32m    177\u001b[0m     \u001b[38;5;28;01mif\u001b[39;00m auto:\n",
      "\u001b[0;31mValueError\u001b[0m: too many values to unpack (expected 3)"
     ]
    }
   ],
   "source": [
    "class DoubleTanh(Activation):\n",
    "    def __init__(self, activation, **kwargs):\n",
    "        super(DoubleTanh, self).__init__(activation, **kwargs)\n",
    "        self.__name__ = 'double_tanh'\n",
    "\n",
    "\n",
    "def double_tanh(x):\n",
    "    return (K.tanh(x) * 2)\n",
    "\n",
    "\n",
    "# get_custom_objects().update({'double_tanh': DoubleTanh(double_tanh)})\n",
    "\n",
    "# filepath = './stock_correlation_prediction/models/hybrid_LSTM_20220427/epoch262.h5'\n",
    "# custom_objects = {\"Double_Tanh\": DoubleTanh, }\n",
    "# with keras.utils.custom_object_scope(custom_objects):\n",
    "#     lstm_model = load_model(filepath)\n",
    "\n",
    "ori_lstm_weight_filepath = \"../rebuild_hybrid_model/models/20220807/epoch_582.h5\"\n",
    "lstm_model = load_model(ori_lstm_weight_filepath, custom_objects={'double_tanh':double_tanh})"
   ]
  },
  {
   "cell_type": "markdown",
   "id": "65707dce-375f-4d15-84fd-e4edf9133cac",
   "metadata": {
    "tags": []
   },
   "source": [
    "# Hybrid model"
   ]
  },
  {
   "cell_type": "code",
   "execution_count": 8,
   "id": "dc480765-0e8f-4012-b4d6-40954dda0a43",
   "metadata": {},
   "outputs": [
    {
     "name": "stderr",
     "output_type": "stream",
     "text": [
      "1:80: E501 line too long (91 > 79 characters)\n",
      "12:1: W293 blank line contains whitespace\n",
      "13:80: E501 line too long (91 > 79 characters)\n",
      "16:80: E501 line too long (85 > 79 characters)\n",
      "20:80: E501 line too long (88 > 79 characters)\n"
     ]
    }
   ],
   "source": [
    "def stl_decompn(corr_series: \"pd.Series\", overview: bool = False) -> (float, float, float):\n",
    "    output_resid = 100000\n",
    "    output_trend = None\n",
    "    output_period = None\n",
    "    for p in range(2, 11):\n",
    "        decompose_result_mult = seasonal_decompose(corr_series, period=p)\n",
    "        resid_sum = np.abs(decompose_result_mult.resid).mean()\n",
    "        if output_resid > resid_sum:\n",
    "            output_resid = resid_sum\n",
    "            output_trend = decompose_result_mult.trend.dropna()\n",
    "            output_period = p\n",
    "    \n",
    "    reg = LinearRegression().fit(np.arange(len(output_trend)).reshape(-1, 1), output_trend)\n",
    "\n",
    "    if overview:\n",
    "        decompose_result_mult = seasonal_decompose(corr_series, period=output_period)\n",
    "        trend = decompose_result_mult.trend.dropna().reset_index(drop=True)\n",
    "        plt.figure(figsize=(7, 1))\n",
    "        plt.plot(trend)\n",
    "        plt.plot([0, len(trend)], [reg.intercept_, reg.intercept_+len(trend)*reg.coef_])\n",
    "        plt.title(\"trend & regression line\")\n",
    "        plt.show()\n",
    "        plt.close()\n",
    "        decompose_result_mult.plot()\n",
    "        plt.show()\n",
    "        plt.close()\n",
    "\n",
    "    return output_period, output_resid, output_trend.std(), reg.coef_[0]"
   ]
  },
  {
   "cell_type": "code",
   "execution_count": 9,
   "id": "f4f804c7-89e9-49bd-b23d-1a3dd2941030",
   "metadata": {
    "tags": []
   },
   "outputs": [
    {
     "data": {
      "image/png": "[encoded data removed]",
      "text/plain": [
       "<Figure size 504x72 with 1 Axes>"
      ]
     },
     "metadata": {
      "needs_background": "light"
     },
     "output_type": "display_data"
    },
    {
     "data": {
      "image/png": "[encoded data removed]",
      "text/plain": [
       "<Figure size 432x288 with 4 Axes>"
      ]
     },
     "metadata": {
      "needs_background": "light"
     },
     "output_type": "display_data"
    },
    {
     "data": {
      "text/plain": [
       "(10, 0.05197403038285887, 0.04734630191453318, -0.0013984760779681504)"
      ]
     },
     "execution_count": 9,
     "metadata": {},
     "output_type": "execute_result"
    },
    {
     "name": "stderr",
     "output_type": "stream",
     "text": [
      "1:80: E501 line too long (98 > 79 characters)\n"
     ]
    }
   ],
   "source": [
    "unseen_data_corr_df, unseen_data_corr_series = gen_unseen_data_corr(['CNP', 'RSG'], ret_date=True)\n",
    "stl_decompn(unseen_data_corr_series, overview=True)"
   ]
  },
  {
   "cell_type": "code",
   "execution_count": 10,
   "id": "f113b850-5406-481e-bcbd-a6831edb95c7",
   "metadata": {
    "tags": []
   },
   "outputs": [
    {
     "name": "stderr",
     "output_type": "stream",
     "text": [
      "0it [00:00, ?it/s]2022-08-17 11:00:01.511465: I tensorflow/stream_executor/cuda/cuda_dnn.cc:384] Loaded cuDNN version 8100\n",
      "98790it [5:48:20,  4.73it/s]\n",
      "2:80: E501 line too long (80 > 79 characters)\n",
      "3:80: E501 line too long (84 > 79 characters)\n",
      "6:80: E501 line too long (122 > 79 characters)\n",
      "7:80: E501 line too long (88 > 79 characters)\n",
      "10:80: E501 line too long (98 > 79 characters)\n",
      "23:80: E501 line too long (87 > 79 characters)\n",
      "24:80: E501 line too long (103 > 79 characters)\n",
      "25:80: E501 line too long (128 > 79 characters)\n",
      "25:129: W291 trailing whitespace\n",
      "26:80: E501 line too long (133 > 79 characters)\n",
      "30:80: E501 line too long (93 > 79 characters)\n",
      "30:94: W291 trailing whitespace\n",
      "32:80: E501 line too long (90 > 79 characters)\n",
      "32:91: W291 trailing whitespace\n",
      "35:80: E501 line too long (82 > 79 characters)\n",
      "36:80: E501 line too long (133 > 79 characters)\n",
      "37:1: W293 blank line contains whitespace\n",
      "39:80: E501 line too long (90 > 79 characters)\n",
      "40:80: E501 line too long (140 > 79 characters)\n"
     ]
    }
   ],
   "source": [
    "res_list = []\n",
    "unseen_data_corr_df_concat = pd.DataFrame(columns=list(range(21))+['portfolio'])\n",
    "unseen_data_arima_resid_concat = pd.DataFrame(columns=list(range(20))+['portfolio'])\n",
    "count = 0\n",
    "for portfolio in tqdm(combinations(portfolio_implement, 2)):\n",
    "    unseen_data_corr_df, unseen_data_corr_series = gen_unseen_data_corr(portfolio, time_period=time_period, ret_date=True)\n",
    "    arima_pred, residual, arima_model_name = arima_model(unseen_data_corr_df, portfolio)\n",
    "    unseen_res = residual.values.reshape((-1, 20, 1))\n",
    "    lstm_pred = lstm_model.predict(unseen_res)\n",
    "    season_period, stl_resid, stl_trend_std, coef_reg_trend = stl_decompn(unseen_data_corr_series)\n",
    "    portfolio_res_dic = {\"portfolio\": f\"{portfolio[0]} & {portfolio[1]}\",\n",
    "                         \"corr_ser_mean\": unseen_data_corr_series.mean(),\n",
    "                         \"corr_ser_std\": unseen_data_corr_series.std(),\n",
    "                         \"corr_season_period\": season_period,\n",
    "                         \"corr_stl_resid\": stl_resid,\n",
    "                         \"corr_stl_trend_std\": stl_trend_std,\n",
    "                         \"corr_trend_coef\": coef_reg_trend,\n",
    "                         \"arima_model\": arima_model_name,\n",
    "                         \"lstm_pred\": lstm_pred[0][0],\n",
    "                         \"arima_pred\": arima_pred[-1],\n",
    "                         \"hybrid_model_pred\": arima_pred[-1]+lstm_pred[0][0],\n",
    "                         \"ground_truth\": unseen_data_corr_df.iloc[0, -1],\n",
    "                         \"arima_err\": unseen_data_corr_df.iloc[0, -1] - arima_pred[-1],\n",
    "                         \"error\": (unseen_data_corr_df.iloc[0, -1] - (arima_pred[-1]+lstm_pred[0][0])),\n",
    "                         \"absolute_err\": math.copysign((unseen_data_corr_df.iloc[0, -1] - (arima_pred[-1]+lstm_pred[0][0])), 1), \n",
    "                         \"lstm_compensation_dir\": np.sign(unseen_data_corr_df.iloc[0, -1] - arima_pred[-1])*np.sign(lstm_pred[0][0])}\n",
    "\n",
    "    res_list.append(portfolio_res_dic)\n",
    "    unseen_data_corr_df['portfolio'] = f\"{portfolio[0]} & {portfolio[1]}\"\n",
    "    unseen_data_corr_df_concat = pd.concat([unseen_data_corr_df_concat, unseen_data_corr_df]) \n",
    "    residual['portfolio'] = f\"{portfolio[0]} & {portfolio[1]}\"\n",
    "    unseen_data_arima_resid_concat = pd.concat([unseen_data_arima_resid_concat, residual]) \n",
    "\n",
    "if save_raw_corr_data:\n",
    "    unseen_data_corr_df_concat = unseen_data_corr_df_concat.set_index('portfolio')\n",
    "    unseen_data_corr_df_concat.to_csv(f\"./stock_correlation_prediction/use_hybrid_model/{output_file_name}_raw_corr.csv\", index=True)\n",
    "    \n",
    "if save_arima_resid_data:\n",
    "    unseen_data_arima_resid_concat = unseen_data_arima_resid_concat.set_index('portfolio')\n",
    "    unseen_data_arima_resid_concat.to_csv(f\"./stock_correlation_prediction/use_hybrid_model/{output_file_name}_arima_resid.csv\", index=True)"
   ]
  },
  {
   "cell_type": "code",
   "execution_count": 11,
   "id": "810010d8-acca-45cb-b21b-2871ce2e5607",
   "metadata": {
    "tags": []
   },
   "outputs": [
    {
     "name": "stderr",
     "output_type": "stream",
     "text": [
      "2:80: E501 line too long (101 > 79 characters)\n"
     ]
    }
   ],
   "source": [
    "res_df = pd.DataFrame(res_list)\n",
    "res_df.to_csv(f\"./stock_correlation_prediction/use_hybrid_model/{output_file_name}.csv\", index=False)"
   ]
  },
  {
   "cell_type": "markdown",
   "id": "b6d8daca-b55f-4a00-b162-4968bf696c50",
   "metadata": {},
   "source": [
    "# Display results"
   ]
  },
  {
   "cell_type": "code",
   "execution_count": 12,
   "id": "f84895d7-ae0e-4cf9-9ecc-2adf76c38462",
   "metadata": {
    "tags": []
   },
   "outputs": [
    {
     "data": {
      "text/html": [
       "<div>\n",
       "<style scoped>\n",
       "    .dataframe tbody tr th:only-of-type {\n",
       "        vertical-align: middle;\n",
       "    }\n",
       "\n",
       "    .dataframe tbody tr th {\n",
       "        vertical-align: top;\n",
       "    }\n",
       "\n",
       "    .dataframe thead th {\n",
       "        text-align: right;\n",
       "    }\n",
       "</style>\n",
       "<table border=\"1\" class=\"dataframe\">\n",
       "  <thead>\n",
       "    <tr style=\"text-align: right;\">\n",
       "      <th></th>\n",
       "      <th>portfolio</th>\n",
       "      <th>corr_ser_mean</th>\n",
       "      <th>corr_ser_std</th>\n",
       "      <th>corr_season_period</th>\n",
       "      <th>corr_stl_resid</th>\n",
       "      <th>corr_stl_trend_std</th>\n",
       "      <th>corr_trend_coef</th>\n",
       "      <th>arima_model</th>\n",
       "      <th>lstm_pred</th>\n",
       "      <th>arima_pred</th>\n",
       "      <th>hybrid_model_pred</th>\n",
       "      <th>ground_truth</th>\n",
       "      <th>arima_err</th>\n",
       "      <th>error</th>\n",
       "      <th>absolute_err</th>\n",
       "      <th>lstm_compensation_dir</th>\n",
       "    </tr>\n",
       "  </thead>\n",
       "  <tbody>\n",
       "    <tr>\n",
       "      <th>0</th>\n",
       "      <td>EXR &amp; RCL</td>\n",
       "      <td>0.457621</td>\n",
       "      <td>0.375633</td>\n",
       "      <td>8</td>\n",
       "      <td>0.077808</td>\n",
       "      <td>0.057065</td>\n",
       "      <td>-0.011513</td>\n",
       "      <td>model_011</td>\n",
       "      <td>-0.286155</td>\n",
       "      <td>0.205255</td>\n",
       "      <td>-0.080900</td>\n",
       "      <td>-0.147673</td>\n",
       "      <td>-0.352928</td>\n",
       "      <td>-0.066773</td>\n",
       "      <td>0.066773</td>\n",
       "      <td>1.0</td>\n",
       "    </tr>\n",
       "    <tr>\n",
       "      <th>1</th>\n",
       "      <td>EXR &amp; CLX</td>\n",
       "      <td>0.457273</td>\n",
       "      <td>0.382823</td>\n",
       "      <td>10</td>\n",
       "      <td>0.058197</td>\n",
       "      <td>0.090185</td>\n",
       "      <td>-0.017592</td>\n",
       "      <td>model_011</td>\n",
       "      <td>0.057128</td>\n",
       "      <td>0.306009</td>\n",
       "      <td>0.363137</td>\n",
       "      <td>0.283479</td>\n",
       "      <td>-0.022530</td>\n",
       "      <td>-0.079658</td>\n",
       "      <td>0.079658</td>\n",
       "      <td>-1.0</td>\n",
       "    </tr>\n",
       "    <tr>\n",
       "      <th>2</th>\n",
       "      <td>EXR &amp; NSC</td>\n",
       "      <td>0.366751</td>\n",
       "      <td>0.481276</td>\n",
       "      <td>10</td>\n",
       "      <td>0.112220</td>\n",
       "      <td>0.186347</td>\n",
       "      <td>-0.055383</td>\n",
       "      <td>model_211</td>\n",
       "      <td>0.087176</td>\n",
       "      <td>0.055425</td>\n",
       "      <td>0.142601</td>\n",
       "      <td>0.136238</td>\n",
       "      <td>0.080813</td>\n",
       "      <td>-0.006363</td>\n",
       "      <td>0.006363</td>\n",
       "      <td>1.0</td>\n",
       "    </tr>\n",
       "    <tr>\n",
       "      <th>3</th>\n",
       "      <td>EXR &amp; CXO</td>\n",
       "      <td>0.318106</td>\n",
       "      <td>0.517407</td>\n",
       "      <td>10</td>\n",
       "      <td>0.064295</td>\n",
       "      <td>0.109238</td>\n",
       "      <td>-0.032370</td>\n",
       "      <td>model_011</td>\n",
       "      <td>0.006966</td>\n",
       "      <td>-0.140021</td>\n",
       "      <td>-0.133055</td>\n",
       "      <td>-0.168771</td>\n",
       "      <td>-0.028750</td>\n",
       "      <td>-0.035717</td>\n",
       "      <td>0.035717</td>\n",
       "      <td>-1.0</td>\n",
       "    </tr>\n",
       "    <tr>\n",
       "      <th>4</th>\n",
       "      <td>EXR &amp; AKAM</td>\n",
       "      <td>0.339993</td>\n",
       "      <td>0.494846</td>\n",
       "      <td>10</td>\n",
       "      <td>0.193701</td>\n",
       "      <td>0.081423</td>\n",
       "      <td>-0.013917</td>\n",
       "      <td>model_011</td>\n",
       "      <td>-0.245188</td>\n",
       "      <td>0.101430</td>\n",
       "      <td>-0.143758</td>\n",
       "      <td>0.043027</td>\n",
       "      <td>-0.058403</td>\n",
       "      <td>0.186785</td>\n",
       "      <td>0.186785</td>\n",
       "      <td>1.0</td>\n",
       "    </tr>\n",
       "    <tr>\n",
       "      <th>...</th>\n",
       "      <td>...</td>\n",
       "      <td>...</td>\n",
       "      <td>...</td>\n",
       "      <td>...</td>\n",
       "      <td>...</td>\n",
       "      <td>...</td>\n",
       "      <td>...</td>\n",
       "      <td>...</td>\n",
       "      <td>...</td>\n",
       "      <td>...</td>\n",
       "      <td>...</td>\n",
       "      <td>...</td>\n",
       "      <td>...</td>\n",
       "      <td>...</td>\n",
       "      <td>...</td>\n",
       "      <td>...</td>\n",
       "    </tr>\n",
       "    <tr>\n",
       "      <th>98785</th>\n",
       "      <td>CNP &amp; RSG</td>\n",
       "      <td>0.492231</td>\n",
       "      <td>0.370836</td>\n",
       "      <td>10</td>\n",
       "      <td>0.051974</td>\n",
       "      <td>0.047346</td>\n",
       "      <td>-0.001398</td>\n",
       "      <td>model_011</td>\n",
       "      <td>0.117396</td>\n",
       "      <td>0.481068</td>\n",
       "      <td>0.598464</td>\n",
       "      <td>0.644345</td>\n",
       "      <td>0.163277</td>\n",
       "      <td>0.045881</td>\n",
       "      <td>0.045881</td>\n",
       "      <td>1.0</td>\n",
       "    </tr>\n",
       "    <tr>\n",
       "      <th>98786</th>\n",
       "      <td>CNP &amp; DIS</td>\n",
       "      <td>0.227074</td>\n",
       "      <td>0.505718</td>\n",
       "      <td>10</td>\n",
       "      <td>0.037126</td>\n",
       "      <td>0.100746</td>\n",
       "      <td>-0.028354</td>\n",
       "      <td>model_011</td>\n",
       "      <td>-0.144942</td>\n",
       "      <td>-0.044283</td>\n",
       "      <td>-0.189226</td>\n",
       "      <td>-0.219005</td>\n",
       "      <td>-0.174722</td>\n",
       "      <td>-0.029779</td>\n",
       "      <td>0.029779</td>\n",
       "      <td>1.0</td>\n",
       "    </tr>\n",
       "    <tr>\n",
       "      <th>98787</th>\n",
       "      <td>ZION &amp; RSG</td>\n",
       "      <td>0.266866</td>\n",
       "      <td>0.402316</td>\n",
       "      <td>10</td>\n",
       "      <td>0.063592</td>\n",
       "      <td>0.103010</td>\n",
       "      <td>-0.028490</td>\n",
       "      <td>model_110</td>\n",
       "      <td>-0.060732</td>\n",
       "      <td>0.269728</td>\n",
       "      <td>0.208996</td>\n",
       "      <td>-0.013980</td>\n",
       "      <td>-0.283708</td>\n",
       "      <td>-0.222976</td>\n",
       "      <td>0.222976</td>\n",
       "      <td>1.0</td>\n",
       "    </tr>\n",
       "    <tr>\n",
       "      <th>98788</th>\n",
       "      <td>ZION &amp; DIS</td>\n",
       "      <td>0.428440</td>\n",
       "      <td>0.499489</td>\n",
       "      <td>10</td>\n",
       "      <td>0.069950</td>\n",
       "      <td>0.082897</td>\n",
       "      <td>-0.021728</td>\n",
       "      <td>model_011</td>\n",
       "      <td>-0.591179</td>\n",
       "      <td>0.360776</td>\n",
       "      <td>-0.230403</td>\n",
       "      <td>-0.261509</td>\n",
       "      <td>-0.622285</td>\n",
       "      <td>-0.031106</td>\n",
       "      <td>0.031106</td>\n",
       "      <td>1.0</td>\n",
       "    </tr>\n",
       "    <tr>\n",
       "      <th>98789</th>\n",
       "      <td>RSG &amp; DIS</td>\n",
       "      <td>0.484992</td>\n",
       "      <td>0.470359</td>\n",
       "      <td>10</td>\n",
       "      <td>0.040655</td>\n",
       "      <td>0.055504</td>\n",
       "      <td>-0.002692</td>\n",
       "      <td>model_211</td>\n",
       "      <td>-0.311451</td>\n",
       "      <td>-0.197116</td>\n",
       "      <td>-0.508567</td>\n",
       "      <td>-0.479336</td>\n",
       "      <td>-0.282220</td>\n",
       "      <td>0.029230</td>\n",
       "      <td>0.029230</td>\n",
       "      <td>1.0</td>\n",
       "    </tr>\n",
       "  </tbody>\n",
       "</table>\n",
       "<p>98790 rows × 16 columns</p>\n",
       "</div>"
      ],
      "text/plain": [
       "        portfolio  corr_ser_mean  corr_ser_std  corr_season_period  \\\n",
       "0       EXR & RCL       0.457621      0.375633                   8   \n",
       "1       EXR & CLX       0.457273      0.382823                  10   \n",
       "2       EXR & NSC       0.366751      0.481276                  10   \n",
       "3       EXR & CXO       0.318106      0.517407                  10   \n",
       "4      EXR & AKAM       0.339993      0.494846                  10   \n",
       "...           ...            ...           ...                 ...   \n",
       "98785   CNP & RSG       0.492231      0.370836                  10   \n",
       "98786   CNP & DIS       0.227074      0.505718                  10   \n",
       "98787  ZION & RSG       0.266866      0.402316                  10   \n",
       "98788  ZION & DIS       0.428440      0.499489                  10   \n",
       "98789   RSG & DIS       0.484992      0.470359                  10   \n",
       "\n",
       "       corr_stl_resid  corr_stl_trend_std  corr_trend_coef arima_model  \\\n",
       "0            0.077808            0.057065        -0.011513   model_011   \n",
       "1            0.058197            0.090185        -0.017592   model_011   \n",
       "2            0.112220            0.186347        -0.055383   model_211   \n",
       "3            0.064295            0.109238        -0.032370   model_011   \n",
       "4            0.193701            0.081423        -0.013917   model_011   \n",
       "...               ...                 ...              ...         ...   \n",
       "98785        0.051974            0.047346        -0.001398   model_011   \n",
       "98786        0.037126            0.100746        -0.028354   model_011   \n",
       "98787        0.063592            0.103010        -0.028490   model_110   \n",
       "98788        0.069950            0.082897        -0.021728   model_011   \n",
       "98789        0.040655            0.055504        -0.002692   model_211   \n",
       "\n",
       "       lstm_pred  arima_pred  hybrid_model_pred  ground_truth  arima_err  \\\n",
       "0      -0.286155    0.205255          -0.080900     -0.147673  -0.352928   \n",
       "1       0.057128    0.306009           0.363137      0.283479  -0.022530   \n",
       "2       0.087176    0.055425           0.142601      0.136238   0.080813   \n",
       "3       0.006966   -0.140021          -0.133055     -0.168771  -0.028750   \n",
       "4      -0.245188    0.101430          -0.143758      0.043027  -0.058403   \n",
       "...          ...         ...                ...           ...        ...   \n",
       "98785   0.117396    0.481068           0.598464      0.644345   0.163277   \n",
       "98786  -0.144942   -0.044283          -0.189226     -0.219005  -0.174722   \n",
       "98787  -0.060732    0.269728           0.208996     -0.013980  -0.283708   \n",
       "98788  -0.591179    0.360776          -0.230403     -0.261509  -0.622285   \n",
       "98789  -0.311451   -0.197116          -0.508567     -0.479336  -0.282220   \n",
       "\n",
       "          error  absolute_err  lstm_compensation_dir  \n",
       "0     -0.066773      0.066773                    1.0  \n",
       "1     -0.079658      0.079658                   -1.0  \n",
       "2     -0.006363      0.006363                    1.0  \n",
       "3     -0.035717      0.035717                   -1.0  \n",
       "4      0.186785      0.186785                    1.0  \n",
       "...         ...           ...                    ...  \n",
       "98785  0.045881      0.045881                    1.0  \n",
       "98786 -0.029779      0.029779                    1.0  \n",
       "98787 -0.222976      0.222976                    1.0  \n",
       "98788 -0.031106      0.031106                    1.0  \n",
       "98789  0.029230      0.029230                    1.0  \n",
       "\n",
       "[98790 rows x 16 columns]"
      ]
     },
     "metadata": {},
     "output_type": "display_data"
    },
    {
     "name": "stderr",
     "output_type": "stream",
     "text": [
      "1:80: E501 line too long (95 > 79 characters)\n"
     ]
    }
   ],
   "source": [
    "res_df = pd.read_csv(f\"./stock_correlation_prediction/use_hybrid_model/{output_file_name}.csv\")\n",
    "display(res_df)"
   ]
  },
  {
   "cell_type": "code",
   "execution_count": 13,
   "id": "89180e3d-ee6c-4b6d-a05e-ea386f3f272f",
   "metadata": {
    "tags": []
   },
   "outputs": [
    {
     "data": {
      "text/plain": [
       "nan"
      ]
     },
     "metadata": {},
     "output_type": "display_data"
    },
    {
     "data": {
      "text/plain": [
       "nan"
      ]
     },
     "metadata": {},
     "output_type": "display_data"
    },
    {
     "data": {
      "text/html": [
       "<div>\n",
       "<style scoped>\n",
       "    .dataframe tbody tr th:only-of-type {\n",
       "        vertical-align: middle;\n",
       "    }\n",
       "\n",
       "    .dataframe tbody tr th {\n",
       "        vertical-align: top;\n",
       "    }\n",
       "\n",
       "    .dataframe thead th {\n",
       "        text-align: right;\n",
       "    }\n",
       "</style>\n",
       "<table border=\"1\" class=\"dataframe\">\n",
       "  <thead>\n",
       "    <tr style=\"text-align: right;\">\n",
       "      <th></th>\n",
       "      <th>portfolio</th>\n",
       "      <th>corr_ser_mean</th>\n",
       "      <th>corr_ser_std</th>\n",
       "      <th>corr_season_period</th>\n",
       "      <th>corr_stl_resid</th>\n",
       "      <th>corr_stl_trend_std</th>\n",
       "      <th>corr_trend_coef</th>\n",
       "      <th>arima_model</th>\n",
       "      <th>lstm_pred</th>\n",
       "      <th>arima_pred</th>\n",
       "      <th>hybrid_model_pred</th>\n",
       "      <th>ground_truth</th>\n",
       "      <th>arima_err</th>\n",
       "      <th>error</th>\n",
       "      <th>absolute_err</th>\n",
       "      <th>lstm_compensation_dir</th>\n",
       "      <th>arima_pred_dir</th>\n",
       "      <th>high_pred_performance</th>\n",
       "      <th>portfolio[0]</th>\n",
       "      <th>portfolio[1]</th>\n",
       "    </tr>\n",
       "  </thead>\n",
       "  <tbody>\n",
       "    <tr>\n",
       "      <th>0</th>\n",
       "      <td>EXR &amp; RCL</td>\n",
       "      <td>0.457621</td>\n",
       "      <td>0.375633</td>\n",
       "      <td>8</td>\n",
       "      <td>0.077808</td>\n",
       "      <td>0.057065</td>\n",
       "      <td>-0.011513</td>\n",
       "      <td>model_011</td>\n",
       "      <td>-0.286155</td>\n",
       "      <td>0.205255</td>\n",
       "      <td>-0.080900</td>\n",
       "      <td>-0.147673</td>\n",
       "      <td>-0.352928</td>\n",
       "      <td>-0.066773</td>\n",
       "      <td>0.066773</td>\n",
       "      <td>1.0</td>\n",
       "      <td>-1.0</td>\n",
       "      <td>False</td>\n",
       "      <td>EXR</td>\n",
       "      <td>RCL</td>\n",
       "    </tr>\n",
       "    <tr>\n",
       "      <th>1</th>\n",
       "      <td>EXR &amp; CLX</td>\n",
       "      <td>0.457273</td>\n",
       "      <td>0.382823</td>\n",
       "      <td>10</td>\n",
       "      <td>0.058197</td>\n",
       "      <td>0.090185</td>\n",
       "      <td>-0.017592</td>\n",
       "      <td>model_011</td>\n",
       "      <td>0.057128</td>\n",
       "      <td>0.306009</td>\n",
       "      <td>0.363137</td>\n",
       "      <td>0.283479</td>\n",
       "      <td>-0.022530</td>\n",
       "      <td>-0.079658</td>\n",
       "      <td>0.079658</td>\n",
       "      <td>-1.0</td>\n",
       "      <td>1.0</td>\n",
       "      <td>False</td>\n",
       "      <td>EXR</td>\n",
       "      <td>CLX</td>\n",
       "    </tr>\n",
       "    <tr>\n",
       "      <th>2</th>\n",
       "      <td>EXR &amp; NSC</td>\n",
       "      <td>0.366751</td>\n",
       "      <td>0.481276</td>\n",
       "      <td>10</td>\n",
       "      <td>0.112220</td>\n",
       "      <td>0.186347</td>\n",
       "      <td>-0.055383</td>\n",
       "      <td>model_211</td>\n",
       "      <td>0.087176</td>\n",
       "      <td>0.055425</td>\n",
       "      <td>0.142601</td>\n",
       "      <td>0.136238</td>\n",
       "      <td>0.080813</td>\n",
       "      <td>-0.006363</td>\n",
       "      <td>0.006363</td>\n",
       "      <td>1.0</td>\n",
       "      <td>1.0</td>\n",
       "      <td>False</td>\n",
       "      <td>EXR</td>\n",
       "      <td>NSC</td>\n",
       "    </tr>\n",
       "    <tr>\n",
       "      <th>3</th>\n",
       "      <td>EXR &amp; CXO</td>\n",
       "      <td>0.318106</td>\n",
       "      <td>0.517407</td>\n",
       "      <td>10</td>\n",
       "      <td>0.064295</td>\n",
       "      <td>0.109238</td>\n",
       "      <td>-0.032370</td>\n",
       "      <td>model_011</td>\n",
       "      <td>0.006966</td>\n",
       "      <td>-0.140021</td>\n",
       "      <td>-0.133055</td>\n",
       "      <td>-0.168771</td>\n",
       "      <td>-0.028750</td>\n",
       "      <td>-0.035717</td>\n",
       "      <td>0.035717</td>\n",
       "      <td>-1.0</td>\n",
       "      <td>1.0</td>\n",
       "      <td>False</td>\n",
       "      <td>EXR</td>\n",
       "      <td>CXO</td>\n",
       "    </tr>\n",
       "    <tr>\n",
       "      <th>4</th>\n",
       "      <td>EXR &amp; AKAM</td>\n",
       "      <td>0.339993</td>\n",
       "      <td>0.494846</td>\n",
       "      <td>10</td>\n",
       "      <td>0.193701</td>\n",
       "      <td>0.081423</td>\n",
       "      <td>-0.013917</td>\n",
       "      <td>model_011</td>\n",
       "      <td>-0.245188</td>\n",
       "      <td>0.101430</td>\n",
       "      <td>-0.143758</td>\n",
       "      <td>0.043027</td>\n",
       "      <td>-0.058403</td>\n",
       "      <td>0.186785</td>\n",
       "      <td>0.186785</td>\n",
       "      <td>1.0</td>\n",
       "      <td>1.0</td>\n",
       "      <td>False</td>\n",
       "      <td>EXR</td>\n",
       "      <td>AKAM</td>\n",
       "    </tr>\n",
       "    <tr>\n",
       "      <th>...</th>\n",
       "      <td>...</td>\n",
       "      <td>...</td>\n",
       "      <td>...</td>\n",
       "      <td>...</td>\n",
       "      <td>...</td>\n",
       "      <td>...</td>\n",
       "      <td>...</td>\n",
       "      <td>...</td>\n",
       "      <td>...</td>\n",
       "      <td>...</td>\n",
       "      <td>...</td>\n",
       "      <td>...</td>\n",
       "      <td>...</td>\n",
       "      <td>...</td>\n",
       "      <td>...</td>\n",
       "      <td>...</td>\n",
       "      <td>...</td>\n",
       "      <td>...</td>\n",
       "      <td>...</td>\n",
       "      <td>...</td>\n",
       "    </tr>\n",
       "    <tr>\n",
       "      <th>98785</th>\n",
       "      <td>CNP &amp; RSG</td>\n",
       "      <td>0.492231</td>\n",
       "      <td>0.370836</td>\n",
       "      <td>10</td>\n",
       "      <td>0.051974</td>\n",
       "      <td>0.047346</td>\n",
       "      <td>-0.001398</td>\n",
       "      <td>model_011</td>\n",
       "      <td>0.117396</td>\n",
       "      <td>0.481068</td>\n",
       "      <td>0.598464</td>\n",
       "      <td>0.644345</td>\n",
       "      <td>0.163277</td>\n",
       "      <td>0.045881</td>\n",
       "      <td>0.045881</td>\n",
       "      <td>1.0</td>\n",
       "      <td>1.0</td>\n",
       "      <td>False</td>\n",
       "      <td>CNP</td>\n",
       "      <td>RSG</td>\n",
       "    </tr>\n",
       "    <tr>\n",
       "      <th>98786</th>\n",
       "      <td>CNP &amp; DIS</td>\n",
       "      <td>0.227074</td>\n",
       "      <td>0.505718</td>\n",
       "      <td>10</td>\n",
       "      <td>0.037126</td>\n",
       "      <td>0.100746</td>\n",
       "      <td>-0.028354</td>\n",
       "      <td>model_011</td>\n",
       "      <td>-0.144942</td>\n",
       "      <td>-0.044283</td>\n",
       "      <td>-0.189226</td>\n",
       "      <td>-0.219005</td>\n",
       "      <td>-0.174722</td>\n",
       "      <td>-0.029779</td>\n",
       "      <td>0.029779</td>\n",
       "      <td>1.0</td>\n",
       "      <td>1.0</td>\n",
       "      <td>False</td>\n",
       "      <td>CNP</td>\n",
       "      <td>DIS</td>\n",
       "    </tr>\n",
       "    <tr>\n",
       "      <th>98787</th>\n",
       "      <td>ZION &amp; RSG</td>\n",
       "      <td>0.266866</td>\n",
       "      <td>0.402316</td>\n",
       "      <td>10</td>\n",
       "      <td>0.063592</td>\n",
       "      <td>0.103010</td>\n",
       "      <td>-0.028490</td>\n",
       "      <td>model_110</td>\n",
       "      <td>-0.060732</td>\n",
       "      <td>0.269728</td>\n",
       "      <td>0.208996</td>\n",
       "      <td>-0.013980</td>\n",
       "      <td>-0.283708</td>\n",
       "      <td>-0.222976</td>\n",
       "      <td>0.222976</td>\n",
       "      <td>1.0</td>\n",
       "      <td>-1.0</td>\n",
       "      <td>False</td>\n",
       "      <td>ZION</td>\n",
       "      <td>RSG</td>\n",
       "    </tr>\n",
       "    <tr>\n",
       "      <th>98788</th>\n",
       "      <td>ZION &amp; DIS</td>\n",
       "      <td>0.428440</td>\n",
       "      <td>0.499489</td>\n",
       "      <td>10</td>\n",
       "      <td>0.069950</td>\n",
       "      <td>0.082897</td>\n",
       "      <td>-0.021728</td>\n",
       "      <td>model_011</td>\n",
       "      <td>-0.591179</td>\n",
       "      <td>0.360776</td>\n",
       "      <td>-0.230403</td>\n",
       "      <td>-0.261509</td>\n",
       "      <td>-0.622285</td>\n",
       "      <td>-0.031106</td>\n",
       "      <td>0.031106</td>\n",
       "      <td>1.0</td>\n",
       "      <td>-1.0</td>\n",
       "      <td>False</td>\n",
       "      <td>ZION</td>\n",
       "      <td>DIS</td>\n",
       "    </tr>\n",
       "    <tr>\n",
       "      <th>98789</th>\n",
       "      <td>RSG &amp; DIS</td>\n",
       "      <td>0.484992</td>\n",
       "      <td>0.470359</td>\n",
       "      <td>10</td>\n",
       "      <td>0.040655</td>\n",
       "      <td>0.055504</td>\n",
       "      <td>-0.002692</td>\n",
       "      <td>model_211</td>\n",
       "      <td>-0.311451</td>\n",
       "      <td>-0.197116</td>\n",
       "      <td>-0.508567</td>\n",
       "      <td>-0.479336</td>\n",
       "      <td>-0.282220</td>\n",
       "      <td>0.029230</td>\n",
       "      <td>0.029230</td>\n",
       "      <td>1.0</td>\n",
       "      <td>1.0</td>\n",
       "      <td>False</td>\n",
       "      <td>RSG</td>\n",
       "      <td>DIS</td>\n",
       "    </tr>\n",
       "  </tbody>\n",
       "</table>\n",
       "<p>98790 rows × 20 columns</p>\n",
       "</div>"
      ],
      "text/plain": [
       "        portfolio  corr_ser_mean  corr_ser_std  corr_season_period  \\\n",
       "0       EXR & RCL       0.457621      0.375633                   8   \n",
       "1       EXR & CLX       0.457273      0.382823                  10   \n",
       "2       EXR & NSC       0.366751      0.481276                  10   \n",
       "3       EXR & CXO       0.318106      0.517407                  10   \n",
       "4      EXR & AKAM       0.339993      0.494846                  10   \n",
       "...           ...            ...           ...                 ...   \n",
       "98785   CNP & RSG       0.492231      0.370836                  10   \n",
       "98786   CNP & DIS       0.227074      0.505718                  10   \n",
       "98787  ZION & RSG       0.266866      0.402316                  10   \n",
       "98788  ZION & DIS       0.428440      0.499489                  10   \n",
       "98789   RSG & DIS       0.484992      0.470359                  10   \n",
       "\n",
       "       corr_stl_resid  corr_stl_trend_std  corr_trend_coef arima_model  \\\n",
       "0            0.077808            0.057065        -0.011513   model_011   \n",
       "1            0.058197            0.090185        -0.017592   model_011   \n",
       "2            0.112220            0.186347        -0.055383   model_211   \n",
       "3            0.064295            0.109238        -0.032370   model_011   \n",
       "4            0.193701            0.081423        -0.013917   model_011   \n",
       "...               ...                 ...              ...         ...   \n",
       "98785        0.051974            0.047346        -0.001398   model_011   \n",
       "98786        0.037126            0.100746        -0.028354   model_011   \n",
       "98787        0.063592            0.103010        -0.028490   model_110   \n",
       "98788        0.069950            0.082897        -0.021728   model_011   \n",
       "98789        0.040655            0.055504        -0.002692   model_211   \n",
       "\n",
       "       lstm_pred  arima_pred  hybrid_model_pred  ground_truth  arima_err  \\\n",
       "0      -0.286155    0.205255          -0.080900     -0.147673  -0.352928   \n",
       "1       0.057128    0.306009           0.363137      0.283479  -0.022530   \n",
       "2       0.087176    0.055425           0.142601      0.136238   0.080813   \n",
       "3       0.006966   -0.140021          -0.133055     -0.168771  -0.028750   \n",
       "4      -0.245188    0.101430          -0.143758      0.043027  -0.058403   \n",
       "...          ...         ...                ...           ...        ...   \n",
       "98785   0.117396    0.481068           0.598464      0.644345   0.163277   \n",
       "98786  -0.144942   -0.044283          -0.189226     -0.219005  -0.174722   \n",
       "98787  -0.060732    0.269728           0.208996     -0.013980  -0.283708   \n",
       "98788  -0.591179    0.360776          -0.230403     -0.261509  -0.622285   \n",
       "98789  -0.311451   -0.197116          -0.508567     -0.479336  -0.282220   \n",
       "\n",
       "          error  absolute_err  lstm_compensation_dir  arima_pred_dir  \\\n",
       "0     -0.066773      0.066773                    1.0            -1.0   \n",
       "1     -0.079658      0.079658                   -1.0             1.0   \n",
       "2     -0.006363      0.006363                    1.0             1.0   \n",
       "3     -0.035717      0.035717                   -1.0             1.0   \n",
       "4      0.186785      0.186785                    1.0             1.0   \n",
       "...         ...           ...                    ...             ...   \n",
       "98785  0.045881      0.045881                    1.0             1.0   \n",
       "98786 -0.029779      0.029779                    1.0             1.0   \n",
       "98787 -0.222976      0.222976                    1.0            -1.0   \n",
       "98788 -0.031106      0.031106                    1.0            -1.0   \n",
       "98789  0.029230      0.029230                    1.0             1.0   \n",
       "\n",
       "       high_pred_performance portfolio[0] portfolio[1]  \n",
       "0                      False          EXR          RCL  \n",
       "1                      False          EXR          CLX  \n",
       "2                      False          EXR          NSC  \n",
       "3                      False          EXR          CXO  \n",
       "4                      False          EXR         AKAM  \n",
       "...                      ...          ...          ...  \n",
       "98785                  False          CNP          RSG  \n",
       "98786                  False          CNP          DIS  \n",
       "98787                  False         ZION          RSG  \n",
       "98788                  False         ZION          DIS  \n",
       "98789                  False          RSG          DIS  \n",
       "\n",
       "[98790 rows x 20 columns]"
      ]
     },
     "metadata": {},
     "output_type": "display_data"
    },
    {
     "name": "stderr",
     "output_type": "stream",
     "text": [
      "2:80: E501 line too long (94 > 79 characters)\n",
      "3:80: E501 line too long (80 > 79 characters)\n",
      "4:80: E501 line too long (151 > 79 characters)\n",
      "5:80: E501 line too long (83 > 79 characters)\n"
     ]
    },
    {
     "ename": "ValueError",
     "evalue": "too many values to unpack (expected 3)",
     "output_type": "error",
     "traceback": [
      "\u001b[0;31m---------------------------------------------------------------------------\u001b[0m",
      "\u001b[0;31mValueError\u001b[0m                                Traceback (most recent call last)",
      "File \u001b[0;32m/usr/local/lib/python3.8/dist-packages/pycodestyle_magic.py:46\u001b[0m, in \u001b[0;36mVarWatcher.auto_run_pycodestyle\u001b[0;34m(self, result)\u001b[0m\n\u001b[1;32m     45\u001b[0m \u001b[38;5;28;01mdef\u001b[39;00m \u001b[38;5;21mauto_run_pycodestyle\u001b[39m(\u001b[38;5;28mself\u001b[39m, result):\n\u001b[0;32m---> 46\u001b[0m     \u001b[43mpycodestyle\u001b[49m\u001b[43m(\u001b[49m\u001b[38;5;241;43m1\u001b[39;49m\u001b[43m,\u001b[49m\u001b[43m \u001b[49m\u001b[43mresult\u001b[49m\u001b[38;5;241;43m.\u001b[39;49m\u001b[43minfo\u001b[49m\u001b[38;5;241;43m.\u001b[39;49m\u001b[43mraw_cell\u001b[49m\u001b[43m,\u001b[49m\u001b[43m \u001b[49m\u001b[43mauto\u001b[49m\u001b[38;5;241;43m=\u001b[39;49m\u001b[38;5;28;43;01mTrue\u001b[39;49;00m\u001b[43m)\u001b[49m\n\u001b[1;32m     47\u001b[0m     \u001b[38;5;28;01mif\u001b[39;00m result\u001b[38;5;241m.\u001b[39merror_before_exec:\n\u001b[1;32m     48\u001b[0m         \u001b[38;5;28mprint\u001b[39m(\u001b[38;5;124m'\u001b[39m\u001b[38;5;124mError before execution: \u001b[39m\u001b[38;5;132;01m%s\u001b[39;00m\u001b[38;5;124m'\u001b[39m \u001b[38;5;241m%\u001b[39m result\u001b[38;5;241m.\u001b[39merror_before_exec)\n",
      "File \u001b[0;32m/usr/local/lib/python3.8/dist-packages/pycodestyle_magic.py:175\u001b[0m, in \u001b[0;36mpycodestyle\u001b[0;34m(line, cell, auto)\u001b[0m\n\u001b[1;32m    170\u001b[0m stdout \u001b[38;5;241m=\u001b[39m sys\u001b[38;5;241m.\u001b[39mstdout\u001b[38;5;241m.\u001b[39mgetvalue()\u001b[38;5;241m.\u001b[39msplitlines()   \n\u001b[1;32m    172\u001b[0m \u001b[38;5;28;01mfor\u001b[39;00m line \u001b[38;5;129;01min\u001b[39;00m stdout:\n\u001b[1;32m    173\u001b[0m     \u001b[38;5;66;03m#logger.info(line)     \u001b[39;00m\n\u001b[1;32m    174\u001b[0m     \u001b[38;5;66;03m# on windows drive path also contains :\u001b[39;00m\n\u001b[0;32m--> 175\u001b[0m     line, col, error \u001b[38;5;241m=\u001b[39m line\u001b[38;5;241m.\u001b[39msplit(\u001b[38;5;124m'\u001b[39m\u001b[38;5;124m:\u001b[39m\u001b[38;5;124m'\u001b[39m)[\u001b[38;5;241m-\u001b[39m\u001b[38;5;241m4\u001b[39m:] \n\u001b[1;32m    176\u001b[0m     \u001b[38;5;66;03m# do not subtract 1 for line for %%pycodestyle, inc pre py3.6 string\u001b[39;00m\n\u001b[1;32m    177\u001b[0m     \u001b[38;5;28;01mif\u001b[39;00m auto:\n",
      "\u001b[0;31mValueError\u001b[0m: too many values to unpack (expected 3)"
     ]
    }
   ],
   "source": [
    "def res_df_postprocess(target_df: pd.core.frame.DataFrame) -> None:\n",
    "    target_df['arima_pred_dir'] = np.sign(target_df['ground_truth'] * target_df['arima_pred'])\n",
    "    target_df['arima_err'] = target_df['ground_truth'] - target_df['arima_pred']\n",
    "    quantile_mask = np.logical_and(res_df['error'] < np.quantile(res_df['error'], 0.75), res_df['error'] > np.quantile(res_df['error'], 0.25)).tolist()\n",
    "    display(np.quantile(res_df['error'], 0.75), np.quantile(res_df['error'], 0.25))\n",
    "    target_df['high_pred_performance'] = quantile_mask\n",
    "    target_df['portfolio[0]'] = target_df.apply(lambda row:row['portfolio'].split(\" & \")[0], axis=1)\n",
    "    target_df['portfolio[1]'] = target_df.apply(lambda row:row['portfolio'].split(\" & \")[1], axis=1)\n",
    "\n",
    "\n",
    "res_df_postprocess(res_df)\n",
    "display(res_df)"
   ]
  },
  {
   "cell_type": "code",
   "execution_count": 14,
   "id": "b7b7c64a-f3c7-4b5d-93bc-737c4ae4bf67",
   "metadata": {
    "tags": []
   },
   "outputs": [
    {
     "name": "stderr",
     "output_type": "stream",
     "text": [
      "2:80: E501 line too long (101 > 79 characters)\n",
      "20:80: E501 line too long (98 > 79 characters)\n",
      "23:80: E501 line too long (84 > 79 characters)\n",
      "24:80: E501 line too long (89 > 79 characters)\n",
      "26:80: E501 line too long (83 > 79 characters)\n",
      "27:80: E501 line too long (90 > 79 characters)\n",
      "30:80: E501 line too long (89 > 79 characters)\n",
      "32:80: E501 line too long (88 > 79 characters)\n",
      "33:80: E501 line too long (93 > 79 characters)\n",
      "36:80: E501 line too long (86 > 79 characters)\n",
      "37:17: E231 missing whitespace after ','\n",
      "39:26: E225 missing whitespace around operator\n",
      "39:80: E501 line too long (87 > 79 characters)\n",
      "40:17: E231 missing whitespace after ','\n",
      "42:26: E225 missing whitespace around operator\n",
      "42:80: E501 line too long (86 > 79 characters)\n",
      "43:1: W293 blank line contains whitespace\n",
      "46:80: E501 line too long (106 > 79 characters)\n"
     ]
    }
   ],
   "source": [
    "def plot_exploration(target_df: pd.core.frame.DataFrame, title: str) -> None:\n",
    "    fig, axes = plt.subplots(figsize=(20, 20), nrows=7, ncols=2, sharex=False, sharey=False, dpi=100)\n",
    "    s0 = axes[0, 0]\n",
    "    s0.set_title(\"ABS_err violin\")\n",
    "    sns.violinplot(y=target_df[\"absolute_err\"], ax=s0)\n",
    "    s1 = axes[0, 1]\n",
    "    s1.set_title(\"Err violin\")\n",
    "    sns.violinplot(y=target_df[\"error\"], ax=s1)\n",
    "    s2 = axes[1, 0]\n",
    "    s2.set_title(\"ABS_err hist\")\n",
    "    target_df['absolute_err'].hist(bins=[b/10 for b in range(11)], ax=s2)\n",
    "    s3 = axes[1, 1]\n",
    "    s3.set_title(\"Err hist\")\n",
    "    target_df['error'].hist(bins=[b/10 for b in range(-10, 11)], ax=s3)\n",
    "    s4 = axes[2, 0]\n",
    "    s4.set_title(\"LSTM_compensation_dir count\")\n",
    "    sns.countplot(x=\"lstm_compensation_dir\", data=target_df, ax=s4)\n",
    "    s5 = axes[2, 1]\n",
    "    s5.set_title(\"LSTM_compensation_dir count groupby ARIMA_pred_dir\")\n",
    "    df_gb = target_df.groupby(['arima_pred_dir', 'lstm_compensation_dir']).size().unstack(level=1)\n",
    "    df_gb.plot(kind='bar', ax=s5)\n",
    "    s6 = axes[3, 0]\n",
    "    s6.set_title(\"ARIMA_model prediction Err violin group by LSTM_compensation_dir\")\n",
    "    sns.violinplot(x=target_df[\"lstm_compensation_dir\"], y=target_df[\"arima_err\"], ax=s6)\n",
    "    s8 = axes[4, 0]\n",
    "    s8.set_title(\"ARIMA_model prediction magnitude group by LSTM_compensation_dir\")\n",
    "    sns.violinplot(x=target_df[\"lstm_compensation_dir\"], y=target_df[\"arima_pred\"], ax=s8)\n",
    "    s9 = axes[4, 1]\n",
    "    s9.set_title(\"LSTM compensation magnitude group by LSTM_compensation_dir\")\n",
    "    sns.violinplot(x=target_df[\"lstm_compensation_dir\"], y=target_df[\"lstm_pred\"], ax=s9)\n",
    "    s10 = axes[5, 0]\n",
    "    s10.set_title(\"Correlation magnitude in last period group by LSTM_compensation_dir\")\n",
    "    sns.violinplot(x=target_df[\"lstm_compensation_dir\"], y=target_df[\"ground_truth\"], ax=s10)\n",
    "    s11 = axes[5, 1]\n",
    "    s11.set_title(\"Hybrid Err violin group by LSTM_compensation_dir\")\n",
    "    sns.violinplot(x=target_df[\"lstm_compensation_dir\"], y=target_df[\"error\"], ax=s11)\n",
    "    s12 = axes[6,0]\n",
    "    s12.set_title(\"LSTM_compensation_dir pie with wrong ARIMA_pred_dir\")\n",
    "    df_gb.loc[df_gb.index==-1, :].squeeze().plot(kind=\"pie\", autopct='%1.1f%%', ax=s12)\n",
    "    s13 = axes[6,1]\n",
    "    s13.set_title(\"LSTM_compensation_dir pie with correct ARIMA_pred_dir\")\n",
    "    df_gb.loc[df_gb.index==1, :].squeeze().plot(kind=\"pie\", autopct='%1.1f%%', ax=s13)\n",
    "    \n",
    "    fig.suptitle(f\"{title}_basic_exploration\")\n",
    "    plt.tight_layout()\n",
    "    plt.savefig(f\"./stock_correlation_prediction/use_hybrid_model/hybrid_prediction_analysis_{title}.png\")\n",
    "    plt.show()\n",
    "    plt.close()"
   ]
  },
  {
   "cell_type": "code",
   "execution_count": 15,
   "id": "b0699ee9-76fc-4804-8981-71997148f358",
   "metadata": {
    "tags": []
   },
   "outputs": [
    {
     "name": "stderr",
     "output_type": "stream",
     "text": [
      "1:80: E501 line too long (90 > 79 characters)\n",
      "2:80: E501 line too long (101 > 79 characters)\n",
      "5:80: E501 line too long (105 > 79 characters)\n",
      "8:80: E501 line too long (84 > 79 characters)\n",
      "9:80: E501 line too long (90 > 79 characters)\n",
      "12:80: E501 line too long (89 > 79 characters)\n",
      "14:80: E501 line too long (88 > 79 characters)\n",
      "15:80: E501 line too long (92 > 79 characters)\n",
      "18:80: E501 line too long (93 > 79 characters)\n",
      "21:80: E501 line too long (92 > 79 characters)\n",
      "23:80: E501 line too long (81 > 79 characters)\n",
      "24:80: E501 line too long (98 > 79 characters)\n",
      "26:80: E501 line too long (83 > 79 characters)\n",
      "27:80: E501 line too long (94 > 79 characters)\n",
      "29:80: E501 line too long (84 > 79 characters)\n",
      "30:80: E501 line too long (98 > 79 characters)\n",
      "32:80: E501 line too long (86 > 79 characters)\n",
      "33:80: E501 line too long (96 > 79 characters)\n",
      "36:80: E501 line too long (98 > 79 characters)\n",
      "41:80: E501 line too long (127 > 79 characters)\n"
     ]
    }
   ],
   "source": [
    "def plot_exploration_pred_perform(target_df: pd.core.frame.DataFrame, title: str) -> None:\n",
    "    fig, axes = plt.subplots(figsize=(20, 20), nrows=6, ncols=2, sharex=False, sharey=False, dpi=100)\n",
    "    s1 = axes[0, 0]\n",
    "    s1.set_title(\"LSTM_compensation_dir count groupby prediction performance\")\n",
    "    df_gb = target_df.groupby(['high_pred_performance', 'lstm_compensation_dir']).size().unstack(level=1)\n",
    "    df_gb.plot(kind='bar', ax=s1)\n",
    "    s2 = axes[0, 1]\n",
    "    s2.set_title(\"ARIMA_model prediction magnitude group by prediction performance\")\n",
    "    sns.violinplot(x=target_df[\"high_pred_performance\"], y=target_df[\"arima_pred\"], ax=s2)\n",
    "    s3 = axes[1, 0]\n",
    "    s3.set_title(\"LSTM compensation magnitude group by prediction performance\")\n",
    "    sns.violinplot(x=target_df[\"high_pred_performance\"], y=target_df[\"lstm_pred\"], ax=s3)\n",
    "    s4 = axes[1, 1]\n",
    "    s4.set_title(\"Correlation magnitude in last period group by prediction performance\")\n",
    "    sns.violinplot(x=target_df[\"high_pred_performance\"], y=target_df[\"ground_truth\"], ax=s4)\n",
    "    s5 = axes[2, 0]\n",
    "    s5.set_title(\"Correlation series mean groupby prediction performance\")\n",
    "    sns.violinplot(x=target_df['high_pred_performance'], y=target_df[\"corr_ser_mean\"], ax=s5)\n",
    "    s6 = axes[2, 1]\n",
    "    s6.set_title(\"Correlation series std groupby prediction performance\")\n",
    "    sns.violinplot(x=target_df['high_pred_performance'], y=target_df[\"corr_ser_std\"], ax=s6)\n",
    "    s7 = axes[3, 0]\n",
    "    s7.set_title(\"Correlation series stl_period group by prediction performance\")\n",
    "    sns.violinplot(x=target_df[\"high_pred_performance\"], y=target_df[\"corr_season_period\"], ax=s7)\n",
    "    s8 = axes[3, 1]\n",
    "    s8.set_title(\"Correlation series stl_residual group by prediction performance\")\n",
    "    sns.violinplot(x=target_df[\"high_pred_performance\"], y=target_df[\"corr_stl_resid\"], ax=s8)\n",
    "    s9 = axes[4, 0]\n",
    "    s9.set_title(\"Correlation series stl_trend_std group by prediction performance\")\n",
    "    sns.violinplot(x=target_df[\"high_pred_performance\"], y=target_df[\"corr_stl_trend_std\"], ax=s9)\n",
    "    s10 = axes[4, 1]\n",
    "    s10.set_title(\"Correlation series stl_trend_coef group by prediction performance\")\n",
    "    sns.violinplot(x=target_df[\"high_pred_performance\"], y=target_df[\"corr_trend_coef\"], ax=s10)\n",
    "    s11 = axes[5, 0]\n",
    "    s11.set_title(\"ARIMA_pred_dir count groupby prediction performance\")\n",
    "    df_gb = target_df.groupby(['high_pred_performance', 'arima_pred_dir']).size().unstack(level=1)\n",
    "    df_gb.plot(kind='bar', ax=s11)\n",
    "\n",
    "    fig.suptitle(F\"{title}_groupby prediction\")\n",
    "    plt.tight_layout()\n",
    "    plt.savefig(f\"./stock_correlation_prediction/use_hybrid_model/hybrid_prediction_analysis_groupby_pred_perform_{title}.png\")\n",
    "    plt.show()\n",
    "    plt.close()"
   ]
  },
  {
   "cell_type": "code",
   "execution_count": 16,
   "id": "6f3dc54e-6c33-43a4-adb0-a15ffced28ec",
   "metadata": {},
   "outputs": [
    {
     "ename": "ValueError",
     "evalue": "too many values to unpack (expected 3)",
     "output_type": "error",
     "traceback": [
      "\u001b[0;31m---------------------------------------------------------------------------\u001b[0m",
      "\u001b[0;31mValueError\u001b[0m                                Traceback (most recent call last)",
      "File \u001b[0;32m/usr/local/lib/python3.8/dist-packages/pycodestyle_magic.py:46\u001b[0m, in \u001b[0;36mVarWatcher.auto_run_pycodestyle\u001b[0;34m(self, result)\u001b[0m\n\u001b[1;32m     45\u001b[0m \u001b[38;5;28;01mdef\u001b[39;00m \u001b[38;5;21mauto_run_pycodestyle\u001b[39m(\u001b[38;5;28mself\u001b[39m, result):\n\u001b[0;32m---> 46\u001b[0m     \u001b[43mpycodestyle\u001b[49m\u001b[43m(\u001b[49m\u001b[38;5;241;43m1\u001b[39;49m\u001b[43m,\u001b[49m\u001b[43m \u001b[49m\u001b[43mresult\u001b[49m\u001b[38;5;241;43m.\u001b[39;49m\u001b[43minfo\u001b[49m\u001b[38;5;241;43m.\u001b[39;49m\u001b[43mraw_cell\u001b[49m\u001b[43m,\u001b[49m\u001b[43m \u001b[49m\u001b[43mauto\u001b[49m\u001b[38;5;241;43m=\u001b[39;49m\u001b[38;5;28;43;01mTrue\u001b[39;49;00m\u001b[43m)\u001b[49m\n\u001b[1;32m     47\u001b[0m     \u001b[38;5;28;01mif\u001b[39;00m result\u001b[38;5;241m.\u001b[39merror_before_exec:\n\u001b[1;32m     48\u001b[0m         \u001b[38;5;28mprint\u001b[39m(\u001b[38;5;124m'\u001b[39m\u001b[38;5;124mError before execution: \u001b[39m\u001b[38;5;132;01m%s\u001b[39;00m\u001b[38;5;124m'\u001b[39m \u001b[38;5;241m%\u001b[39m result\u001b[38;5;241m.\u001b[39merror_before_exec)\n",
      "File \u001b[0;32m/usr/local/lib/python3.8/dist-packages/pycodestyle_magic.py:175\u001b[0m, in \u001b[0;36mpycodestyle\u001b[0;34m(line, cell, auto)\u001b[0m\n\u001b[1;32m    170\u001b[0m stdout \u001b[38;5;241m=\u001b[39m sys\u001b[38;5;241m.\u001b[39mstdout\u001b[38;5;241m.\u001b[39mgetvalue()\u001b[38;5;241m.\u001b[39msplitlines()   \n\u001b[1;32m    172\u001b[0m \u001b[38;5;28;01mfor\u001b[39;00m line \u001b[38;5;129;01min\u001b[39;00m stdout:\n\u001b[1;32m    173\u001b[0m     \u001b[38;5;66;03m#logger.info(line)     \u001b[39;00m\n\u001b[1;32m    174\u001b[0m     \u001b[38;5;66;03m# on windows drive path also contains :\u001b[39;00m\n\u001b[0;32m--> 175\u001b[0m     line, col, error \u001b[38;5;241m=\u001b[39m line\u001b[38;5;241m.\u001b[39msplit(\u001b[38;5;124m'\u001b[39m\u001b[38;5;124m:\u001b[39m\u001b[38;5;124m'\u001b[39m)[\u001b[38;5;241m-\u001b[39m\u001b[38;5;241m4\u001b[39m:] \n\u001b[1;32m    176\u001b[0m     \u001b[38;5;66;03m# do not subtract 1 for line for %%pycodestyle, inc pre py3.6 string\u001b[39;00m\n\u001b[1;32m    177\u001b[0m     \u001b[38;5;28;01mif\u001b[39;00m auto:\n",
      "\u001b[0;31mValueError\u001b[0m: too many values to unpack (expected 3)"
     ]
    }
   ],
   "source": [
    "def plot_stock_freq(target_df: pd.core.frame.DataFrame, title: str) -> None:\n",
    "    stocks_show_freq = target_df.loc[target_df['high_pred_performance'] == True, ['portfolio[0]','portfolio[1]']].stack().value_counts().to_dict()\n",
    "    plt.figure(figsize=(80, 10), dpi=100)\n",
    "    plt.bar(range(len(stocks_show_freq)), list(stocks_show_freq.values()))\n",
    "    plt.xticks(range(len(stocks_show_freq)), list(stocks_show_freq.keys()), rotation=60)\n",
    "    plt.title(F\"{title}_stock appearence frequence\")\n",
    "    plt.savefig(f\"./stock_correlation_prediction/use_hybrid_model/stock_appearence_frequence_{title}.png\")\n",
    "    plt.show()\n",
    "    plt.close()"
   ]
  },
  {
   "cell_type": "code",
   "execution_count": 17,
   "id": "73c94193-1825-45f3-92fb-5d252cdae48f",
   "metadata": {},
   "outputs": [
    {
     "data": {
      "text/plain": [
       "'mse :0.02605289462824795'"
      ]
     },
     "metadata": {},
     "output_type": "display_data"
    },
    {
     "data": {
      "text/plain": [
       "'std of square_err :0.09226370813822025'"
      ]
     },
     "metadata": {},
     "output_type": "display_data"
    },
    {
     "data": {
      "text/plain": [
       "'rmse :0.16140909090955177'"
      ]
     },
     "metadata": {},
     "output_type": "display_data"
    },
    {
     "data": {
      "text/plain": [
       "'mae : 0.09415817364823725'"
      ]
     },
     "metadata": {},
     "output_type": "display_data"
    },
    {
     "data": {
      "text/plain": [
       "'std of abs_err: 0.13110036973038325'"
      ]
     },
     "metadata": {},
     "output_type": "display_data"
    },
    {
     "ename": "ValueError",
     "evalue": "Input contains NaN.",
     "output_type": "error",
     "traceback": [
      "\u001b[0;31m---------------------------------------------------------------------------\u001b[0m",
      "\u001b[0;31mValueError\u001b[0m                                Traceback (most recent call last)",
      "Input \u001b[0;32mIn [17]\u001b[0m, in \u001b[0;36m<cell line: 7>\u001b[0;34m()\u001b[0m\n\u001b[1;32m      1\u001b[0m display(\u001b[38;5;124mf\u001b[39m\u001b[38;5;124m\"\u001b[39m\u001b[38;5;124mmse :\u001b[39m\u001b[38;5;132;01m{\u001b[39;00m(res_df[\u001b[38;5;124m'\u001b[39m\u001b[38;5;124merror\u001b[39m\u001b[38;5;124m'\u001b[39m]\u001b[38;5;241m*\u001b[39m\u001b[38;5;241m*\u001b[39m\u001b[38;5;241m2\u001b[39m)\u001b[38;5;241m.\u001b[39mmean()\u001b[38;5;132;01m}\u001b[39;00m\u001b[38;5;124m\"\u001b[39m,\n\u001b[1;32m      2\u001b[0m         \u001b[38;5;124mf\u001b[39m\u001b[38;5;124m\"\u001b[39m\u001b[38;5;124mstd of square_err :\u001b[39m\u001b[38;5;132;01m{\u001b[39;00m(res_df[\u001b[38;5;124m'\u001b[39m\u001b[38;5;124merror\u001b[39m\u001b[38;5;124m'\u001b[39m]\u001b[38;5;241m*\u001b[39m\u001b[38;5;241m*\u001b[39m\u001b[38;5;241m2\u001b[39m)\u001b[38;5;241m.\u001b[39mstd()\u001b[38;5;132;01m}\u001b[39;00m\u001b[38;5;124m\"\u001b[39m,\n\u001b[1;32m      3\u001b[0m         \u001b[38;5;124mf\u001b[39m\u001b[38;5;124m\"\u001b[39m\u001b[38;5;124mrmse :\u001b[39m\u001b[38;5;132;01m{\u001b[39;00mnp\u001b[38;5;241m.\u001b[39msqrt((res_df[\u001b[38;5;124m'\u001b[39m\u001b[38;5;124merror\u001b[39m\u001b[38;5;124m'\u001b[39m]\u001b[38;5;241m*\u001b[39m\u001b[38;5;241m*\u001b[39m\u001b[38;5;241m2\u001b[39m)\u001b[38;5;241m.\u001b[39mmean())\u001b[38;5;132;01m}\u001b[39;00m\u001b[38;5;124m\"\u001b[39m,\n\u001b[1;32m      4\u001b[0m         \u001b[38;5;124mf\u001b[39m\u001b[38;5;124m\"\u001b[39m\u001b[38;5;124mmae : \u001b[39m\u001b[38;5;132;01m{\u001b[39;00mres_df[\u001b[38;5;124m'\u001b[39m\u001b[38;5;124mabsolute_err\u001b[39m\u001b[38;5;124m'\u001b[39m]\u001b[38;5;241m.\u001b[39mmean()\u001b[38;5;132;01m}\u001b[39;00m\u001b[38;5;124m\"\u001b[39m,\n\u001b[1;32m      5\u001b[0m         \u001b[38;5;124mf\u001b[39m\u001b[38;5;124m\"\u001b[39m\u001b[38;5;124mstd of abs_err: \u001b[39m\u001b[38;5;132;01m{\u001b[39;00mres_df[\u001b[38;5;124m'\u001b[39m\u001b[38;5;124mabsolute_err\u001b[39m\u001b[38;5;124m'\u001b[39m]\u001b[38;5;241m.\u001b[39mstd()\u001b[38;5;132;01m}\u001b[39;00m\u001b[38;5;124m\"\u001b[39m)\n\u001b[0;32m----> 7\u001b[0m display(\u001b[38;5;124mf\u001b[39m\u001b[38;5;124m\"\u001b[39m\u001b[38;5;124msklearn mse: \u001b[39m\u001b[38;5;132;01m{\u001b[39;00mmean_squared_error(res_df[\u001b[38;5;124m'\u001b[39m\u001b[38;5;124mground_truth\u001b[39m\u001b[38;5;124m'\u001b[39m], res_df[\u001b[38;5;124m'\u001b[39m\u001b[38;5;124mhybrid_model_pred\u001b[39m\u001b[38;5;124m'\u001b[39m])\u001b[38;5;132;01m}\u001b[39;00m\u001b[38;5;124m\"\u001b[39m)\n",
      "File \u001b[0;32m/usr/local/lib/python3.8/dist-packages/sklearn/metrics/_regression.py:442\u001b[0m, in \u001b[0;36mmean_squared_error\u001b[0;34m(y_true, y_pred, sample_weight, multioutput, squared)\u001b[0m\n\u001b[1;32m    382\u001b[0m \u001b[38;5;28;01mdef\u001b[39;00m \u001b[38;5;21mmean_squared_error\u001b[39m(\n\u001b[1;32m    383\u001b[0m     y_true, y_pred, \u001b[38;5;241m*\u001b[39m, sample_weight\u001b[38;5;241m=\u001b[39m\u001b[38;5;28;01mNone\u001b[39;00m, multioutput\u001b[38;5;241m=\u001b[39m\u001b[38;5;124m\"\u001b[39m\u001b[38;5;124muniform_average\u001b[39m\u001b[38;5;124m\"\u001b[39m, squared\u001b[38;5;241m=\u001b[39m\u001b[38;5;28;01mTrue\u001b[39;00m\n\u001b[1;32m    384\u001b[0m ):\n\u001b[1;32m    385\u001b[0m     \u001b[38;5;124;03m\"\"\"Mean squared error regression loss.\u001b[39;00m\n\u001b[1;32m    386\u001b[0m \n\u001b[1;32m    387\u001b[0m \u001b[38;5;124;03m    Read more in the :ref:`User Guide <mean_squared_error>`.\u001b[39;00m\n\u001b[0;32m   (...)\u001b[0m\n\u001b[1;32m    440\u001b[0m \u001b[38;5;124;03m    0.825...\u001b[39;00m\n\u001b[1;32m    441\u001b[0m \u001b[38;5;124;03m    \"\"\"\u001b[39;00m\n\u001b[0;32m--> 442\u001b[0m     y_type, y_true, y_pred, multioutput \u001b[38;5;241m=\u001b[39m \u001b[43m_check_reg_targets\u001b[49m\u001b[43m(\u001b[49m\n\u001b[1;32m    443\u001b[0m \u001b[43m        \u001b[49m\u001b[43my_true\u001b[49m\u001b[43m,\u001b[49m\u001b[43m \u001b[49m\u001b[43my_pred\u001b[49m\u001b[43m,\u001b[49m\u001b[43m \u001b[49m\u001b[43mmultioutput\u001b[49m\n\u001b[1;32m    444\u001b[0m \u001b[43m    \u001b[49m\u001b[43m)\u001b[49m\n\u001b[1;32m    445\u001b[0m     check_consistent_length(y_true, y_pred, sample_weight)\n\u001b[1;32m    446\u001b[0m     output_errors \u001b[38;5;241m=\u001b[39m np\u001b[38;5;241m.\u001b[39maverage((y_true \u001b[38;5;241m-\u001b[39m y_pred) \u001b[38;5;241m*\u001b[39m\u001b[38;5;241m*\u001b[39m \u001b[38;5;241m2\u001b[39m, axis\u001b[38;5;241m=\u001b[39m\u001b[38;5;241m0\u001b[39m, weights\u001b[38;5;241m=\u001b[39msample_weight)\n",
      "File \u001b[0;32m/usr/local/lib/python3.8/dist-packages/sklearn/metrics/_regression.py:102\u001b[0m, in \u001b[0;36m_check_reg_targets\u001b[0;34m(y_true, y_pred, multioutput, dtype)\u001b[0m\n\u001b[1;32m    100\u001b[0m check_consistent_length(y_true, y_pred)\n\u001b[1;32m    101\u001b[0m y_true \u001b[38;5;241m=\u001b[39m check_array(y_true, ensure_2d\u001b[38;5;241m=\u001b[39m\u001b[38;5;28;01mFalse\u001b[39;00m, dtype\u001b[38;5;241m=\u001b[39mdtype)\n\u001b[0;32m--> 102\u001b[0m y_pred \u001b[38;5;241m=\u001b[39m \u001b[43mcheck_array\u001b[49m\u001b[43m(\u001b[49m\u001b[43my_pred\u001b[49m\u001b[43m,\u001b[49m\u001b[43m \u001b[49m\u001b[43mensure_2d\u001b[49m\u001b[38;5;241;43m=\u001b[39;49m\u001b[38;5;28;43;01mFalse\u001b[39;49;00m\u001b[43m,\u001b[49m\u001b[43m \u001b[49m\u001b[43mdtype\u001b[49m\u001b[38;5;241;43m=\u001b[39;49m\u001b[43mdtype\u001b[49m\u001b[43m)\u001b[49m\n\u001b[1;32m    104\u001b[0m \u001b[38;5;28;01mif\u001b[39;00m y_true\u001b[38;5;241m.\u001b[39mndim \u001b[38;5;241m==\u001b[39m \u001b[38;5;241m1\u001b[39m:\n\u001b[1;32m    105\u001b[0m     y_true \u001b[38;5;241m=\u001b[39m y_true\u001b[38;5;241m.\u001b[39mreshape((\u001b[38;5;241m-\u001b[39m\u001b[38;5;241m1\u001b[39m, \u001b[38;5;241m1\u001b[39m))\n",
      "File \u001b[0;32m/usr/local/lib/python3.8/dist-packages/sklearn/utils/validation.py:899\u001b[0m, in \u001b[0;36mcheck_array\u001b[0;34m(array, accept_sparse, accept_large_sparse, dtype, order, copy, force_all_finite, ensure_2d, allow_nd, ensure_min_samples, ensure_min_features, estimator, input_name)\u001b[0m\n\u001b[1;32m    893\u001b[0m         \u001b[38;5;28;01mraise\u001b[39;00m \u001b[38;5;167;01mValueError\u001b[39;00m(\n\u001b[1;32m    894\u001b[0m             \u001b[38;5;124m\"\u001b[39m\u001b[38;5;124mFound array with dim \u001b[39m\u001b[38;5;132;01m%d\u001b[39;00m\u001b[38;5;124m. \u001b[39m\u001b[38;5;132;01m%s\u001b[39;00m\u001b[38;5;124m expected <= 2.\u001b[39m\u001b[38;5;124m\"\u001b[39m\n\u001b[1;32m    895\u001b[0m             \u001b[38;5;241m%\u001b[39m (array\u001b[38;5;241m.\u001b[39mndim, estimator_name)\n\u001b[1;32m    896\u001b[0m         )\n\u001b[1;32m    898\u001b[0m     \u001b[38;5;28;01mif\u001b[39;00m force_all_finite:\n\u001b[0;32m--> 899\u001b[0m         \u001b[43m_assert_all_finite\u001b[49m\u001b[43m(\u001b[49m\n\u001b[1;32m    900\u001b[0m \u001b[43m            \u001b[49m\u001b[43marray\u001b[49m\u001b[43m,\u001b[49m\n\u001b[1;32m    901\u001b[0m \u001b[43m            \u001b[49m\u001b[43minput_name\u001b[49m\u001b[38;5;241;43m=\u001b[39;49m\u001b[43minput_name\u001b[49m\u001b[43m,\u001b[49m\n\u001b[1;32m    902\u001b[0m \u001b[43m            \u001b[49m\u001b[43mestimator_name\u001b[49m\u001b[38;5;241;43m=\u001b[39;49m\u001b[43mestimator_name\u001b[49m\u001b[43m,\u001b[49m\n\u001b[1;32m    903\u001b[0m \u001b[43m            \u001b[49m\u001b[43mallow_nan\u001b[49m\u001b[38;5;241;43m=\u001b[39;49m\u001b[43mforce_all_finite\u001b[49m\u001b[43m \u001b[49m\u001b[38;5;241;43m==\u001b[39;49m\u001b[43m \u001b[49m\u001b[38;5;124;43m\"\u001b[39;49m\u001b[38;5;124;43mallow-nan\u001b[39;49m\u001b[38;5;124;43m\"\u001b[39;49m\u001b[43m,\u001b[49m\n\u001b[1;32m    904\u001b[0m \u001b[43m        \u001b[49m\u001b[43m)\u001b[49m\n\u001b[1;32m    906\u001b[0m \u001b[38;5;28;01mif\u001b[39;00m ensure_min_samples \u001b[38;5;241m>\u001b[39m \u001b[38;5;241m0\u001b[39m:\n\u001b[1;32m    907\u001b[0m     n_samples \u001b[38;5;241m=\u001b[39m _num_samples(array)\n",
      "File \u001b[0;32m/usr/local/lib/python3.8/dist-packages/sklearn/utils/validation.py:146\u001b[0m, in \u001b[0;36m_assert_all_finite\u001b[0;34m(X, allow_nan, msg_dtype, estimator_name, input_name)\u001b[0m\n\u001b[1;32m    124\u001b[0m         \u001b[38;5;28;01mif\u001b[39;00m (\n\u001b[1;32m    125\u001b[0m             \u001b[38;5;129;01mnot\u001b[39;00m allow_nan\n\u001b[1;32m    126\u001b[0m             \u001b[38;5;129;01mand\u001b[39;00m estimator_name\n\u001b[0;32m   (...)\u001b[0m\n\u001b[1;32m    130\u001b[0m             \u001b[38;5;66;03m# Improve the error message on how to handle missing values in\u001b[39;00m\n\u001b[1;32m    131\u001b[0m             \u001b[38;5;66;03m# scikit-learn.\u001b[39;00m\n\u001b[1;32m    132\u001b[0m             msg_err \u001b[38;5;241m+\u001b[39m\u001b[38;5;241m=\u001b[39m (\n\u001b[1;32m    133\u001b[0m                 \u001b[38;5;124mf\u001b[39m\u001b[38;5;124m\"\u001b[39m\u001b[38;5;130;01m\\n\u001b[39;00m\u001b[38;5;132;01m{\u001b[39;00mestimator_name\u001b[38;5;132;01m}\u001b[39;00m\u001b[38;5;124m does not accept missing values\u001b[39m\u001b[38;5;124m\"\u001b[39m\n\u001b[1;32m    134\u001b[0m                 \u001b[38;5;124m\"\u001b[39m\u001b[38;5;124m encoded as NaN natively. For supervised learning, you might want\u001b[39m\u001b[38;5;124m\"\u001b[39m\n\u001b[0;32m   (...)\u001b[0m\n\u001b[1;32m    144\u001b[0m                 \u001b[38;5;124m\"\u001b[39m\u001b[38;5;124m#estimators-that-handle-nan-values\u001b[39m\u001b[38;5;124m\"\u001b[39m\n\u001b[1;32m    145\u001b[0m             )\n\u001b[0;32m--> 146\u001b[0m         \u001b[38;5;28;01mraise\u001b[39;00m \u001b[38;5;167;01mValueError\u001b[39;00m(msg_err)\n\u001b[1;32m    148\u001b[0m \u001b[38;5;66;03m# for object dtype data, we only check for NaNs (GH-13254)\u001b[39;00m\n\u001b[1;32m    149\u001b[0m \u001b[38;5;28;01melif\u001b[39;00m X\u001b[38;5;241m.\u001b[39mdtype \u001b[38;5;241m==\u001b[39m np\u001b[38;5;241m.\u001b[39mdtype(\u001b[38;5;124m\"\u001b[39m\u001b[38;5;124mobject\u001b[39m\u001b[38;5;124m\"\u001b[39m) \u001b[38;5;129;01mand\u001b[39;00m \u001b[38;5;129;01mnot\u001b[39;00m allow_nan:\n",
      "\u001b[0;31mValueError\u001b[0m: Input contains NaN."
     ]
    },
    {
     "name": "stderr",
     "output_type": "stream",
     "text": [
      "7:80: E501 line too long (98 > 79 characters)\n"
     ]
    }
   ],
   "source": [
    "display(f\"mse :{(res_df['error']**2).mean()}\",\n",
    "        f\"std of square_err :{(res_df['error']**2).std()}\",\n",
    "        f\"rmse :{np.sqrt((res_df['error']**2).mean())}\",\n",
    "        f\"mae : {res_df['absolute_err'].mean()}\",\n",
    "        f\"std of abs_err: {res_df['absolute_err'].std()}\")\n",
    "\n",
    "display(f\"sklearn mse: {mean_squared_error(res_df['ground_truth'], res_df['hybrid_model_pred'])}\")"
   ]
  },
  {
   "cell_type": "code",
   "execution_count": null,
   "id": "42dda3ba-5e75-4610-8cf7-2de853713ce6",
   "metadata": {
    "tags": []
   },
   "outputs": [],
   "source": [
    "plot_exploration(res_df, fig_title)"
   ]
  },
  {
   "cell_type": "code",
   "execution_count": null,
   "id": "3d1c7e89-18db-498a-b3bd-2ad63a185935",
   "metadata": {
    "tags": []
   },
   "outputs": [],
   "source": [
    "plot_exploration_pred_perform(res_df, fig_title)"
   ]
  },
  {
   "cell_type": "code",
   "execution_count": null,
   "id": "9751a5ad-6e92-40a3-915a-109ed10d8c05",
   "metadata": {
    "tags": []
   },
   "outputs": [],
   "source": [
    "plot_stock_freq(res_df, fig_title)"
   ]
  },
  {
   "cell_type": "code",
   "execution_count": null,
   "id": "e8151bfc-9a82-4854-a759-e422f3d579ef",
   "metadata": {},
   "outputs": [],
   "source": [
    "len(set(res_df.loc[res_df['high_pred_performance']==True, ['portfolio[0]','portfolio[1]']].stack()))"
   ]
  },
  {
   "cell_type": "code",
   "execution_count": null,
   "id": "23f86314-5b10-4b56-920a-73b53a2c8040",
   "metadata": {},
   "outputs": [],
   "source": []
  }
 ],
 "metadata": {
  "kernelspec": {
   "display_name": "Python 3 (ipykernel)",
   "language": "python",
   "name": "python3"
  },
  "language_info": {
   "codemirror_mode": {
    "name": "ipython",
    "version": 3
   },
   "file_extension": ".py",
   "mimetype": "text/x-python",
   "name": "python",
   "nbconvert_exporter": "python",
   "pygments_lexer": "ipython3",
   "version": "3.8.10"
  }
 },
 "nbformat": 4,
 "nbformat_minor": 5
}
