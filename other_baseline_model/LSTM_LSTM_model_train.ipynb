{
 "cells": [
  {
   "cell_type": "code",
   "execution_count": 1,
   "id": "9f67d596-88ae-4393-bbb4-d4301d878057",
   "metadata": {
    "tags": []
   },
   "outputs": [
    {
     "name": "stdout",
     "output_type": "stream",
     "text": [
      "time: 1.98 s (started: 2022-11-27 18:23:29 +00:00)\n"
     ]
    }
   ],
   "source": [
    "from tqdm import tqdm\n",
    "from itertools import combinations\n",
    "from pathlib import Path\n",
    "import sys\n",
    "import warnings\n",
    "import logging\n",
    "from pprint import pformat\n",
    "import traceback\n",
    "import os\n",
    "\n",
    "import numpy as np\n",
    "import pandas as pd\n",
    "from pmdarima.arima import ARIMA, auto_arima\n",
    "import tensorflow as tf\n",
    "import tensorflow.keras as keras\n",
    "from tensorflow.keras.models import load_model\n",
    "from tensorflow.keras.layers import Input, LSTM, Dense\n",
    "from tensorflow.keras.callbacks import ModelCheckpoint, TensorBoard, EarlyStopping\n",
    "from tensorflow.keras.regularizers import l1_l2\n",
    "import dynamic_yaml\n",
    "import yaml\n",
    "\n",
    "sys.path.append(\"/tf/correlation-coef-predict/ywt_library\")\n",
    "import data_generation\n",
    "from data_generation import data_gen_cfg\n",
    "from ywt_arima import arima_model, arima_err_logger_init\n",
    "\n",
    "with open('../config/data_config.yaml') as f:\n",
    "    data = dynamic_yaml.load(f)\n",
    "    data_cfg = yaml.full_load(dynamic_yaml.dump(data))\n",
    "\n",
    "warnings.simplefilter(\"ignore\")\n",
    "logging.basicConfig(level=logging.INFO)\n",
    "\n",
    "\n",
    "# %load_ext pycodestyle_magic\n",
    "# %pycodestyle_on --ignore E501\n",
    "logging.debug(pformat(data_cfg, indent=1, width=100, compact=True))"
   ]
  },
  {
   "cell_type": "markdown",
   "id": "d1a012b1-6376-486e-b5dd-93c76929fc3c",
   "metadata": {
    "tags": []
   },
   "source": [
    "# Prepare data"
   ]
  },
  {
   "cell_type": "markdown",
   "id": "fe4cd793-e4d8-43b3-b592-bad9cf4342f6",
   "metadata": {},
   "source": [
    "## Data implement & output setting & trainset setting"
   ]
  },
  {
   "cell_type": "code",
   "execution_count": 2,
   "id": "e7765e10-2944-4621-b62f-6602a573387f",
   "metadata": {
    "tags": []
   },
   "outputs": [
    {
     "name": "stdout",
     "output_type": "stream",
     "text": [
      "time: 574 µs (started: 2022-11-27 18:23:31 +00:00)\n"
     ]
    }
   ],
   "source": [
    "# setting of output files\n",
    "save_corr_data = True\n",
    "save_lstm_resid_data = True\n",
    "# data implement setting\n",
    "data_implement = \"SP500_20082017\"  # watch options by operate: print(data_cfg[\"DATASETS\"].keys())\n",
    "# train set setting\n",
    "train_items_setting = \"-train_train\"  # -train_train|-train_all\n",
    "# data split  period setting, only suit for only settings of Korean paper\n",
    "data_split_settings = [\"-data_sp_train\", \"-data_sp_dev\", \"-data_sp_test1\", \"-data_sp_test2\", ]\n",
    "# lstm_hyper_params\n",
    "first_stage_lstm_hyper_param = \"-kS_hyper\"\n",
    "second_stage_lstm_hyper_param = \"-kS_hyper\""
   ]
  },
  {
   "cell_type": "code",
   "execution_count": 3,
   "id": "5eca3555-279b-42f5-88e3-fe8a7745242f",
   "metadata": {},
   "outputs": [
    {
     "name": "stderr",
     "output_type": "stream",
     "text": [
      "INFO:root:===== len(train_set): 10, len(all_set): 446, len(test_set): 10 =====\n",
      "INFO:root:===== len(train set): 10 =====\n",
      "INFO:root:===== file_name basis:test_case-train_train =====\n"
     ]
    },
    {
     "name": "stdout",
     "output_type": "stream",
     "text": [
      "time: 105 ms (started: 2022-11-27 18:23:31 +00:00)\n"
     ]
    }
   ],
   "source": [
    "# data loading & implement setting\n",
    "dataset_df = pd.read_csv(data_cfg[\"DATASETS\"][data_implement]['FILE_PATH'])\n",
    "dataset_df = dataset_df.set_index('Date')\n",
    "all_set = list(dataset_df.columns)  # all data\n",
    "train_set = data_cfg[\"DATASETS\"][data_implement]['TRAIN_SET']\n",
    "test_set = data_cfg['DATASETS'][data_implement]['TEST_SET'] if data_cfg['DATASETS'][data_implement].get('TEST_SET') else [p for p in all_set if p not in train_set]  # all data - train data\n",
    "logging.info(f\"===== len(train_set): {len(train_set)}, len(all_set): {len(all_set)}, len(test_set): {len(test_set)} =====\")\n",
    "\n",
    "# train items implement settings\n",
    "items_implement = train_set if train_items_setting == \"-train_train\" else all_set\n",
    "logging.info(f\"===== len(train set): {len(items_implement)} =====\")\n",
    "\n",
    "# setting of name of output files and pictures title\n",
    "output_file_name = data_cfg[\"DATASETS\"][data_implement]['OUTPUT_FILE_NAME_BASIS'] + train_items_setting\n",
    "logging.info(f\"===== file_name basis:{output_file_name} =====\")\n",
    "# display(dataset_df)\n",
    "\n",
    "# output folder settings\n",
    "corr_data_dir = Path(data_cfg[\"DIRS\"][\"PIPELINE_DATA_DIR\"])/f\"{output_file_name}-corr_data\"\n",
    "first_stage_lstm_model_dir = Path('./save_models/first_stage_lstm_weights')\n",
    "first_stage_lstm_log_dir = Path('./save_models/first_stage_lstm_train_logs')\n",
    "first_stage_lstm_result_dir = Path(data_cfg[\"DIRS\"][\"PIPELINE_DATA_DIR\"])/f\"{output_file_name}-first_stage_lstm_res\"\n",
    "second_stage_lstm_model_dir = Path('./save_models/second_stage_lstm_weights')\n",
    "second_stage_lstm_log_dir = Path('./save_models/second_stage_lstm_train_logs')\n",
    "res_dir = Path('./results/')\n",
    "corr_data_dir.mkdir(parents=True, exist_ok=True)\n",
    "first_stage_lstm_model_dir.mkdir(parents=True, exist_ok=True)\n",
    "first_stage_lstm_log_dir.mkdir(parents=True, exist_ok=True)\n",
    "first_stage_lstm_result_dir.mkdir(parents=True, exist_ok=True)\n",
    "second_stage_lstm_model_dir.mkdir(parents=True, exist_ok=True)\n",
    "second_stage_lstm_log_dir.mkdir(parents=True, exist_ok=True)\n",
    "res_dir.mkdir(parents=True, exist_ok=True)"
   ]
  },
  {
   "cell_type": "markdown",
   "id": "589f530b-2393-4a1d-82c0-38382b1d6133",
   "metadata": {},
   "source": [
    "## Load or Create Correlation Data"
   ]
  },
  {
   "cell_type": "code",
   "execution_count": 4,
   "id": "916be840-68c4-4b6a-b188-5a29cc991d66",
   "metadata": {},
   "outputs": [
    {
     "name": "stdout",
     "output_type": "stream",
     "text": [
      "time: 7.28 ms (started: 2022-11-27 18:23:31 +00:00)\n"
     ]
    }
   ],
   "source": [
    "data_length = int(len(dataset_df)/data_gen_cfg[\"CORR_WINDOW\"])*data_gen_cfg[\"CORR_WINDOW\"]\n",
    "corr_ser_len_max = int((data_length-data_gen_cfg[\"CORR_WINDOW\"])/data_gen_cfg[\"CORR_STRIDE\"])\n",
    "\n",
    "train_df_path = corr_data_dir/f\"{output_file_name}-corr_train.csv\"\n",
    "dev_df_path = corr_data_dir/f\"{output_file_name}-corr_dev.csv\"\n",
    "test1_df_path = corr_data_dir/f\"{output_file_name}-corr_test1.csv\"\n",
    "test2_df_path = corr_data_dir/f\"{output_file_name}-corr_test2.csv\"\n",
    "all_corr_df_paths = dict(zip([\"train_df\", \"dev_df\", \"test1_df\", \"test2_df\"],\n",
    "                             [train_df_path, dev_df_path, test1_df_path, test2_df_path]))\n",
    "if all([df_path.exists() for df_path in all_corr_df_paths.values()]):\n",
    "    corr_datasets = [pd.read_csv(df_path, index_col=[\"items\"]) for df_path in all_corr_df_paths.values()]\n",
    "else:\n",
    "    corr_datasets = data_generation.gen_train_data(items_implement, raw_data_df=dataset_df, corr_df_paths=all_corr_df_paths, corr_ser_len_max=corr_ser_len_max, save_file=save_corr_data)"
   ]
  },
  {
   "cell_type": "markdown",
   "id": "f7976949-33c7-45c0-b6e9-c8cace53672a",
   "metadata": {
    "tags": []
   },
   "source": [
    "# LSTM model for first stage prediciton"
   ]
  },
  {
   "cell_type": "markdown",
   "id": "d270eaf2-c32a-404c-a03f-cc52a0349d1c",
   "metadata": {},
   "source": [
    "## settings of input data of first stage LSTM"
   ]
  },
  {
   "cell_type": "code",
   "execution_count": 5,
   "id": "8a8dbc61-7807-4cd3-b3d6-da55754fc5d7",
   "metadata": {},
   "outputs": [
    {
     "name": "stdout",
     "output_type": "stream",
     "text": [
      "time: 807 µs (started: 2022-11-27 18:23:31 +00:00)\n"
     ]
    }
   ],
   "source": [
    "first_stage_lstm_X_len = corr_datasets[0].shape[1]-1\n",
    "first_stage_lstm_Y_len = corr_datasets[0].shape[1]\n",
    "first_stage_lstm_train_X = corr_datasets[0].iloc[::, :first_stage_lstm_X_len].values.reshape(-1, first_stage_lstm_X_len, 1)\n",
    "first_stage_lstm_train_Y = corr_datasets[0].values.reshape(-1, first_stage_lstm_Y_len, 1)\n",
    "first_stage_lstm_dev_X = corr_datasets[1].iloc[::, :first_stage_lstm_X_len].values.reshape(-1, first_stage_lstm_X_len, 1)\n",
    "first_stage_lstm_dev_Y = corr_datasets[1].values.reshape(-1, first_stage_lstm_Y_len, 1)"
   ]
  },
  {
   "cell_type": "markdown",
   "id": "6f12a4d5-d110-4a3f-9c55-b85a7f8d5a1e",
   "metadata": {},
   "source": [
    "## settings of first stage LSTM"
   ]
  },
  {
   "cell_type": "code",
   "execution_count": 6,
   "id": "df8a573b-d7e3-402d-b65c-5bdeaa85062c",
   "metadata": {
    "collapsed": true,
    "jupyter": {
     "outputs_hidden": true
    },
    "tags": []
   },
   "outputs": [
    {
     "name": "stdout",
     "output_type": "stream",
     "text": [
      "time: 1.28 s (started: 2022-11-27 18:23:31 +00:00)\n"
     ]
    },
    {
     "name": "stderr",
     "output_type": "stream",
     "text": [
      "2022-11-27 18:23:32.544745: I tensorflow/stream_executor/cuda/cuda_gpu_executor.cc:975] successful NUMA node read from SysFS had negative value (-1), but there must be at least one NUMA node, so returning NUMA node zero\n",
      "2022-11-27 18:23:32.548788: I tensorflow/stream_executor/cuda/cuda_gpu_executor.cc:975] successful NUMA node read from SysFS had negative value (-1), but there must be at least one NUMA node, so returning NUMA node zero\n",
      "2022-11-27 18:23:32.548984: I tensorflow/stream_executor/cuda/cuda_gpu_executor.cc:975] successful NUMA node read from SysFS had negative value (-1), but there must be at least one NUMA node, so returning NUMA node zero\n",
      "2022-11-27 18:23:32.549701: I tensorflow/core/platform/cpu_feature_guard.cc:193] This TensorFlow binary is optimized with oneAPI Deep Neural Network Library (oneDNN) to use the following CPU instructions in performance-critical operations:  AVX2 FMA\n",
      "To enable them in other operations, rebuild TensorFlow with the appropriate compiler flags.\n",
      "2022-11-27 18:23:32.550682: I tensorflow/stream_executor/cuda/cuda_gpu_executor.cc:975] successful NUMA node read from SysFS had negative value (-1), but there must be at least one NUMA node, so returning NUMA node zero\n",
      "2022-11-27 18:23:32.550875: I tensorflow/stream_executor/cuda/cuda_gpu_executor.cc:975] successful NUMA node read from SysFS had negative value (-1), but there must be at least one NUMA node, so returning NUMA node zero\n",
      "2022-11-27 18:23:32.551042: I tensorflow/stream_executor/cuda/cuda_gpu_executor.cc:975] successful NUMA node read from SysFS had negative value (-1), but there must be at least one NUMA node, so returning NUMA node zero\n",
      "2022-11-27 18:23:32.976031: I tensorflow/stream_executor/cuda/cuda_gpu_executor.cc:975] successful NUMA node read from SysFS had negative value (-1), but there must be at least one NUMA node, so returning NUMA node zero\n",
      "2022-11-27 18:23:32.976195: I tensorflow/stream_executor/cuda/cuda_gpu_executor.cc:975] successful NUMA node read from SysFS had negative value (-1), but there must be at least one NUMA node, so returning NUMA node zero\n",
      "2022-11-27 18:23:32.976324: I tensorflow/stream_executor/cuda/cuda_gpu_executor.cc:975] successful NUMA node read from SysFS had negative value (-1), but there must be at least one NUMA node, so returning NUMA node zero\n",
      "2022-11-27 18:23:32.976428: I tensorflow/core/common_runtime/gpu/gpu_device.cc:1532] Created device /job:localhost/replica:0/task:0/device:GPU:0 with 22308 MB memory:  -> device: 0, name: NVIDIA GeForce RTX 3090, pci bus id: 0000:0b:00.0, compute capability: 8.6\n"
     ]
    }
   ],
   "source": [
    "first_stage_lstm_model_log = TensorBoard(log_dir=first_stage_lstm_log_dir)\n",
    "first_stage_lstm_model_earlystop = EarlyStopping(patience=500, monitor=\"val_loss\")\n",
    "first_stage_lstm_save_model = ModelCheckpoint(Path(first_stage_lstm_model_dir)/\"epoch{epoch}_{val_loss:.5f}.h5\",\n",
    "                                             monitor='val_loss', verbose=1, mode='min', save_best_only=False)\n",
    "first_stage_lstm_callbacks_list = [first_stage_lstm_model_log, first_stage_lstm_model_earlystop, first_stage_lstm_save_model]\n",
    "first_stage_lstm_max_epoch = 5000\n",
    "first_stage_lstm_batch_size = 64\n",
    "first_stage_lstm_metrics = ['mse', 'mae']\n",
    "\n",
    "if first_stage_lstm_hyper_param == \"-kS_hyper\":\n",
    "    lstm_layer = LSTM(units=10, kernel_regularizer=l1_l2(0.2, 0.0), bias_regularizer=l1_l2(0.2, 0.0), activation=\"tanh\", dropout=0.1, name=f\"lstm{first_stage_lstm_hyper_param}\")  # LSTM hyper params from 【Something Old, Something New — A Hybrid Approach with ARIMA and LSTM to Increase Portfolio Stability】"
   ]
  },
  {
   "cell_type": "code",
   "execution_count": 7,
   "id": "d0a7e5c8-9735-4ab7-8613-770ff3c38c63",
   "metadata": {
    "collapsed": true,
    "jupyter": {
     "outputs_hidden": true
    },
    "tags": []
   },
   "outputs": [
    {
     "name": "stdout",
     "output_type": "stream",
     "text": [
      "Model: \"lstm_lstm_first_stage-lstm1_fc1-kS_hyper\"\n",
      "_________________________________________________________________\n",
      " Layer (type)                Output Shape              Param #   \n",
      "=================================================================\n",
      " input_1 (InputLayer)        [(None, 20, 1)]           0         \n",
      "                                                                 \n",
      " lstm-kS_hyper (LSTM)        (None, 10)                480       \n",
      "                                                                 \n",
      " dense (Dense)               (None, 21)                231       \n",
      "                                                                 \n",
      "=================================================================\n",
      "Total params: 711\n",
      "Trainable params: 711\n",
      "Non-trainable params: 0\n",
      "_________________________________________________________________\n",
      "Epoch 1/50\n"
     ]
    },
    {
     "name": "stderr",
     "output_type": "stream",
     "text": [
      "2022-11-27 18:23:34.601417: I tensorflow/stream_executor/cuda/cuda_dnn.cc:384] Loaded cuDNN version 8100\n"
     ]
    },
    {
     "name": "stdout",
     "output_type": "stream",
     "text": [
      "1/4 [======>.......................] - ETA: 5s - loss: 3.8268 - mse: 0.4177 - mae: 0.5565"
     ]
    },
    {
     "name": "stderr",
     "output_type": "stream",
     "text": [
      "2022-11-27 18:23:35.021471: I tensorflow/stream_executor/cuda/cuda_blas.cc:1786] TensorFloat-32 will be used for the matrix multiplication. This will only be logged once.\n"
     ]
    },
    {
     "name": "stdout",
     "output_type": "stream",
     "text": [
      "\n",
      "Epoch 1: saving model to save_models/first_stage_lstm_weights/epoch1_3.75987.h5\n",
      "4/4 [==============================] - 2s 99ms/step - loss: 3.8117 - mse: 0.4124 - mae: 0.5541 - val_loss: 3.7599 - val_mse: 0.3859 - val_mae: 0.5388\n",
      "Epoch 2/50\n",
      "1/4 [======>.......................] - ETA: 0s - loss: 3.7705 - mse: 0.3965 - mae: 0.5412\n",
      "Epoch 2: saving model to save_models/first_stage_lstm_weights/epoch2_3.70263.h5\n",
      "4/4 [==============================] - 0s 17ms/step - loss: 3.7529 - mse: 0.3933 - mae: 0.5423 - val_loss: 3.7026 - val_mse: 0.3711 - val_mae: 0.5290\n",
      "Epoch 3/50\n",
      "1/4 [======>.......................] - ETA: 0s - loss: 3.7137 - mse: 0.3821 - mae: 0.5314\n",
      "Epoch 3: saving model to save_models/first_stage_lstm_weights/epoch3_3.64829.h5\n",
      "4/4 [==============================] - 0s 16ms/step - loss: 3.6959 - mse: 0.3774 - mae: 0.5321 - val_loss: 3.6483 - val_mse: 0.3573 - val_mae: 0.5197\n",
      "Epoch 4/50\n",
      "1/4 [======>.......................] - ETA: 0s - loss: 3.6669 - mse: 0.3759 - mae: 0.5274\n",
      "Epoch 4: saving model to save_models/first_stage_lstm_weights/epoch4_3.59572.h5\n",
      "4/4 [==============================] - 0s 15ms/step - loss: 3.6413 - mse: 0.3633 - mae: 0.5222 - val_loss: 3.5957 - val_mse: 0.3445 - val_mae: 0.5107\n",
      "Epoch 5/50\n",
      "1/4 [======>.......................] - ETA: 0s - loss: 3.6070 - mse: 0.3558 - mae: 0.5185\n",
      "Epoch 5: saving model to save_models/first_stage_lstm_weights/epoch5_3.54541.h5\n",
      "4/4 [==============================] - 0s 15ms/step - loss: 3.5872 - mse: 0.3486 - mae: 0.5127 - val_loss: 3.5454 - val_mse: 0.3329 - val_mae: 0.5025\n",
      "Epoch 6/50\n",
      "1/4 [======>.......................] - ETA: 0s - loss: 3.5517 - mse: 0.3392 - mae: 0.5062\n",
      "Epoch 6: saving model to save_models/first_stage_lstm_weights/epoch6_3.49497.h5\n",
      "4/4 [==============================] - 0s 15ms/step - loss: 3.5362 - mse: 0.3367 - mae: 0.5039 - val_loss: 3.4950 - val_mse: 0.3219 - val_mae: 0.4942\n",
      "Epoch 7/50\n",
      "1/4 [======>.......................] - ETA: 0s - loss: 3.5097 - mse: 0.3366 - mae: 0.5037\n",
      "Epoch 7: saving model to save_models/first_stage_lstm_weights/epoch7_3.44698.h5\n",
      "4/4 [==============================] - 0s 15ms/step - loss: 3.4862 - mse: 0.3255 - mae: 0.4960 - val_loss: 3.4470 - val_mse: 0.3117 - val_mae: 0.4866\n",
      "Epoch 8/50\n",
      "1/4 [======>.......................] - ETA: 0s - loss: 3.4565 - mse: 0.3212 - mae: 0.4938\n",
      "Epoch 8: saving model to save_models/first_stage_lstm_weights/epoch8_3.39935.h5\n",
      "4/4 [==============================] - 0s 16ms/step - loss: 3.4370 - mse: 0.3141 - mae: 0.4873 - val_loss: 3.3993 - val_mse: 0.3022 - val_mae: 0.4791\n",
      "Epoch 9/50\n",
      "1/4 [======>.......................] - ETA: 0s - loss: 3.4018 - mse: 0.3046 - mae: 0.4804\n",
      "Epoch 9: saving model to save_models/first_stage_lstm_weights/epoch9_3.35308.h5\n",
      "4/4 [==============================] - 0s 15ms/step - loss: 3.3883 - mse: 0.3032 - mae: 0.4791 - val_loss: 3.3531 - val_mse: 0.2930 - val_mae: 0.4717\n",
      "Epoch 10/50\n",
      "1/4 [======>.......................] - ETA: 0s - loss: 3.3458 - mse: 0.2857 - mae: 0.4650\n",
      "Epoch 10: saving model to save_models/first_stage_lstm_weights/epoch10_3.30684.h5\n",
      "4/4 [==============================] - 0s 14ms/step - loss: 3.3424 - mse: 0.2945 - mae: 0.4721 - val_loss: 3.3068 - val_mse: 0.2843 - val_mae: 0.4644\n",
      "Epoch 11/50\n",
      "1/4 [======>.......................] - ETA: 0s - loss: 3.3115 - mse: 0.2890 - mae: 0.4703\n",
      "Epoch 11: saving model to save_models/first_stage_lstm_weights/epoch11_3.26148.h5\n",
      "4/4 [==============================] - 0s 16ms/step - loss: 3.2957 - mse: 0.2852 - mae: 0.4644 - val_loss: 3.2615 - val_mse: 0.2760 - val_mae: 0.4573\n",
      "Epoch 12/50\n",
      "1/4 [======>.......................] - ETA: 0s - loss: 3.2645 - mse: 0.2790 - mae: 0.4583\n",
      "Epoch 12: saving model to save_models/first_stage_lstm_weights/epoch12_3.21611.h5\n",
      "4/4 [==============================] - 0s 15ms/step - loss: 3.2493 - mse: 0.2760 - mae: 0.4563 - val_loss: 3.2161 - val_mse: 0.2680 - val_mae: 0.4503\n",
      "Epoch 13/50\n",
      "1/4 [======>.......................] - ETA: 0s - loss: 3.2214 - mse: 0.2733 - mae: 0.4556\n",
      "Epoch 13: saving model to save_models/first_stage_lstm_weights/epoch13_3.17256.h5\n",
      "4/4 [==============================] - 0s 15ms/step - loss: 3.2042 - mse: 0.2677 - mae: 0.4495 - val_loss: 3.1726 - val_mse: 0.2601 - val_mae: 0.4431\n",
      "Epoch 14/50\n",
      "1/4 [======>.......................] - ETA: 0s - loss: 3.1841 - mse: 0.2717 - mae: 0.4508\n",
      "Epoch 14: saving model to save_models/first_stage_lstm_weights/epoch14_3.12940.h5\n",
      "4/4 [==============================] - 0s 13ms/step - loss: 3.1605 - mse: 0.2596 - mae: 0.4418 - val_loss: 3.1294 - val_mse: 0.2524 - val_mae: 0.4358\n",
      "Epoch 15/50\n",
      "1/4 [======>.......................] - ETA: 0s - loss: 3.1288 - mse: 0.2518 - mae: 0.4335\n",
      "Epoch 15: saving model to save_models/first_stage_lstm_weights/epoch15_3.08848.h5\n",
      "4/4 [==============================] - 0s 15ms/step - loss: 3.1177 - mse: 0.2515 - mae: 0.4346 - val_loss: 3.0885 - val_mse: 0.2450 - val_mae: 0.4287\n",
      "Epoch 16/50\n",
      "1/4 [======>.......................] - ETA: 0s - loss: 3.0929 - mse: 0.2495 - mae: 0.4322\n",
      "Epoch 16: saving model to save_models/first_stage_lstm_weights/epoch16_3.04663.h5\n",
      "4/4 [==============================] - 0s 13ms/step - loss: 3.0754 - mse: 0.2431 - mae: 0.4264 - val_loss: 3.0466 - val_mse: 0.2376 - val_mae: 0.4212\n",
      "Epoch 17/50\n",
      "1/4 [======>.......................] - ETA: 0s - loss: 3.0445 - mse: 0.2354 - mae: 0.4208\n",
      "Epoch 17: saving model to save_models/first_stage_lstm_weights/epoch17_3.00567.h5\n",
      "4/4 [==============================] - 0s 15ms/step - loss: 3.0337 - mse: 0.2355 - mae: 0.4185 - val_loss: 3.0057 - val_mse: 0.2303 - val_mae: 0.4135\n",
      "Epoch 18/50\n",
      "1/4 [======>.......................] - ETA: 0s - loss: 3.0099 - mse: 0.2345 - mae: 0.4158\n",
      "Epoch 18: saving model to save_models/first_stage_lstm_weights/epoch18_2.96515.h5\n",
      "4/4 [==============================] - 0s 14ms/step - loss: 2.9925 - mse: 0.2279 - mae: 0.4102 - val_loss: 2.9651 - val_mse: 0.2232 - val_mae: 0.4057\n",
      "Epoch 19/50\n",
      "1/4 [======>.......................] - ETA: 0s - loss: 2.9536 - mse: 0.2117 - mae: 0.3934\n",
      "Epoch 19: saving model to save_models/first_stage_lstm_weights/epoch19_2.92440.h5\n",
      "4/4 [==============================] - 0s 16ms/step - loss: 2.9518 - mse: 0.2206 - mae: 0.4021 - val_loss: 2.9244 - val_mse: 0.2162 - val_mae: 0.3975\n",
      "Epoch 20/50\n",
      "1/4 [======>.......................] - ETA: 0s - loss: 2.9192 - mse: 0.2110 - mae: 0.3925\n",
      "Epoch 20: saving model to save_models/first_stage_lstm_weights/epoch20_2.88616.h5\n",
      "4/4 [==============================] - 0s 15ms/step - loss: 2.9111 - mse: 0.2133 - mae: 0.3941 - val_loss: 2.8862 - val_mse: 0.2098 - val_mae: 0.3893\n",
      "Epoch 21/50\n",
      "1/4 [======>.......................] - ETA: 0s - loss: 2.8882 - mse: 0.2118 - mae: 0.3937\n",
      "Epoch 21: saving model to save_models/first_stage_lstm_weights/epoch21_2.84813.h5\n",
      "4/4 [==============================] - 0s 15ms/step - loss: 2.8724 - mse: 0.2063 - mae: 0.3849 - val_loss: 2.8481 - val_mse: 0.2037 - val_mae: 0.3811\n",
      "Epoch 22/50\n",
      "1/4 [======>.......................] - ETA: 0s - loss: 2.8475 - mse: 0.2031 - mae: 0.3823\n",
      "Epoch 22: saving model to save_models/first_stage_lstm_weights/epoch22_2.81180.h5\n",
      "4/4 [==============================] - 0s 15ms/step - loss: 2.8334 - mse: 0.1993 - mae: 0.3754 - val_loss: 2.8118 - val_mse: 0.1986 - val_mae: 0.3733\n",
      "Epoch 23/50\n",
      "1/4 [======>.......................] - ETA: 0s - loss: 2.8089 - mse: 0.1956 - mae: 0.3724\n",
      "Epoch 23: saving model to save_models/first_stage_lstm_weights/epoch23_2.77871.h5\n",
      "4/4 [==============================] - 0s 15ms/step - loss: 2.7975 - mse: 0.1937 - mae: 0.3675 - val_loss: 2.7787 - val_mse: 0.1944 - val_mae: 0.3667\n",
      "Epoch 24/50\n",
      "1/4 [======>.......................] - ETA: 0s - loss: 2.7731 - mse: 0.1889 - mae: 0.3610\n",
      "Epoch 24: saving model to save_models/first_stage_lstm_weights/epoch24_2.74591.h5\n",
      "4/4 [==============================] - 0s 13ms/step - loss: 2.7628 - mse: 0.1880 - mae: 0.3600 - val_loss: 2.7459 - val_mse: 0.1913 - val_mae: 0.3618\n",
      "Epoch 25/50\n",
      "1/4 [======>.......................] - ETA: 0s - loss: 2.7471 - mse: 0.1926 - mae: 0.3653\n",
      "Epoch 25: saving model to save_models/first_stage_lstm_weights/epoch25_2.71322.h5\n",
      "4/4 [==============================] - 0s 15ms/step - loss: 2.7287 - mse: 0.1841 - mae: 0.3547 - val_loss: 2.7132 - val_mse: 0.1889 - val_mae: 0.3581\n",
      "Epoch 26/50\n",
      "1/4 [======>.......................] - ETA: 0s - loss: 2.7104 - mse: 0.1861 - mae: 0.3558\n",
      "Epoch 26: saving model to save_models/first_stage_lstm_weights/epoch26_2.68154.h5\n",
      "4/4 [==============================] - 0s 15ms/step - loss: 2.6941 - mse: 0.1795 - mae: 0.3489 - val_loss: 2.6815 - val_mse: 0.1871 - val_mae: 0.3557\n",
      "Epoch 27/50\n",
      "1/4 [======>.......................] - ETA: 0s - loss: 2.6523 - mse: 0.1578 - mae: 0.3291\n",
      "Epoch 27: saving model to save_models/first_stage_lstm_weights/epoch27_2.65303.h5\n",
      "4/4 [==============================] - 0s 16ms/step - loss: 2.6617 - mse: 0.1763 - mae: 0.3462 - val_loss: 2.6530 - val_mse: 0.1856 - val_mae: 0.3531\n",
      "Epoch 28/50\n",
      "1/4 [======>.......................] - ETA: 0s - loss: 2.6414 - mse: 0.1739 - mae: 0.3422\n",
      "Epoch 28: saving model to save_models/first_stage_lstm_weights/epoch28_2.62400.h5\n",
      "4/4 [==============================] - 0s 15ms/step - loss: 2.6309 - mse: 0.1723 - mae: 0.3406 - val_loss: 2.6240 - val_mse: 0.1845 - val_mae: 0.3520\n",
      "Epoch 29/50\n",
      "1/4 [======>.......................] - ETA: 0s - loss: 2.6035 - mse: 0.1640 - mae: 0.3276\n",
      "Epoch 29: saving model to save_models/first_stage_lstm_weights/epoch29_2.59482.h5\n",
      "4/4 [==============================] - 0s 15ms/step - loss: 2.6003 - mse: 0.1700 - mae: 0.3377 - val_loss: 2.5948 - val_mse: 0.1836 - val_mae: 0.3507\n",
      "Epoch 30/50\n",
      "1/4 [======>.......................] - ETA: 0s - loss: 2.5864 - mse: 0.1753 - mae: 0.3460\n",
      "Epoch 30: saving model to save_models/first_stage_lstm_weights/epoch30_2.56656.h5\n",
      "4/4 [==============================] - 0s 15ms/step - loss: 2.5688 - mse: 0.1669 - mae: 0.3345 - val_loss: 2.5666 - val_mse: 0.1830 - val_mae: 0.3496\n",
      "Epoch 31/50\n",
      "1/4 [======>.......................] - ETA: 0s - loss: 2.5531 - mse: 0.1694 - mae: 0.3385\n",
      "Epoch 31: saving model to save_models/first_stage_lstm_weights/epoch31_2.54042.h5\n",
      "4/4 [==============================] - 0s 15ms/step - loss: 2.5394 - mse: 0.1640 - mae: 0.3295 - val_loss: 2.5404 - val_mse: 0.1824 - val_mae: 0.3487\n",
      "Epoch 32/50\n",
      "1/4 [======>.......................] - ETA: 0s - loss: 2.5339 - mse: 0.1759 - mae: 0.3443\n",
      "Epoch 32: saving model to save_models/first_stage_lstm_weights/epoch32_2.51362.h5\n",
      "4/4 [==============================] - 0s 14ms/step - loss: 2.5119 - mse: 0.1625 - mae: 0.3285 - val_loss: 2.5136 - val_mse: 0.1820 - val_mae: 0.3479\n",
      "Epoch 33/50\n",
      "1/4 [======>.......................] - ETA: 0s - loss: 2.4919 - mse: 0.1603 - mae: 0.3253\n",
      "Epoch 33: saving model to save_models/first_stage_lstm_weights/epoch33_2.48652.h5\n",
      "4/4 [==============================] - 0s 14ms/step - loss: 2.4844 - mse: 0.1613 - mae: 0.3264 - val_loss: 2.4865 - val_mse: 0.1817 - val_mae: 0.3466\n",
      "Epoch 34/50\n",
      "1/4 [======>.......................] - ETA: 0s - loss: 2.4622 - mse: 0.1573 - mae: 0.3226\n",
      "Epoch 34: saving model to save_models/first_stage_lstm_weights/epoch34_2.45975.h5\n",
      "4/4 [==============================] - 0s 14ms/step - loss: 2.4558 - mse: 0.1595 - mae: 0.3240 - val_loss: 2.4597 - val_mse: 0.1813 - val_mae: 0.3457\n",
      "Epoch 35/50\n",
      "1/4 [======>.......................] - ETA: 0s - loss: 2.4382 - mse: 0.1598 - mae: 0.3222\n",
      "Epoch 35: saving model to save_models/first_stage_lstm_weights/epoch35_2.43353.h5\n",
      "4/4 [==============================] - 0s 16ms/step - loss: 2.4276 - mse: 0.1576 - mae: 0.3200 - val_loss: 2.4335 - val_mse: 0.1811 - val_mae: 0.3453\n",
      "Epoch 36/50\n",
      "1/4 [======>.......................] - ETA: 0s - loss: 2.4146 - mse: 0.1622 - mae: 0.3282\n",
      "Epoch 36: saving model to save_models/first_stage_lstm_weights/epoch36_2.40803.h5\n",
      "4/4 [==============================] - 0s 16ms/step - loss: 2.4006 - mse: 0.1565 - mae: 0.3194 - val_loss: 2.4080 - val_mse: 0.1809 - val_mae: 0.3454\n",
      "Epoch 37/50\n",
      "1/4 [======>.......................] - ETA: 0s - loss: 2.3911 - mse: 0.1640 - mae: 0.3250\n",
      "Epoch 37: saving model to save_models/first_stage_lstm_weights/epoch37_2.38345.h5\n",
      "4/4 [==============================] - 0s 16ms/step - loss: 2.3746 - mse: 0.1554 - mae: 0.3176 - val_loss: 2.3835 - val_mse: 0.1809 - val_mae: 0.3453\n",
      "Epoch 38/50\n",
      "1/4 [======>.......................] - ETA: 0s - loss: 2.3514 - mse: 0.1488 - mae: 0.3099\n",
      "Epoch 38: saving model to save_models/first_stage_lstm_weights/epoch38_2.35847.h5\n",
      "4/4 [==============================] - 0s 17ms/step - loss: 2.3494 - mse: 0.1547 - mae: 0.3165 - val_loss: 2.3585 - val_mse: 0.1808 - val_mae: 0.3450\n",
      "Epoch 39/50\n",
      "1/4 [======>.......................] - ETA: 0s - loss: 2.3366 - mse: 0.1590 - mae: 0.3164\n",
      "Epoch 39: saving model to save_models/first_stage_lstm_weights/epoch39_2.33479.h5\n",
      "4/4 [==============================] - 0s 15ms/step - loss: 2.3239 - mse: 0.1540 - mae: 0.3148 - val_loss: 2.3348 - val_mse: 0.1809 - val_mae: 0.3451\n",
      "Epoch 40/50\n",
      "1/4 [======>.......................] - ETA: 0s - loss: 2.3145 - mse: 0.1605 - mae: 0.3230\n",
      "Epoch 40: saving model to save_models/first_stage_lstm_weights/epoch40_2.31116.h5\n",
      "4/4 [==============================] - 0s 15ms/step - loss: 2.3003 - mse: 0.1540 - mae: 0.3161 - val_loss: 2.3112 - val_mse: 0.1810 - val_mae: 0.3451\n",
      "Epoch 41/50\n",
      "1/4 [======>.......................] - ETA: 0s - loss: 2.2881 - mse: 0.1579 - mae: 0.3172\n",
      "Epoch 41: saving model to save_models/first_stage_lstm_weights/epoch41_2.28694.h5\n",
      "4/4 [==============================] - 0s 14ms/step - loss: 2.2756 - mse: 0.1533 - mae: 0.3139 - val_loss: 2.2869 - val_mse: 0.1810 - val_mae: 0.3462\n",
      "Epoch 42/50\n",
      "1/4 [======>.......................] - ETA: 0s - loss: 2.2545 - mse: 0.1486 - mae: 0.3083\n",
      "Epoch 42: saving model to save_models/first_stage_lstm_weights/epoch42_2.26347.h5\n",
      "4/4 [==============================] - 0s 14ms/step - loss: 2.2512 - mse: 0.1531 - mae: 0.3148 - val_loss: 2.2635 - val_mse: 0.1814 - val_mae: 0.3449\n",
      "Epoch 43/50\n",
      "1/4 [======>.......................] - ETA: 0s - loss: 2.2430 - mse: 0.1609 - mae: 0.3235\n",
      "Epoch 43: saving model to save_models/first_stage_lstm_weights/epoch43_2.23958.h5\n",
      "4/4 [==============================] - 0s 15ms/step - loss: 2.2264 - mse: 0.1521 - mae: 0.3125 - val_loss: 2.2396 - val_mse: 0.1815 - val_mae: 0.3453\n",
      "Epoch 44/50\n",
      "1/4 [======>.......................] - ETA: 0s - loss: 2.2182 - mse: 0.1601 - mae: 0.3209\n",
      "Epoch 44: saving model to save_models/first_stage_lstm_weights/epoch44_2.21628.h5\n",
      "4/4 [==============================] - 0s 15ms/step - loss: 2.2028 - mse: 0.1523 - mae: 0.3134 - val_loss: 2.2163 - val_mse: 0.1817 - val_mae: 0.3452\n",
      "Epoch 45/50\n",
      "1/4 [======>.......................] - ETA: 0s - loss: 2.1853 - mse: 0.1508 - mae: 0.3080\n",
      "Epoch 45: saving model to save_models/first_stage_lstm_weights/epoch45_2.19274.h5\n",
      "4/4 [==============================] - 0s 15ms/step - loss: 2.1791 - mse: 0.1523 - mae: 0.3124 - val_loss: 2.1927 - val_mse: 0.1819 - val_mae: 0.3454\n",
      "Epoch 46/50\n",
      "1/4 [======>.......................] - ETA: 0s - loss: 2.1655 - mse: 0.1547 - mae: 0.3147\n",
      "Epoch 46: saving model to save_models/first_stage_lstm_weights/epoch46_2.16908.h5\n",
      "4/4 [==============================] - 0s 14ms/step - loss: 2.1550 - mse: 0.1519 - mae: 0.3123 - val_loss: 2.1691 - val_mse: 0.1821 - val_mae: 0.3461\n",
      "Epoch 47/50\n",
      "1/4 [======>.......................] - ETA: 0s - loss: 2.1432 - mse: 0.1562 - mae: 0.3177\n",
      "Epoch 47: saving model to save_models/first_stage_lstm_weights/epoch47_2.14786.h5\n",
      "4/4 [==============================] - 0s 13ms/step - loss: 2.1309 - mse: 0.1514 - mae: 0.3123 - val_loss: 2.1479 - val_mse: 0.1822 - val_mae: 0.3466\n",
      "Epoch 48/50\n",
      "1/4 [======>.......................] - ETA: 0s - loss: 2.1072 - mse: 0.1415 - mae: 0.2998\n",
      "Epoch 48: saving model to save_models/first_stage_lstm_weights/epoch48_2.12721.h5\n",
      "4/4 [==============================] - 0s 14ms/step - loss: 2.1103 - mse: 0.1513 - mae: 0.3121 - val_loss: 2.1272 - val_mse: 0.1823 - val_mae: 0.3473\n",
      "Epoch 49/50\n",
      "1/4 [======>.......................] - ETA: 0s - loss: 2.1005 - mse: 0.1556 - mae: 0.3174\n",
      "Epoch 49: saving model to save_models/first_stage_lstm_weights/epoch49_2.10626.h5\n",
      "4/4 [==============================] - 0s 14ms/step - loss: 2.0891 - mse: 0.1511 - mae: 0.3123 - val_loss: 2.1063 - val_mse: 0.1827 - val_mae: 0.3463\n",
      "Epoch 50/50\n",
      "1/4 [======>.......................] - ETA: 0s - loss: 2.0632 - mse: 0.1397 - mae: 0.2963\n",
      "Epoch 50: saving model to save_models/first_stage_lstm_weights/epoch50_2.08468.h5\n",
      "4/4 [==============================] - 0s 14ms/step - loss: 2.0677 - mse: 0.1510 - mae: 0.3114 - val_loss: 2.0847 - val_mse: 0.1826 - val_mae: 0.3471\n"
     ]
    },
    {
     "name": "stderr",
     "output_type": "stream",
     "text": [
      "INFO:root:The best first stage lstm weight is: epoch_50_2.08468.h5\n"
     ]
    },
    {
     "name": "stdout",
     "output_type": "stream",
     "text": [
      "time: 4.83 s (started: 2022-11-27 18:23:33 +00:00)\n"
     ]
    }
   ],
   "source": [
    "def double_tanh(x):\n",
    "    return (tf.math.tanh(x) *2)\n",
    "\n",
    "\n",
    "def build_first_stage_lstm():\n",
    "    inputs = Input(shape=(20, 1))\n",
    "    lstm_1 = lstm_layer(inputs)\n",
    "    outputs = Dense(units=21, activation=double_tanh)(lstm_1)\n",
    "    return keras.Model(inputs, outputs, name=f\"lstm_lstm_first_stage-lstm1_fc1{first_stage_lstm_hyper_param}\")\n",
    "\n",
    "\n",
    "# inputs = Input(shape=(20, 1))\n",
    "# lstm_1 = LSTM(units=20, kernel_regularizer=l1_l2(0.0, 0.0), bias_regularizer=l1_l2(0.0, 0.0))(inputs)\n",
    "# outputs = Dense(units=21, activation=\"relu\")(lstm_1)\n",
    "# first_stage_lstm_model = keras.Model(inputs, outputs, name=\"first_stage_lstm\")\n",
    "\n",
    "lstm_lstm_1st_stage_model = build_first_stage_lstm()\n",
    "lstm_lstm_1st_stage_model.summary()\n",
    "lstm_lstm_1st_stage_model.compile(loss='mean_squared_error', optimizer='adam', metrics=first_stage_lstm_metrics )\n",
    "train_history = lstm_lstm_1st_stage_model.fit(x=first_stage_lstm_train_X, y=first_stage_lstm_train_Y, validation_data=(first_stage_lstm_dev_X, first_stage_lstm_dev_Y), epochs=first_stage_lstm_max_epoch, batch_size=first_stage_lstm_batch_size, callbacks=first_stage_lstm_callbacks_list, shuffle=True, verbose=1)\n",
    "best_epoch_num = np.argmin(np.array(train_history.history['val_loss'])) + 1\n",
    "best_val_loss = train_history.history['val_loss'][best_epoch_num-1]\n",
    "best_first_stage_lstm_weight_path = first_stage_lstm_model_dir/f\"epoch_{best_epoch_num}_{best_val_loss:.5f}.h5\"\n",
    "logging.info(f\"The best first stage lstm weight is: epoch{best_epoch_num}_{best_val_loss:.5f}.h5\")"
   ]
  },
  {
   "cell_type": "code",
   "execution_count": 8,
   "id": "dbfd3c44-28e6-43e9-8b83-a7d86f121938",
   "metadata": {
    "tags": []
   },
   "outputs": [
    {
     "name": "stdout",
     "output_type": "stream",
     "text": [
      "time: 1.48 ms (started: 2022-11-27 18:23:37 +00:00)\n"
     ]
    }
   ],
   "source": [
    "def first_stage_lstm_model(lstm_weight_path: \"pathlib.PosixPath\", dataset: \"pd.DataFrame\", first_stage_lstm_result_path_basis: \"pathlib.PosixPath\", data_split_setting: str = \"\", save_file: bool = False) -> (\"pd.DataFrame\", \"pd.DataFrame\", \"pd.DataFrame\"):\n",
    "    best_first_stage_lstm_model = load_model(lstm_weight_path, custom_objects={'double_tanh':double_tanh})\n",
    "    pred_input_len = dataset.shape[1]-1\n",
    "    pred_input = dataset.iloc[::, :pred_input_len].values.reshape(-1, pred_input_len, 1)\n",
    "    dataset.columns = pd.RangeIndex(dataset.shape[1])  # in order to align dataset & first_stage_lstm_output_df\n",
    "    fisrt_stage_lstm_pred = best_first_stage_lstm_model.predict(pred_input)\n",
    "    first_stage_lstm_output_df = pd.DataFrame(fisrt_stage_lstm_pred, index=dataset.index)\n",
    "    first_stage_lstm_resid_df = first_stage_lstm_output_df\n",
    "\n",
    "    if save_file:\n",
    "        first_stage_lstm_output_df.to_csv(first_stage_lstm_result_path_basis.parent/(str(first_stage_lstm_result_path_basis.stem) + f'-first_stage_lstm_output{data_split_setting}.csv'))\n",
    "        first_stage_lstm_resid_df.to_csv(first_stage_lstm_result_path_basis.parent/(str(first_stage_lstm_result_path_basis.stem) + f'-first_stage_lstm_resid{data_split_setting}.csv'))\n",
    "\n",
    "    return first_stage_lstm_output_df, first_stage_lstm_resid_df\n",
    "\n",
    "first_stage_lstm_result_path_basis = first_stage_lstm_result_dir/f'{output_file_name}.csv'\n",
    "first_stage_lstm_result_paths = []\n",
    "first_stage_lstm_result_types = [\"-first_stage_lstm_output\", \"-first_stage_lstm_resid\"]\n",
    "\n",
    "for data_sp_setting in data_split_settings:\n",
    "    for first_stage_lstm_result_type in first_stage_lstm_result_types:\n",
    "        first_stage_lstm_result_paths.append(first_stage_lstm_result_dir/f'{output_file_name}{first_stage_lstm_result_type}{data_sp_setting}.csv')\n",
    "\n",
    "if all([df_path.exists() for df_path in first_stage_lstm_result_paths]):\n",
    "    pass\n",
    "else:\n",
    "    for (data_sp_setting, dataset) in tqdm(zip(data_split_settings, corr_datasets)):\n",
    "         first_stage_lstm_model(best_first_stage_lstm_weight_path, dataset, first_stage_lstm_result_path_basis=first_stage_lstm_result_path_basis, data_split_setting=data_sp_setting, save_file=save_lstm_resid_data)"
   ]
  },
  {
   "cell_type": "markdown",
   "id": "dfb455ad-4103-403d-a65f-ba8a13038295",
   "metadata": {
    "tags": []
   },
   "source": [
    "# LSTM for residual"
   ]
  },
  {
   "cell_type": "markdown",
   "id": "060591b9-a732-449d-bcc8-e183e34f9cdc",
   "metadata": {},
   "source": [
    "## settings of input data of second stage LSTM"
   ]
  },
  {
   "cell_type": "code",
   "execution_count": 9,
   "id": "7ed36f1c-62c7-4874-a3a4-1aaf35bcdc2a",
   "metadata": {},
   "outputs": [
    {
     "name": "stdout",
     "output_type": "stream",
     "text": [
      "(225, 20) (225,)\n",
      "time: 14.4 ms (started: 2022-11-27 18:23:37 +00:00)\n"
     ]
    }
   ],
   "source": [
    "# Dataset.from_tensor_slices(dict(pd.read_csv(f'./dataset/after_arima/arima_resid_train.csv')))\n",
    "second_stage_lstm_train_X = pd.read_csv(first_stage_lstm_result_dir/f'{output_file_name}-first_stage_lstm_resid-data_sp_train.csv', index_col=[\"items\"]).iloc[::, :-1]\n",
    "second_stage_lstm_train_Y = pd.read_csv(first_stage_lstm_result_dir/f'{output_file_name}-first_stage_lstm_resid-data_sp_train.csv', index_col=[\"items\"]).iloc[::, -1]\n",
    "second_stage_lstm_dev_X = pd.read_csv(first_stage_lstm_result_dir/f'{output_file_name}-first_stage_lstm_resid-data_sp_dev.csv', index_col=[\"items\"]).iloc[::, :-1]\n",
    "second_stage_lstm_dev_Y = pd.read_csv(first_stage_lstm_result_dir/f'{output_file_name}-first_stage_lstm_resid-data_sp_dev.csv', index_col=[\"items\"]).iloc[::, -1]\n",
    "second_stage_lstm_test1_X = pd.read_csv(first_stage_lstm_result_dir/f'{output_file_name}-first_stage_lstm_resid-data_sp_test1.csv', index_col=[\"items\"]).iloc[::, :-1]\n",
    "second_stage_lstm_test1_Y = pd.read_csv(first_stage_lstm_result_dir/f'{output_file_name}-first_stage_lstm_resid-data_sp_test1.csv', index_col=[\"items\"]).iloc[::, -1]\n",
    "second_stage_lstm_test2_X = pd.read_csv(first_stage_lstm_result_dir/f'{output_file_name}-first_stage_lstm_resid-data_sp_test2.csv', index_col=[\"items\"]).iloc[::, :-1]\n",
    "second_stage_lstm_test2_Y = pd.read_csv(first_stage_lstm_result_dir/f'{output_file_name}-first_stage_lstm_resid-data_sp_test2.csv', index_col=[\"items\"]).iloc[::, -1]\n",
    "\n",
    "\n",
    "print(second_stage_lstm_train_X.shape,  second_stage_lstm_train_Y.shape)\n",
    "second_stage_lstm_X_len = second_stage_lstm_train_X.shape[1]\n",
    "second_stage_lstm_Y_len = second_stage_lstm_train_Y.shape[1] if len(second_stage_lstm_train_Y.shape)>1 else 1\n",
    "second_stage_lstm_train_X = second_stage_lstm_train_X.values.reshape(-1, second_stage_lstm_X_len, 1)\n",
    "second_stage_lstm_train_Y = second_stage_lstm_train_Y.values.reshape(-1, second_stage_lstm_Y_len)\n",
    "second_stage_lstm_dev_X = second_stage_lstm_dev_X.values.reshape(-1, second_stage_lstm_X_len, 1)\n",
    "second_stage_lstm_dev_Y = second_stage_lstm_dev_Y.values.reshape(-1, second_stage_lstm_Y_len)\n",
    "second_stage_lstm_test1_X = second_stage_lstm_test1_X.values.reshape(-1, second_stage_lstm_X_len, 1)\n",
    "second_stage_lstm_test1_Y = second_stage_lstm_test1_Y.values.reshape(-1, second_stage_lstm_Y_len)\n",
    "second_stage_lstm_test2_X = second_stage_lstm_test2_X.values.reshape(-1, second_stage_lstm_X_len, 1)\n",
    "second_stage_lstm_test2_Y = second_stage_lstm_test2_Y.values.reshape(-1, second_stage_lstm_Y_len)"
   ]
  },
  {
   "cell_type": "markdown",
   "id": "14dd276f-9102-4678-ba03-26036955e8eb",
   "metadata": {},
   "source": [
    "## settings of second stage LSTM"
   ]
  },
  {
   "cell_type": "code",
   "execution_count": 17,
   "id": "5c4ad8b6-cbec-4ab1-980a-942ddc0da28a",
   "metadata": {},
   "outputs": [
    {
     "name": "stdout",
     "output_type": "stream",
     "text": [
      "1\n",
      "time: 2.17 ms (started: 2022-11-27 18:28:24 +00:00)\n"
     ]
    }
   ],
   "source": [
    "second_stage_lstm_model_log = TensorBoard(log_dir=second_stage_lstm_log_dir)\n",
    "second_stage_lstm_max_epoch = 5000\n",
    "second_stage_lstm_batch_size = 64\n",
    "second_stage_lstm_metrics = ['mse', 'mae']\n",
    "\n",
    "if second_stage_lstm_hyper_param == \"-kS_hyper\":\n",
    "    lstm_layer = LSTM(units=10, kernel_regularizer=l1_l2(0.2, 0.0), bias_regularizer=l1_l2(0.2, 0.0), activation=\"tanh\", dropout=0.1, name=f\"lstm{second_stage_lstm_hyper_param}\")  # LSTM hyper params from 【Something Old, Something New — A Hybrid Approach with ARIMA and LSTM to Increase Portfolio Stability】"
   ]
  },
  {
   "cell_type": "code",
   "execution_count": 11,
   "id": "8df49f64-a93a-4104-b07d-dfbd0a688004",
   "metadata": {
    "tags": []
   },
   "outputs": [
    {
     "name": "stdout",
     "output_type": "stream",
     "text": [
      "Model: \"lstm_lstm_second_stage-lstm1_fc1-kS_hyper\"\n",
      "_________________________________________________________________\n",
      " Layer (type)                Output Shape              Param #   \n",
      "=================================================================\n",
      " input_2 (InputLayer)        [(None, 20, 1)]           0         \n",
      "                                                                 \n",
      " lstm-kS_hyper (LSTM)        (None, 10)                480       \n",
      "                                                                 \n",
      " dense_1 (Dense)             (None, 1)                 11        \n",
      "                                                                 \n",
      "=================================================================\n",
      "Total params: 491\n",
      "Trainable params: 491\n",
      "Non-trainable params: 0\n",
      "_________________________________________________________________\n",
      "time: 128 ms (started: 2022-11-27 18:23:37 +00:00)\n"
     ]
    }
   ],
   "source": [
    "def double_tanh(x):\n",
    "    return (tf.math.tanh(x) *2)\n",
    "\n",
    "\n",
    "def build_second_stage_lstm():\n",
    "    inputs = Input(shape=(20, 1))\n",
    "    lstm_1 = lstm_layer(inputs)\n",
    "    outputs = Dense(units=1, activation=double_tanh)(lstm_1)\n",
    "    return keras.Model(inputs, outputs, name=f\"lstm_lstm_second_stage-lstm1_fc1{second_stage_lstm_hyper_param}\")\n",
    "\n",
    "lstm_model = build_second_stage_lstm()\n",
    "lstm_model.summary()\n",
    "lstm_model.compile(loss='mean_squared_error', optimizer='adam', metrics=second_stage_lstm_metrics)"
   ]
  },
  {
   "cell_type": "code",
   "execution_count": 13,
   "id": "daa2b47f-ad31-431f-8ded-1e2acf98d7c2",
   "metadata": {
    "collapsed": true,
    "jupyter": {
     "outputs_hidden": true
    },
    "tags": []
   },
   "outputs": [
    {
     "name": "stderr",
     "output_type": "stream",
     "text": [
      "  0% 0/49 [00:00<?, ?it/s]"
     ]
    },
    {
     "name": "stdout",
     "output_type": "stream",
     "text": [
      "\n",
      "Epoch 1: saving model to save_models/second_stage_lstm_weights/test_case-train_train-kS_hyper-epoch1.h5\n",
      "8/8 [==============================] - 0s 2ms/step - loss: 3.4407 - mae: 0.1651 - mse: 0.0281\n",
      "8/8 [==============================] - 0s 1ms/step - loss: 3.4408 - mae: 0.1656 - mse: 0.0282\n",
      "8/8 [==============================] - 0s 1ms/step - loss: 3.4388 - mae: 0.1595 - mse: 0.0261\n",
      "8/8 [==============================] - 0s 2ms/step - loss: 3.4382 - mae: 0.1579 - mse: 0.0256\n"
     ]
    },
    {
     "name": "stderr",
     "output_type": "stream",
     "text": [
      "  2% 1/49 [00:01<01:00,  1.25s/it]"
     ]
    },
    {
     "name": "stdout",
     "output_type": "stream",
     "text": [
      "\n",
      "Epoch 1: saving model to save_models/second_stage_lstm_weights/test_case-train_train-kS_hyper-epoch2.h5\n",
      "8/8 [==============================] - 0s 2ms/step - loss: 3.3928 - mae: 0.1194 - mse: 0.0149\n",
      "8/8 [==============================] - 0s 1ms/step - loss: 3.3928 - mae: 0.1196 - mse: 0.0149\n",
      "8/8 [==============================] - 0s 2ms/step - loss: 3.3915 - mae: 0.1143 - mse: 0.0136\n",
      "8/8 [==============================] - 0s 1ms/step - loss: 3.3911 - mae: 0.1127 - mse: 0.0132\n"
     ]
    },
    {
     "name": "stderr",
     "output_type": "stream",
     "text": [
      "  4% 2/49 [00:02<00:56,  1.21s/it]"
     ]
    },
    {
     "name": "stdout",
     "output_type": "stream",
     "text": [
      "\n",
      "Epoch 1: saving model to save_models/second_stage_lstm_weights/test_case-train_train-kS_hyper-epoch3.h5\n",
      "8/8 [==============================] - 0s 2ms/step - loss: 3.3503 - mae: 0.0850 - mse: 0.0077\n",
      "8/8 [==============================] - 0s 2ms/step - loss: 3.3503 - mae: 0.0851 - mse: 0.0077\n",
      "8/8 [==============================] - 0s 2ms/step - loss: 3.3495 - mae: 0.0805 - mse: 0.0069\n",
      "8/8 [==============================] - 0s 1ms/step - loss: 3.3492 - mae: 0.0788 - mse: 0.0066\n"
     ]
    },
    {
     "name": "stderr",
     "output_type": "stream",
     "text": [
      "  6% 3/49 [00:03<00:52,  1.15s/it]"
     ]
    },
    {
     "name": "stdout",
     "output_type": "stream",
     "text": [
      "\n",
      "Epoch 1: saving model to save_models/second_stage_lstm_weights/test_case-train_train-kS_hyper-epoch4.h5\n",
      "8/8 [==============================] - 0s 2ms/step - loss: 3.3105 - mae: 0.0612 - mse: 0.0041\n",
      "8/8 [==============================] - 0s 1ms/step - loss: 3.3105 - mae: 0.0612 - mse: 0.0041\n",
      "8/8 [==============================] - 0s 1ms/step - loss: 3.3100 - mae: 0.0572 - mse: 0.0036\n",
      "8/8 [==============================] - 0s 2ms/step - loss: 3.3098 - mae: 0.0555 - mse: 0.0034\n"
     ]
    },
    {
     "name": "stderr",
     "output_type": "stream",
     "text": [
      "  8% 4/49 [00:04<00:50,  1.11s/it]"
     ]
    },
    {
     "name": "stdout",
     "output_type": "stream",
     "text": [
      "\n",
      "Epoch 1: saving model to save_models/second_stage_lstm_weights/test_case-train_train-kS_hyper-epoch5.h5\n",
      "8/8 [==============================] - 0s 2ms/step - loss: 3.2727 - mae: 0.0504 - mse: 0.0028\n",
      "8/8 [==============================] - 0s 1ms/step - loss: 3.2727 - mae: 0.0502 - mse: 0.0028\n",
      "8/8 [==============================] - 0s 2ms/step - loss: 3.2723 - mae: 0.0468 - mse: 0.0024\n",
      "8/8 [==============================] - 0s 2ms/step - loss: 3.2721 - mae: 0.0450 - mse: 0.0022\n"
     ]
    },
    {
     "name": "stderr",
     "output_type": "stream",
     "text": [
      " 10% 5/49 [00:05<00:48,  1.10s/it]"
     ]
    },
    {
     "name": "stdout",
     "output_type": "stream",
     "text": [
      "\n",
      "Epoch 1: saving model to save_models/second_stage_lstm_weights/test_case-train_train-kS_hyper-epoch6.h5\n",
      "8/8 [==============================] - 0s 2ms/step - loss: 3.2346 - mae: 0.0471 - mse: 0.0024\n",
      "8/8 [==============================] - 0s 1ms/step - loss: 3.2345 - mae: 0.0468 - mse: 0.0024\n",
      "8/8 [==============================] - 0s 1ms/step - loss: 3.2343 - mae: 0.0439 - mse: 0.0021\n",
      "8/8 [==============================] - 0s 1ms/step - loss: 3.2341 - mae: 0.0421 - mse: 0.0019\n"
     ]
    },
    {
     "name": "stderr",
     "output_type": "stream",
     "text": [
      " 12% 6/49 [00:06<00:46,  1.09s/it]"
     ]
    },
    {
     "name": "stdout",
     "output_type": "stream",
     "text": [
      "\n",
      "Epoch 1: saving model to save_models/second_stage_lstm_weights/test_case-train_train-kS_hyper-epoch7.h5\n",
      "8/8 [==============================] - 0s 2ms/step - loss: 3.1974 - mae: 0.0447 - mse: 0.0022\n",
      "8/8 [==============================] - 0s 2ms/step - loss: 3.1974 - mae: 0.0443 - mse: 0.0021\n",
      "8/8 [==============================] - 0s 2ms/step - loss: 3.1971 - mae: 0.0418 - mse: 0.0019\n",
      "8/8 [==============================] - 0s 2ms/step - loss: 3.1970 - mae: 0.0400 - mse: 0.0017\n"
     ]
    },
    {
     "name": "stderr",
     "output_type": "stream",
     "text": [
      " 14% 7/49 [00:08<00:48,  1.16s/it]"
     ]
    },
    {
     "name": "stdout",
     "output_type": "stream",
     "text": [
      "\n",
      "Epoch 1: saving model to save_models/second_stage_lstm_weights/test_case-train_train-kS_hyper-epoch8.h5\n",
      "8/8 [==============================] - 0s 2ms/step - loss: 3.1606 - mae: 0.0444 - mse: 0.0021\n",
      "8/8 [==============================] - 0s 2ms/step - loss: 3.1606 - mae: 0.0438 - mse: 0.0020\n",
      "8/8 [==============================] - 0s 2ms/step - loss: 3.1604 - mae: 0.0418 - mse: 0.0018\n",
      "8/8 [==============================] - 0s 2ms/step - loss: 3.1602 - mae: 0.0400 - mse: 0.0017\n"
     ]
    },
    {
     "name": "stderr",
     "output_type": "stream",
     "text": [
      " 16% 8/49 [00:09<00:46,  1.13s/it]"
     ]
    },
    {
     "name": "stdout",
     "output_type": "stream",
     "text": [
      "\n",
      "Epoch 1: saving model to save_models/second_stage_lstm_weights/test_case-train_train-kS_hyper-epoch9.h5\n",
      "8/8 [==============================] - 0s 2ms/step - loss: 3.1240 - mae: 0.0494 - mse: 0.0025\n",
      "8/8 [==============================] - 0s 2ms/step - loss: 3.1239 - mae: 0.0488 - mse: 0.0025\n",
      "8/8 [==============================] - 0s 2ms/step - loss: 3.1237 - mae: 0.0471 - mse: 0.0023\n",
      "8/8 [==============================] - 0s 2ms/step - loss: 3.1236 - mae: 0.0453 - mse: 0.0021\n"
     ]
    },
    {
     "name": "stderr",
     "output_type": "stream",
     "text": [
      " 18% 9/49 [00:10<00:44,  1.11s/it]"
     ]
    },
    {
     "name": "stdout",
     "output_type": "stream",
     "text": [
      "\n",
      "Epoch 1: saving model to save_models/second_stage_lstm_weights/test_case-train_train-kS_hyper-epoch10.h5\n",
      "8/8 [==============================] - 0s 2ms/step - loss: 3.0873 - mae: 0.0450 - mse: 0.0021\n",
      "8/8 [==============================] - 0s 2ms/step - loss: 3.0872 - mae: 0.0443 - mse: 0.0020\n",
      "8/8 [==============================] - 0s 2ms/step - loss: 3.0871 - mae: 0.0429 - mse: 0.0019\n",
      "8/8 [==============================] - 0s 2ms/step - loss: 3.0870 - mae: 0.0411 - mse: 0.0018\n"
     ]
    },
    {
     "name": "stderr",
     "output_type": "stream",
     "text": [
      " 20% 10/49 [00:11<00:42,  1.10s/it]"
     ]
    },
    {
     "name": "stdout",
     "output_type": "stream",
     "text": [
      "\n",
      "Epoch 1: saving model to save_models/second_stage_lstm_weights/test_case-train_train-kS_hyper-epoch11.h5\n",
      "8/8 [==============================] - 0s 2ms/step - loss: 3.0521 - mae: 0.0350 - mse: 0.0013\n",
      "8/8 [==============================] - 0s 1ms/step - loss: 3.0521 - mae: 0.0342 - mse: 0.0012\n",
      "8/8 [==============================] - 0s 2ms/step - loss: 3.0520 - mae: 0.0331 - mse: 0.0011\n",
      "8/8 [==============================] - 0s 1ms/step - loss: 3.0519 - mae: 0.0313 - mse: 0.0010\n"
     ]
    },
    {
     "name": "stderr",
     "output_type": "stream",
     "text": [
      " 22% 11/49 [00:12<00:44,  1.17s/it]"
     ]
    },
    {
     "name": "stdout",
     "output_type": "stream",
     "text": [
      "\n",
      "Epoch 1: saving model to save_models/second_stage_lstm_weights/test_case-train_train-kS_hyper-epoch12.h5\n",
      "8/8 [==============================] - 0s 2ms/step - loss: 3.0170 - mae: 0.0286 - mse: 8.6538e-04\n",
      "8/8 [==============================] - 0s 2ms/step - loss: 3.0169 - mae: 0.0277 - mse: 8.0729e-04\n",
      "8/8 [==============================] - 0s 1ms/step - loss: 3.0169 - mae: 0.0269 - mse: 7.6354e-04\n",
      "8/8 [==============================] - 0s 1ms/step - loss: 3.0168 - mae: 0.0251 - mse: 6.7616e-04\n"
     ]
    },
    {
     "name": "stderr",
     "output_type": "stream",
     "text": [
      " 24% 12/49 [00:13<00:42,  1.14s/it]"
     ]
    },
    {
     "name": "stdout",
     "output_type": "stream",
     "text": [
      "\n",
      "Epoch 1: saving model to save_models/second_stage_lstm_weights/test_case-train_train-kS_hyper-epoch13.h5\n",
      "8/8 [==============================] - 0s 2ms/step - loss: 2.9818 - mae: 0.0243 - mse: 6.3147e-04\n",
      "8/8 [==============================] - 0s 2ms/step - loss: 2.9818 - mae: 0.0234 - mse: 5.8078e-04\n",
      "8/8 [==============================] - 0s 2ms/step - loss: 2.9818 - mae: 0.0228 - mse: 5.5265e-04\n",
      "8/8 [==============================] - 0s 1ms/step - loss: 2.9817 - mae: 0.0209 - mse: 4.8141e-04\n"
     ]
    },
    {
     "name": "stderr",
     "output_type": "stream",
     "text": [
      " 27% 13/49 [00:14<00:40,  1.11s/it]"
     ]
    },
    {
     "name": "stdout",
     "output_type": "stream",
     "text": [
      "\n",
      "Epoch 1: saving model to save_models/second_stage_lstm_weights/test_case-train_train-kS_hyper-epoch14.h5\n",
      "8/8 [==============================] - 0s 2ms/step - loss: 2.9473 - mae: 0.0180 - mse: 3.6049e-04\n",
      "8/8 [==============================] - 0s 1ms/step - loss: 2.9473 - mae: 0.0170 - mse: 3.2197e-04\n",
      "8/8 [==============================] - 0s 2ms/step - loss: 2.9473 - mae: 0.0165 - mse: 3.0453e-04\n",
      "8/8 [==============================] - 0s 1ms/step - loss: 2.9472 - mae: 0.0146 - mse: 2.5719e-04\n"
     ]
    },
    {
     "name": "stderr",
     "output_type": "stream",
     "text": [
      " 29% 14/49 [00:15<00:38,  1.10s/it]"
     ]
    },
    {
     "name": "stdout",
     "output_type": "stream",
     "text": [
      "\n",
      "Epoch 1: saving model to save_models/second_stage_lstm_weights/test_case-train_train-kS_hyper-epoch15.h5\n",
      "8/8 [==============================] - 0s 2ms/step - loss: 2.9123 - mae: 0.0142 - mse: 2.3788e-04\n",
      "8/8 [==============================] - 0s 2ms/step - loss: 2.9123 - mae: 0.0133 - mse: 2.0683e-04\n",
      "8/8 [==============================] - 0s 1ms/step - loss: 2.9123 - mae: 0.0128 - mse: 1.9543e-04\n",
      "8/8 [==============================] - 0s 2ms/step - loss: 2.9123 - mae: 0.0112 - mse: 1.6218e-04\n"
     ]
    },
    {
     "name": "stderr",
     "output_type": "stream",
     "text": [
      " 31% 15/49 [00:16<00:37,  1.09s/it]"
     ]
    },
    {
     "name": "stdout",
     "output_type": "stream",
     "text": [
      "\n",
      "Epoch 1: saving model to save_models/second_stage_lstm_weights/test_case-train_train-kS_hyper-epoch16.h5\n",
      "8/8 [==============================] - 0s 2ms/step - loss: 2.8782 - mae: 0.0132 - mse: 2.0857e-04\n",
      "8/8 [==============================] - 0s 2ms/step - loss: 2.8782 - mae: 0.0122 - mse: 1.7971e-04\n",
      "8/8 [==============================] - 0s 2ms/step - loss: 2.8781 - mae: 0.0118 - mse: 1.6957e-04\n",
      "8/8 [==============================] - 0s 2ms/step - loss: 2.8781 - mae: 0.0102 - mse: 1.4033e-04\n"
     ]
    },
    {
     "name": "stderr",
     "output_type": "stream",
     "text": [
      " 33% 16/49 [00:18<00:38,  1.16s/it]"
     ]
    },
    {
     "name": "stdout",
     "output_type": "stream",
     "text": [
      "\n",
      "Epoch 1: saving model to save_models/second_stage_lstm_weights/test_case-train_train-kS_hyper-epoch17.h5\n",
      "8/8 [==============================] - 0s 2ms/step - loss: 2.8446 - mae: 0.0139 - mse: 2.2804e-04\n",
      "8/8 [==============================] - 0s 1ms/step - loss: 2.8445 - mae: 0.0129 - mse: 1.9783e-04\n",
      "8/8 [==============================] - 0s 2ms/step - loss: 2.8445 - mae: 0.0124 - mse: 1.8538e-04\n",
      "8/8 [==============================] - 0s 1ms/step - loss: 2.8445 - mae: 0.0108 - mse: 1.5368e-04\n"
     ]
    },
    {
     "name": "stderr",
     "output_type": "stream",
     "text": [
      " 35% 17/49 [00:19<00:36,  1.13s/it]"
     ]
    },
    {
     "name": "stdout",
     "output_type": "stream",
     "text": [
      "\n",
      "Epoch 1: saving model to save_models/second_stage_lstm_weights/test_case-train_train-kS_hyper-epoch18.h5\n",
      "8/8 [==============================] - 0s 2ms/step - loss: 2.8108 - mae: 0.0125 - mse: 1.9400e-04\n",
      "8/8 [==============================] - 0s 2ms/step - loss: 2.8107 - mae: 0.0116 - mse: 1.6625e-04\n",
      "8/8 [==============================] - 0s 2ms/step - loss: 2.8107 - mae: 0.0110 - mse: 1.5319e-04\n",
      "8/8 [==============================] - 0s 2ms/step - loss: 2.8107 - mae: 0.0096 - mse: 1.2669e-04\n"
     ]
    },
    {
     "name": "stderr",
     "output_type": "stream",
     "text": [
      " 37% 18/49 [00:20<00:34,  1.12s/it]"
     ]
    },
    {
     "name": "stdout",
     "output_type": "stream",
     "text": [
      "\n",
      "Epoch 1: saving model to save_models/second_stage_lstm_weights/test_case-train_train-kS_hyper-epoch19.h5\n",
      "8/8 [==============================] - 0s 2ms/step - loss: 2.7767 - mae: 0.0123 - mse: 1.9061e-04\n",
      "8/8 [==============================] - 0s 2ms/step - loss: 2.7767 - mae: 0.0114 - mse: 1.6312e-04\n",
      "8/8 [==============================] - 0s 2ms/step - loss: 2.7767 - mae: 0.0107 - mse: 1.4857e-04\n",
      "8/8 [==============================] - 0s 2ms/step - loss: 2.7767 - mae: 0.0094 - mse: 1.2290e-04\n"
     ]
    },
    {
     "name": "stderr",
     "output_type": "stream",
     "text": [
      " 39% 19/49 [00:21<00:32,  1.10s/it]"
     ]
    },
    {
     "name": "stdout",
     "output_type": "stream",
     "text": [
      "\n",
      "Epoch 1: saving model to save_models/second_stage_lstm_weights/test_case-train_train-kS_hyper-epoch20.h5\n",
      "8/8 [==============================] - 0s 2ms/step - loss: 2.7432 - mae: 0.0148 - mse: 2.6133e-04\n",
      "8/8 [==============================] - 0s 2ms/step - loss: 2.7432 - mae: 0.0139 - mse: 2.2931e-04\n",
      "8/8 [==============================] - 0s 2ms/step - loss: 2.7431 - mae: 0.0131 - mse: 2.0860e-04\n",
      "8/8 [==============================] - 0s 2ms/step - loss: 2.7431 - mae: 0.0115 - mse: 1.7375e-04\n"
     ]
    },
    {
     "name": "stderr",
     "output_type": "stream",
     "text": [
      " 41% 20/49 [00:22<00:31,  1.09s/it]"
     ]
    },
    {
     "name": "stdout",
     "output_type": "stream",
     "text": [
      "\n",
      "Epoch 1: saving model to save_models/second_stage_lstm_weights/test_case-train_train-kS_hyper-epoch21.h5\n",
      "8/8 [==============================] - 0s 2ms/step - loss: 2.7102 - mae: 0.0123 - mse: 1.9621e-04\n",
      "8/8 [==============================] - 0s 1ms/step - loss: 2.7102 - mae: 0.0115 - mse: 1.6847e-04\n",
      "8/8 [==============================] - 0s 2ms/step - loss: 2.7102 - mae: 0.0106 - mse: 1.4923e-04\n",
      "8/8 [==============================] - 0s 2ms/step - loss: 2.7102 - mae: 0.0093 - mse: 1.2357e-04\n"
     ]
    },
    {
     "name": "stderr",
     "output_type": "stream",
     "text": [
      " 43% 21/49 [00:23<00:32,  1.15s/it]"
     ]
    },
    {
     "name": "stdout",
     "output_type": "stream",
     "text": [
      "\n",
      "Epoch 1: saving model to save_models/second_stage_lstm_weights/test_case-train_train-kS_hyper-epoch22.h5\n",
      "8/8 [==============================] - 0s 2ms/step - loss: 2.6785 - mae: 0.0150 - mse: 2.7391e-04\n",
      "8/8 [==============================] - 0s 2ms/step - loss: 2.6785 - mae: 0.0142 - mse: 2.4164e-04\n",
      "8/8 [==============================] - 0s 2ms/step - loss: 2.6785 - mae: 0.0132 - mse: 2.1497e-04\n",
      "8/8 [==============================] - 0s 2ms/step - loss: 2.6784 - mae: 0.0116 - mse: 1.7943e-04\n"
     ]
    },
    {
     "name": "stderr",
     "output_type": "stream",
     "text": [
      " 45% 22/49 [00:24<00:30,  1.13s/it]"
     ]
    },
    {
     "name": "stdout",
     "output_type": "stream",
     "text": [
      "\n",
      "Epoch 1: saving model to save_models/second_stage_lstm_weights/test_case-train_train-kS_hyper-epoch23.h5\n",
      "8/8 [==============================] - 0s 2ms/step - loss: 2.6465 - mae: 0.0137 - mse: 2.4073e-04\n",
      "8/8 [==============================] - 0s 2ms/step - loss: 2.6464 - mae: 0.0129 - mse: 2.1054e-04\n",
      "8/8 [==============================] - 0s 2ms/step - loss: 2.6464 - mae: 0.0119 - mse: 1.8339e-04\n",
      "8/8 [==============================] - 0s 2ms/step - loss: 2.6464 - mae: 0.0104 - mse: 1.5244e-04\n"
     ]
    },
    {
     "name": "stderr",
     "output_type": "stream",
     "text": [
      " 47% 23/49 [00:25<00:29,  1.12s/it]"
     ]
    },
    {
     "name": "stdout",
     "output_type": "stream",
     "text": [
      "\n",
      "Epoch 1: saving model to save_models/second_stage_lstm_weights/test_case-train_train-kS_hyper-epoch24.h5\n",
      "8/8 [==============================] - 0s 2ms/step - loss: 2.6136 - mae: 0.0154 - mse: 2.9206e-04\n",
      "8/8 [==============================] - 0s 2ms/step - loss: 2.6135 - mae: 0.0146 - mse: 2.5939e-04\n",
      "8/8 [==============================] - 0s 1ms/step - loss: 2.6135 - mae: 0.0135 - mse: 2.2620e-04\n",
      "8/8 [==============================] - 0s 2ms/step - loss: 2.6135 - mae: 0.0119 - mse: 1.8932e-04\n"
     ]
    },
    {
     "name": "stderr",
     "output_type": "stream",
     "text": [
      " 49% 24/49 [00:26<00:27,  1.11s/it]"
     ]
    },
    {
     "name": "stdout",
     "output_type": "stream",
     "text": [
      "\n",
      "Epoch 1: saving model to save_models/second_stage_lstm_weights/test_case-train_train-kS_hyper-epoch25.h5\n",
      "8/8 [==============================] - 0s 2ms/step - loss: 2.5815 - mae: 0.0148 - mse: 2.7791e-04\n",
      "8/8 [==============================] - 0s 2ms/step - loss: 2.5815 - mae: 0.0140 - mse: 2.4626e-04\n",
      "8/8 [==============================] - 0s 2ms/step - loss: 2.5815 - mae: 0.0128 - mse: 2.1185e-04\n",
      "8/8 [==============================] - 0s 2ms/step - loss: 2.5814 - mae: 0.0113 - mse: 1.7700e-04\n"
     ]
    },
    {
     "name": "stderr",
     "output_type": "stream",
     "text": [
      " 51% 25/49 [00:28<00:28,  1.18s/it]"
     ]
    },
    {
     "name": "stdout",
     "output_type": "stream",
     "text": [
      "\n",
      "Epoch 1: saving model to save_models/second_stage_lstm_weights/test_case-train_train-kS_hyper-epoch26.h5\n",
      "8/8 [==============================] - 0s 2ms/step - loss: 2.5495 - mae: 0.0145 - mse: 2.7020e-04\n",
      "8/8 [==============================] - 0s 2ms/step - loss: 2.5495 - mae: 0.0137 - mse: 2.3915e-04\n",
      "8/8 [==============================] - 0s 2ms/step - loss: 2.5494 - mae: 0.0124 - mse: 2.0363e-04\n",
      "8/8 [==============================] - 0s 2ms/step - loss: 2.5494 - mae: 0.0110 - mse: 1.7005e-04\n"
     ]
    },
    {
     "name": "stderr",
     "output_type": "stream",
     "text": [
      " 53% 26/49 [00:29<00:26,  1.15s/it]"
     ]
    },
    {
     "name": "stdout",
     "output_type": "stream",
     "text": [
      "\n",
      "Epoch 1: saving model to save_models/second_stage_lstm_weights/test_case-train_train-kS_hyper-epoch27.h5\n",
      "8/8 [==============================] - 0s 2ms/step - loss: 2.5172 - mae: 0.0143 - mse: 2.6563e-04\n",
      "8/8 [==============================] - 0s 2ms/step - loss: 2.5172 - mae: 0.0135 - mse: 2.3514e-04\n",
      "8/8 [==============================] - 0s 2ms/step - loss: 2.5172 - mae: 0.0121 - mse: 1.9819e-04\n",
      "8/8 [==============================] - 0s 2ms/step - loss: 2.5171 - mae: 0.0107 - mse: 1.6550e-04\n"
     ]
    },
    {
     "name": "stderr",
     "output_type": "stream",
     "text": [
      " 55% 27/49 [00:30<00:24,  1.13s/it]"
     ]
    },
    {
     "name": "stdout",
     "output_type": "stream",
     "text": [
      "\n",
      "Epoch 1: saving model to save_models/second_stage_lstm_weights/test_case-train_train-kS_hyper-epoch28.h5\n",
      "8/8 [==============================] - 0s 2ms/step - loss: 2.4861 - mae: 0.0145 - mse: 2.7649e-04\n",
      "8/8 [==============================] - 0s 2ms/step - loss: 2.4860 - mae: 0.0138 - mse: 2.4579e-04\n",
      "8/8 [==============================] - 0s 2ms/step - loss: 2.4860 - mae: 0.0124 - mse: 2.0603e-04\n",
      "8/8 [==============================] - 0s 2ms/step - loss: 2.4860 - mae: 0.0109 - mse: 1.7236e-04\n"
     ]
    },
    {
     "name": "stderr",
     "output_type": "stream",
     "text": [
      " 57% 28/49 [00:31<00:23,  1.12s/it]"
     ]
    },
    {
     "name": "stdout",
     "output_type": "stream",
     "text": [
      "\n",
      "Epoch 1: saving model to save_models/second_stage_lstm_weights/test_case-train_train-kS_hyper-epoch29.h5\n",
      "8/8 [==============================] - 0s 2ms/step - loss: 2.4553 - mae: 0.0156 - mse: 3.1502e-04\n",
      "8/8 [==============================] - 0s 2ms/step - loss: 2.4553 - mae: 0.0148 - mse: 2.8323e-04\n",
      "8/8 [==============================] - 0s 2ms/step - loss: 2.4552 - mae: 0.0133 - mse: 2.3630e-04\n",
      "8/8 [==============================] - 0s 2ms/step - loss: 2.4552 - mae: 0.0118 - mse: 1.9866e-04\n"
     ]
    },
    {
     "name": "stderr",
     "output_type": "stream",
     "text": [
      " 59% 29/49 [00:32<00:22,  1.11s/it]"
     ]
    },
    {
     "name": "stdout",
     "output_type": "stream",
     "text": [
      "\n",
      "Epoch 1: saving model to save_models/second_stage_lstm_weights/test_case-train_train-kS_hyper-epoch30.h5\n",
      "8/8 [==============================] - 0s 2ms/step - loss: 2.4260 - mae: 0.0163 - mse: 3.4522e-04\n",
      "8/8 [==============================] - 0s 2ms/step - loss: 2.4259 - mae: 0.0156 - mse: 3.1299e-04\n",
      "8/8 [==============================] - 0s 2ms/step - loss: 2.4259 - mae: 0.0139 - mse: 2.5898e-04\n",
      "8/8 [==============================] - 0s 2ms/step - loss: 2.4258 - mae: 0.0124 - mse: 2.1859e-04\n"
     ]
    },
    {
     "name": "stderr",
     "output_type": "stream",
     "text": [
      " 61% 30/49 [00:34<00:22,  1.18s/it]"
     ]
    },
    {
     "name": "stdout",
     "output_type": "stream",
     "text": [
      "\n",
      "Epoch 1: saving model to save_models/second_stage_lstm_weights/test_case-train_train-kS_hyper-epoch31.h5\n",
      "8/8 [==============================] - 0s 2ms/step - loss: 2.3966 - mae: 0.0176 - mse: 4.0037e-04\n",
      "8/8 [==============================] - 0s 2ms/step - loss: 2.3965 - mae: 0.0170 - mse: 3.6705e-04\n",
      "8/8 [==============================] - 0s 2ms/step - loss: 2.3965 - mae: 0.0152 - mse: 3.0361e-04\n",
      "8/8 [==============================] - 0s 2ms/step - loss: 2.3964 - mae: 0.0136 - mse: 2.5813e-04\n"
     ]
    },
    {
     "name": "stderr",
     "output_type": "stream",
     "text": [
      " 63% 31/49 [00:35<00:20,  1.15s/it]"
     ]
    },
    {
     "name": "stdout",
     "output_type": "stream",
     "text": [
      "\n",
      "Epoch 1: saving model to save_models/second_stage_lstm_weights/test_case-train_train-kS_hyper-epoch32.h5\n",
      "8/8 [==============================] - 0s 2ms/step - loss: 2.3665 - mae: 0.0160 - mse: 3.4558e-04\n",
      "8/8 [==============================] - 0s 2ms/step - loss: 2.3665 - mae: 0.0154 - mse: 3.1457e-04\n",
      "8/8 [==============================] - 0s 2ms/step - loss: 2.3664 - mae: 0.0136 - mse: 2.5454e-04\n",
      "8/8 [==============================] - 0s 2ms/step - loss: 2.3664 - mae: 0.0121 - mse: 2.1502e-04\n"
     ]
    },
    {
     "name": "stderr",
     "output_type": "stream",
     "text": [
      " 65% 32/49 [00:36<00:19,  1.14s/it]"
     ]
    },
    {
     "name": "stdout",
     "output_type": "stream",
     "text": [
      "\n",
      "Epoch 1: saving model to save_models/second_stage_lstm_weights/test_case-train_train-kS_hyper-epoch33.h5\n",
      "8/8 [==============================] - 0s 2ms/step - loss: 2.3369 - mae: 0.0168 - mse: 3.7558e-04\n",
      "8/8 [==============================] - 0s 1ms/step - loss: 2.3369 - mae: 0.0162 - mse: 3.4375e-04\n",
      "8/8 [==============================] - 0s 2ms/step - loss: 2.3368 - mae: 0.0143 - mse: 2.7956e-04\n",
      "8/8 [==============================] - 0s 2ms/step - loss: 2.3368 - mae: 0.0128 - mse: 2.3699e-04\n"
     ]
    },
    {
     "name": "stderr",
     "output_type": "stream",
     "text": [
      " 67% 33/49 [00:37<00:17,  1.12s/it]"
     ]
    },
    {
     "name": "stdout",
     "output_type": "stream",
     "text": [
      "\n",
      "Epoch 1: saving model to save_models/second_stage_lstm_weights/test_case-train_train-kS_hyper-epoch34.h5\n",
      "8/8 [==============================] - 0s 2ms/step - loss: 2.3111 - mae: 0.0134 - mse: 2.5494e-04\n",
      "8/8 [==============================] - 0s 2ms/step - loss: 2.3111 - mae: 0.0128 - mse: 2.2738e-04\n",
      "8/8 [==============================] - 0s 2ms/step - loss: 2.3111 - mae: 0.0109 - mse: 1.7988e-04\n",
      "8/8 [==============================] - 0s 2ms/step - loss: 2.3110 - mae: 0.0098 - mse: 1.5123e-04\n"
     ]
    },
    {
     "name": "stderr",
     "output_type": "stream",
     "text": [
      " 69% 34/49 [00:38<00:16,  1.11s/it]"
     ]
    },
    {
     "name": "stdout",
     "output_type": "stream",
     "text": [
      "\n",
      "Epoch 1: saving model to save_models/second_stage_lstm_weights/test_case-train_train-kS_hyper-epoch35.h5\n",
      "8/8 [==============================] - 0s 2ms/step - loss: 2.2857 - mae: 0.0132 - mse: 2.4764e-04\n",
      "8/8 [==============================] - 0s 2ms/step - loss: 2.2857 - mae: 0.0126 - mse: 2.2052e-04\n",
      "8/8 [==============================] - 0s 2ms/step - loss: 2.2857 - mae: 0.0107 - mse: 1.7382e-04\n",
      "8/8 [==============================] - 0s 1ms/step - loss: 2.2856 - mae: 0.0096 - mse: 1.4634e-04\n"
     ]
    },
    {
     "name": "stderr",
     "output_type": "stream",
     "text": [
      " 71% 35/49 [00:39<00:16,  1.17s/it]"
     ]
    },
    {
     "name": "stdout",
     "output_type": "stream",
     "text": [
      "\n",
      "Epoch 1: saving model to save_models/second_stage_lstm_weights/test_case-train_train-kS_hyper-epoch36.h5\n",
      "8/8 [==============================] - 0s 2ms/step - loss: 2.2597 - mae: 0.0137 - mse: 2.6538e-04\n",
      "8/8 [==============================] - 0s 2ms/step - loss: 2.2597 - mae: 0.0131 - mse: 2.3796e-04\n",
      "8/8 [==============================] - 0s 2ms/step - loss: 2.2596 - mae: 0.0111 - mse: 1.8701e-04\n",
      "8/8 [==============================] - 0s 2ms/step - loss: 2.2596 - mae: 0.0100 - mse: 1.5760e-04\n"
     ]
    },
    {
     "name": "stderr",
     "output_type": "stream",
     "text": [
      " 73% 36/49 [00:40<00:14,  1.13s/it]"
     ]
    },
    {
     "name": "stdout",
     "output_type": "stream",
     "text": [
      "\n",
      "Epoch 1: saving model to save_models/second_stage_lstm_weights/test_case-train_train-kS_hyper-epoch37.h5\n",
      "8/8 [==============================] - 0s 2ms/step - loss: 2.2334 - mae: 0.0139 - mse: 2.7494e-04\n",
      "8/8 [==============================] - 0s 2ms/step - loss: 2.2334 - mae: 0.0134 - mse: 2.4768e-04\n",
      "8/8 [==============================] - 0s 2ms/step - loss: 2.2333 - mae: 0.0113 - mse: 1.9348e-04\n",
      "8/8 [==============================] - 0s 2ms/step - loss: 2.2333 - mae: 0.0102 - mse: 1.6336e-04\n"
     ]
    },
    {
     "name": "stderr",
     "output_type": "stream",
     "text": [
      " 76% 37/49 [00:41<00:13,  1.12s/it]"
     ]
    },
    {
     "name": "stdout",
     "output_type": "stream",
     "text": [
      "\n",
      "Epoch 1: saving model to save_models/second_stage_lstm_weights/test_case-train_train-kS_hyper-epoch38.h5\n",
      "8/8 [==============================] - 0s 2ms/step - loss: 2.2095 - mae: 0.0166 - mse: 3.8488e-04\n",
      "8/8 [==============================] - 0s 2ms/step - loss: 2.2094 - mae: 0.0162 - mse: 3.5550e-04\n",
      "8/8 [==============================] - 0s 2ms/step - loss: 2.2093 - mae: 0.0138 - mse: 2.7973e-04\n",
      "8/8 [==============================] - 0s 2ms/step - loss: 2.2093 - mae: 0.0126 - mse: 2.3766e-04\n"
     ]
    },
    {
     "name": "stderr",
     "output_type": "stream",
     "text": [
      " 78% 38/49 [00:42<00:12,  1.11s/it]"
     ]
    },
    {
     "name": "stdout",
     "output_type": "stream",
     "text": [
      "\n",
      "Epoch 1: saving model to save_models/second_stage_lstm_weights/test_case-train_train-kS_hyper-epoch39.h5\n",
      "8/8 [==============================] - 0s 2ms/step - loss: 2.1857 - mae: 0.0176 - mse: 4.3017e-04\n",
      "8/8 [==============================] - 0s 2ms/step - loss: 2.1856 - mae: 0.0172 - mse: 4.0077e-04\n",
      "8/8 [==============================] - 0s 2ms/step - loss: 2.1855 - mae: 0.0147 - mse: 3.1467e-04\n",
      "8/8 [==============================] - 0s 2ms/step - loss: 2.1855 - mae: 0.0134 - mse: 2.6849e-04\n"
     ]
    },
    {
     "name": "stderr",
     "output_type": "stream",
     "text": [
      " 80% 39/49 [00:43<00:11,  1.10s/it]"
     ]
    },
    {
     "name": "stdout",
     "output_type": "stream",
     "text": [
      "\n",
      "Epoch 1: saving model to save_models/second_stage_lstm_weights/test_case-train_train-kS_hyper-epoch40.h5\n",
      "8/8 [==============================] - 0s 2ms/step - loss: 2.1610 - mae: 0.0188 - mse: 4.8380e-04\n",
      "8/8 [==============================] - 0s 2ms/step - loss: 2.1610 - mae: 0.0183 - mse: 4.5410e-04\n",
      "8/8 [==============================] - 0s 2ms/step - loss: 2.1609 - mae: 0.0158 - mse: 3.5790e-04\n",
      "8/8 [==============================] - 0s 2ms/step - loss: 2.1608 - mae: 0.0145 - mse: 3.0683e-04\n"
     ]
    },
    {
     "name": "stderr",
     "output_type": "stream",
     "text": [
      " 82% 40/49 [00:45<00:10,  1.17s/it]"
     ]
    },
    {
     "name": "stdout",
     "output_type": "stream",
     "text": [
      "\n",
      "Epoch 1: saving model to save_models/second_stage_lstm_weights/test_case-train_train-kS_hyper-epoch41.h5\n",
      "8/8 [==============================] - 0s 2ms/step - loss: 2.1363 - mae: 0.0176 - mse: 4.3550e-04\n",
      "8/8 [==============================] - 0s 2ms/step - loss: 2.1363 - mae: 0.0173 - mse: 4.0709e-04\n",
      "8/8 [==============================] - 0s 1ms/step - loss: 2.1362 - mae: 0.0147 - mse: 3.1720e-04\n",
      "8/8 [==============================] - 0s 2ms/step - loss: 2.1361 - mae: 0.0134 - mse: 2.7082e-04\n"
     ]
    },
    {
     "name": "stderr",
     "output_type": "stream",
     "text": [
      " 84% 41/49 [00:46<00:09,  1.15s/it]"
     ]
    },
    {
     "name": "stdout",
     "output_type": "stream",
     "text": [
      "\n",
      "Epoch 1: saving model to save_models/second_stage_lstm_weights/test_case-train_train-kS_hyper-epoch42.h5\n",
      "8/8 [==============================] - 0s 2ms/step - loss: 2.1131 - mae: 0.0193 - mse: 5.1610e-04\n",
      "8/8 [==============================] - 0s 2ms/step - loss: 2.1130 - mae: 0.0190 - mse: 4.8747e-04\n",
      "8/8 [==============================] - 0s 1ms/step - loss: 2.1129 - mae: 0.0162 - mse: 3.8154e-04\n",
      "8/8 [==============================] - 0s 1ms/step - loss: 2.1129 - mae: 0.0149 - mse: 3.2798e-04\n"
     ]
    },
    {
     "name": "stderr",
     "output_type": "stream",
     "text": [
      " 86% 42/49 [00:47<00:07,  1.11s/it]"
     ]
    },
    {
     "name": "stdout",
     "output_type": "stream",
     "text": [
      "\n",
      "Epoch 1: saving model to save_models/second_stage_lstm_weights/test_case-train_train-kS_hyper-epoch43.h5\n",
      "8/8 [==============================] - 0s 2ms/step - loss: 2.0897 - mae: 0.0184 - mse: 4.7552e-04\n",
      "8/8 [==============================] - 0s 2ms/step - loss: 2.0896 - mae: 0.0181 - mse: 4.4815e-04\n",
      "8/8 [==============================] - 0s 1ms/step - loss: 2.0895 - mae: 0.0154 - mse: 3.4721e-04\n",
      "8/8 [==============================] - 0s 1ms/step - loss: 2.0895 - mae: 0.0141 - mse: 2.9749e-04\n"
     ]
    },
    {
     "name": "stderr",
     "output_type": "stream",
     "text": [
      " 88% 43/49 [00:48<00:06,  1.09s/it]"
     ]
    },
    {
     "name": "stdout",
     "output_type": "stream",
     "text": [
      "\n",
      "Epoch 1: saving model to save_models/second_stage_lstm_weights/test_case-train_train-kS_hyper-epoch44.h5\n",
      "8/8 [==============================] - 0s 2ms/step - loss: 2.0670 - mae: 0.0171 - mse: 4.1373e-04\n",
      "8/8 [==============================] - 0s 2ms/step - loss: 2.0670 - mae: 0.0168 - mse: 3.8759e-04\n",
      "8/8 [==============================] - 0s 2ms/step - loss: 2.0669 - mae: 0.0142 - mse: 2.9782e-04\n",
      "8/8 [==============================] - 0s 2ms/step - loss: 2.0668 - mae: 0.0128 - mse: 2.5442e-04\n"
     ]
    },
    {
     "name": "stderr",
     "output_type": "stream",
     "text": [
      " 90% 44/49 [00:49<00:05,  1.14s/it]"
     ]
    },
    {
     "name": "stdout",
     "output_type": "stream",
     "text": [
      "\n",
      "Epoch 1: saving model to save_models/second_stage_lstm_weights/test_case-train_train-kS_hyper-epoch45.h5\n",
      "8/8 [==============================] - 0s 2ms/step - loss: 2.0444 - mae: 0.0168 - mse: 4.0350e-04\n",
      "8/8 [==============================] - 0s 1ms/step - loss: 2.0444 - mae: 0.0166 - mse: 3.7750e-04\n",
      "8/8 [==============================] - 0s 1ms/step - loss: 2.0443 - mae: 0.0140 - mse: 2.8999e-04\n",
      "8/8 [==============================] - 0s 2ms/step - loss: 2.0442 - mae: 0.0127 - mse: 2.4771e-04\n"
     ]
    },
    {
     "name": "stderr",
     "output_type": "stream",
     "text": [
      " 92% 45/49 [00:50<00:04,  1.13s/it]"
     ]
    },
    {
     "name": "stdout",
     "output_type": "stream",
     "text": [
      "\n",
      "Epoch 1: saving model to save_models/second_stage_lstm_weights/test_case-train_train-kS_hyper-epoch46.h5\n",
      "8/8 [==============================] - 0s 2ms/step - loss: 2.0217 - mae: 0.0151 - mse: 3.2480e-04\n",
      "8/8 [==============================] - 0s 2ms/step - loss: 2.0217 - mae: 0.0148 - mse: 3.0025e-04\n",
      "8/8 [==============================] - 0s 2ms/step - loss: 2.0216 - mae: 0.0126 - mse: 2.3157e-04\n",
      "8/8 [==============================] - 0s 2ms/step - loss: 2.0216 - mae: 0.0113 - mse: 1.9923e-04\n"
     ]
    },
    {
     "name": "stderr",
     "output_type": "stream",
     "text": [
      " 94% 46/49 [00:51<00:03,  1.12s/it]"
     ]
    },
    {
     "name": "stdout",
     "output_type": "stream",
     "text": [
      "\n",
      "Epoch 1: saving model to save_models/second_stage_lstm_weights/test_case-train_train-kS_hyper-epoch47.h5\n",
      "8/8 [==============================] - 0s 2ms/step - loss: 1.9988 - mae: 0.0162 - mse: 3.7353e-04\n",
      "8/8 [==============================] - 0s 1ms/step - loss: 1.9988 - mae: 0.0160 - mse: 3.4873e-04\n",
      "8/8 [==============================] - 0s 2ms/step - loss: 1.9987 - mae: 0.0135 - mse: 2.6770e-04\n",
      "8/8 [==============================] - 0s 2ms/step - loss: 1.9987 - mae: 0.0122 - mse: 2.2943e-04\n"
     ]
    },
    {
     "name": "stderr",
     "output_type": "stream",
     "text": [
      " 96% 47/49 [00:53<00:02,  1.10s/it]"
     ]
    },
    {
     "name": "stdout",
     "output_type": "stream",
     "text": [
      "\n",
      "Epoch 1: saving model to save_models/second_stage_lstm_weights/test_case-train_train-kS_hyper-epoch48.h5\n",
      "8/8 [==============================] - 0s 2ms/step - loss: 1.9764 - mae: 0.0167 - mse: 3.9513e-04\n",
      "8/8 [==============================] - 0s 2ms/step - loss: 1.9763 - mae: 0.0165 - mse: 3.7069e-04\n",
      "8/8 [==============================] - 0s 2ms/step - loss: 1.9762 - mae: 0.0139 - mse: 2.8441e-04\n",
      "8/8 [==============================] - 0s 2ms/step - loss: 1.9762 - mae: 0.0126 - mse: 2.4405e-04\n"
     ]
    },
    {
     "name": "stderr",
     "output_type": "stream",
     "text": [
      " 98% 48/49 [00:54<00:01,  1.09s/it]"
     ]
    },
    {
     "name": "stdout",
     "output_type": "stream",
     "text": [
      "\n",
      "Epoch 1: saving model to save_models/second_stage_lstm_weights/test_case-train_train-kS_hyper-epoch49.h5\n",
      "8/8 [==============================] - 0s 2ms/step - loss: 1.9549 - mae: 0.0177 - mse: 4.4316e-04\n",
      "8/8 [==============================] - 0s 2ms/step - loss: 1.9549 - mae: 0.0175 - mse: 4.1919e-04\n",
      "8/8 [==============================] - 0s 2ms/step - loss: 1.9548 - mae: 0.0148 - mse: 3.2094e-04\n",
      "8/8 [==============================] - 0s 1ms/step - loss: 1.9548 - mae: 0.0134 - mse: 2.7553e-04\n"
     ]
    },
    {
     "name": "stderr",
     "output_type": "stream",
     "text": [
      "100% 49/49 [00:55<00:00,  1.13s/it]"
     ]
    },
    {
     "name": "stdout",
     "output_type": "stream",
     "text": [
      "time: 55.4 s (started: 2022-11-27 18:23:38 +00:00)\n"
     ]
    },
    {
     "name": "stderr",
     "output_type": "stream",
     "text": [
      "\n"
     ]
    }
   ],
   "source": [
    "res_csv_path = res_dir/f'{output_file_name}{second_stage_lstm_hyper_param}-second_stage_lstm_evaluation.csv'\n",
    "res_csv_path.touch(exist_ok=True)\n",
    "with open(res_csv_path, 'r+') as f:\n",
    "    if not f.read():\n",
    "        f.write(\"epoch,TRAIN_MSE,DEV_MSE,TEST1_MSE,TEST2_MSE,TRAIN_MAE,DEV_MAE,TEST1_MAE,TEST2_MAE\")\n",
    "\n",
    "res_df = pd.read_csv(res_csv_path)\n",
    "saved_model_list = [int(p.stem.split('_')[1]) for p in second_stage_lstm_model_dir.glob('*.h5')]\n",
    "epoch_start = max(saved_model_list) if saved_model_list else 1\n",
    "\n",
    "try:\n",
    "    for epoch_num in tqdm(range(epoch_start, second_stage_lstm_max_epoch)):\n",
    "        if epoch_num > 1:\n",
    "            lstm_model = load_model(second_stage_lstm_model_dir/f\"{output_file_name}{second_stage_lstm_hyper_param}-epoch{epoch_num - 1}.h5\", custom_objects={'double_tanh':double_tanh})\n",
    "\n",
    "        save_model = ModelCheckpoint(second_stage_lstm_model_dir/f\"{output_file_name}{second_stage_lstm_hyper_param}-epoch{epoch_num}.h5\",\n",
    "                                                     monitor='loss', verbose=1, mode='min', save_best_only=False)\n",
    "        lstm_model.fit(second_stage_lstm_train_X, second_stage_lstm_train_Y, epochs=1, batch_size=second_stage_lstm_batch_size, callbacks=[second_stage_lstm_model_log, save_model], shuffle=True, verbose=0)\n",
    "\n",
    "        # test the model\n",
    "        score_train = lstm_model.evaluate(second_stage_lstm_train_X, second_stage_lstm_train_Y)\n",
    "        score_dev = lstm_model.evaluate(second_stage_lstm_dev_X, second_stage_lstm_dev_Y)\n",
    "        score_test1 = lstm_model.evaluate(second_stage_lstm_test1_X, second_stage_lstm_test1_Y)\n",
    "        score_test2 = lstm_model.evaluate(second_stage_lstm_test2_X, second_stage_lstm_test2_Y)\n",
    "        metrics_mse_ind = second_stage_lstm_metrics.index('mse') + 1  # need to plus one, because first term of lstm_model.evaluate() is loss\n",
    "        metrics_mae_ind = second_stage_lstm_metrics.index('mae') + 1  # need to plus one, because first term of lstm_model.evaluate() is loss\n",
    "        res_each_epoch_df = pd.DataFrame(np.array([epoch_num, score_train[metrics_mse_ind], score_dev[metrics_mse_ind],\n",
    "                                                   score_test1[metrics_mse_ind], score_test2[metrics_mse_ind],\n",
    "                                                   score_train[metrics_mae_ind], score_dev[metrics_mae_ind],\n",
    "                                                   score_test1[metrics_mae_ind], score_test2[metrics_mae_ind]]).reshape(-1, 9),\n",
    "                                        columns=[\"epoch\", \"TRAIN_MSE\", \"DEV_MSE\", \"TEST1_MSE\", \n",
    "                                                 \"TEST2_MSE\", \"TRAIN_MAE\", \"DEV_MAE\",\n",
    "                                                 \"TEST1_MAE\",\"TEST2_MAE\"])\n",
    "        res_df = pd.concat([res_df, res_each_epoch_df])\n",
    "        if (res_df.shape[0] % 100) == 0:\n",
    "            res_df.to_csv(res_csv_path, index=False)  # insurance for 『finally』 part doesent'work\n",
    "except Exception as e:\n",
    "    error_class = e.__class__.__name__  # 取得錯誤類型\n",
    "    detail = e.args[0]  # 取得詳細內容\n",
    "    cl, exc, tb = sys.exc_info()  # 取得Call Stack\n",
    "    last_call_stack = traceback.extract_tb(tb)[-1]  # 取得Call Stack的最後一筆資料\n",
    "    file_name = last_call_stack[0]  # 取得發生的檔案名稱\n",
    "    line_num = last_call_stack[1]  # 取得發生的行號\n",
    "    func_name = last_call_stack[2]  # 取得發生的函數名稱\n",
    "    err_msg = \"File \\\"{}\\\", line {}, in {}: [{}] {}\".format(file_name, line_num, func_name, error_class, detail)\n",
    "    logging.error(err_msg)\n",
    "else:\n",
    "    pass\n",
    "finally:\n",
    "    res_df.to_csv(res_csv_path, index=False)"
   ]
  }
 ],
 "metadata": {
  "kernelspec": {
   "display_name": "Python 3 (ipykernel)",
   "language": "python",
   "name": "python3"
  },
  "language_info": {
   "codemirror_mode": {
    "name": "ipython",
    "version": 3
   },
   "file_extension": ".py",
   "mimetype": "text/x-python",
   "name": "python",
   "nbconvert_exporter": "python",
   "pygments_lexer": "ipython3",
   "version": "3.8.10"
  }
 },
 "nbformat": 4,
 "nbformat_minor": 5
}
